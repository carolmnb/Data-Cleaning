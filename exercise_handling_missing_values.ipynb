{
  "metadata": {
    "kernelspec": {
      "language": "python",
      "display_name": "Python 3",
      "name": "python3"
    },
    "language_info": {
      "name": "python",
      "version": "3.7.12",
      "mimetype": "text/x-python",
      "codemirror_mode": {
        "name": "ipython",
        "version": 3
      },
      "pygments_lexer": "ipython3",
      "nbconvert_exporter": "python",
      "file_extension": ".py"
    },
    "colab": {
      "name": "exercise-handling-missing-values.ipynb",
      "provenance": [],
      "include_colab_link": true
    }
  },
  "nbformat_minor": 0,
  "nbformat": 4,
  "cells": [
    {
      "cell_type": "markdown",
      "metadata": {
        "id": "view-in-github",
        "colab_type": "text"
      },
      "source": [
        "<a href=\"https://colab.research.google.com/github/carolmnb/Data-Cleaning/blob/main/exercise_handling_missing_values.ipynb\" target=\"_parent\"><img src=\"https://colab.research.google.com/assets/colab-badge.svg\" alt=\"Open In Colab\"/></a>"
      ]
    },
    {
      "cell_type": "markdown",
      "source": [
        "**This notebook is an exercise in the [Data Cleaning](https://www.kaggle.com/learn/data-cleaning) course.  You can reference the tutorial at [this link](https://www.kaggle.com/alexisbcook/handling-missing-values).**\n",
        "\n",
        "---\n"
      ],
      "metadata": {
        "id": "JeC-oxmjQSHD"
      }
    },
    {
      "cell_type": "markdown",
      "source": [
        "In this exercise, you'll apply what you learned in the **Handling missing values** tutorial.\n",
        "\n",
        "# Setup\n",
        "\n",
        "The questions below will give you feedback on your work. Run the following cell to set up the feedback system."
      ],
      "metadata": {
        "id": "heCT-7oyQSHF"
      }
    },
    {
      "cell_type": "code",
      "source": [
        "from learntools.core import binder\n",
        "binder.bind(globals())\n",
        "from learntools.data_cleaning.ex1 import *\n",
        "print(\"Setup Complete\")"
      ],
      "metadata": {
        "execution": {
          "iopub.status.busy": "2022-02-13T22:08:20.984936Z",
          "iopub.execute_input": "2022-02-13T22:08:20.985272Z",
          "iopub.status.idle": "2022-02-13T22:08:24.615764Z",
          "shell.execute_reply.started": "2022-02-13T22:08:20.985191Z",
          "shell.execute_reply": "2022-02-13T22:08:24.614984Z"
        },
        "trusted": true,
        "id": "N8K33CzPQSHG"
      },
      "execution_count": null,
      "outputs": []
    },
    {
      "cell_type": "markdown",
      "source": [
        "# 1) Take a first look at the data\n",
        "\n",
        "Run the next code cell to load in the libraries and dataset you'll use to complete the exercise."
      ],
      "metadata": {
        "id": "OSVrmUXGQSHJ"
      }
    },
    {
      "cell_type": "markdown",
      "source": [
        "**Licenças de construção emitidas por São Francisco.**\n",
        "\n",
        "Uma licença de construção é um documento de aprovação oficial emitido por uma agência governamental que permite que você ou seu empreiteiro prossiga com um projeto de construção ou reforma em sua propriedade\n",
        "\n",
        "Este conjunto de dados pertence a todos os tipos de licenças estruturais. Os dados incluem detalhes sobre números de solicitação/permissão, endereços de trabalho, distritos de supervisão e o status atual das solicitações. "
      ],
      "metadata": {
        "id": "-CKn3AqPQSHJ"
      }
    },
    {
      "cell_type": "code",
      "source": [
        "# modules we'll use\n",
        "import pandas as pd\n",
        "import numpy as np\n",
        "\n",
        "# read in all our data\n",
        "sf_permits = pd.read_csv(\"../input/building-permit-applications-data/Building_Permits.csv\")\n",
        "\n",
        "# set seed for reproducibility\n",
        "np.random.seed(0) "
      ],
      "metadata": {
        "execution": {
          "iopub.status.busy": "2022-02-13T22:08:27.893625Z",
          "iopub.execute_input": "2022-02-13T22:08:27.893902Z",
          "iopub.status.idle": "2022-02-13T22:08:29.324159Z",
          "shell.execute_reply.started": "2022-02-13T22:08:27.893873Z",
          "shell.execute_reply": "2022-02-13T22:08:29.323214Z"
        },
        "trusted": true,
        "id": "Fj7TIL70QSHK"
      },
      "execution_count": null,
      "outputs": []
    },
    {
      "cell_type": "markdown",
      "source": [
        "Use the code cell below to print the first five rows of the `sf_permits` DataFrame."
      ],
      "metadata": {
        "id": "sANpFBsBQSHK"
      }
    },
    {
      "cell_type": "code",
      "source": [
        "# TODO: Your code here!\n",
        "sf_permits.head()"
      ],
      "metadata": {
        "execution": {
          "iopub.status.busy": "2022-02-13T22:08:32.219770Z",
          "iopub.execute_input": "2022-02-13T22:08:32.220048Z",
          "iopub.status.idle": "2022-02-13T22:08:32.251310Z",
          "shell.execute_reply.started": "2022-02-13T22:08:32.220003Z",
          "shell.execute_reply": "2022-02-13T22:08:32.250449Z"
        },
        "trusted": true,
        "id": "u2tK4U8kQSHL"
      },
      "execution_count": null,
      "outputs": []
    },
    {
      "cell_type": "markdown",
      "source": [
        "Podemos perceber que existem colunas com dados faltantes nesse nosso dataframe, como por exemplo: \"Street Number Suffix\",\"Proposed Construction Type\", \"Proposed Construction Type Description\" e \"Site Permit\"."
      ],
      "metadata": {
        "id": "q2MJG4emQSHM"
      }
    },
    {
      "cell_type": "code",
      "source": [
        "sf_permits.shape"
      ],
      "metadata": {
        "execution": {
          "iopub.status.busy": "2022-02-13T22:08:35.097412Z",
          "iopub.execute_input": "2022-02-13T22:08:35.097684Z",
          "iopub.status.idle": "2022-02-13T22:08:35.102976Z",
          "shell.execute_reply.started": "2022-02-13T22:08:35.097656Z",
          "shell.execute_reply": "2022-02-13T22:08:35.102200Z"
        },
        "trusted": true,
        "id": "2SqGCyvrQSHN"
      },
      "execution_count": null,
      "outputs": []
    },
    {
      "cell_type": "markdown",
      "source": [
        "Nosso dataframe possui 198900 linhas e 43 colunas.. ufa! Bastante dados, não é mesmo?"
      ],
      "metadata": {
        "id": "q6uB50GUQSHO"
      }
    },
    {
      "cell_type": "markdown",
      "source": [
        "Does the dataset have any missing values?  Once you have an answer, run the code cell below to get credit for your work."
      ],
      "metadata": {
        "id": "lFoNNbr-QSHP"
      }
    },
    {
      "cell_type": "code",
      "source": [
        "# Check your answer (Run this code cell to receive credit!)\n",
        "q1.check()"
      ],
      "metadata": {
        "execution": {
          "iopub.status.busy": "2022-02-10T17:46:31.467763Z",
          "iopub.execute_input": "2022-02-10T17:46:31.468269Z",
          "iopub.status.idle": "2022-02-10T17:46:31.481107Z",
          "shell.execute_reply.started": "2022-02-10T17:46:31.46822Z",
          "shell.execute_reply": "2022-02-10T17:46:31.480193Z"
        },
        "trusted": true,
        "id": "bZljHsCEQSHP"
      },
      "execution_count": null,
      "outputs": []
    },
    {
      "cell_type": "code",
      "source": [
        "# Line below will give you a hint\n",
        "#q1.hint()"
      ],
      "metadata": {
        "execution": {
          "iopub.status.busy": "2022-02-10T17:46:31.482559Z",
          "iopub.execute_input": "2022-02-10T17:46:31.482851Z",
          "iopub.status.idle": "2022-02-10T17:46:31.492657Z",
          "shell.execute_reply.started": "2022-02-10T17:46:31.482819Z",
          "shell.execute_reply": "2022-02-10T17:46:31.491956Z"
        },
        "trusted": true,
        "id": "GctLMVVAQSHQ"
      },
      "execution_count": null,
      "outputs": []
    },
    {
      "cell_type": "markdown",
      "source": [
        "# 2) How many missing data points do we have?\n",
        "\n",
        "What percentage of the values in the dataset are missing?  Your answer should be a number between 0 and 100.  (If 1/4 of the values in the dataset are missing, the answer is 25.)"
      ],
      "metadata": {
        "id": "QpMvDbyIQSHR"
      }
    },
    {
      "cell_type": "markdown",
      "source": [
        "Agora vamos contabilizar quantos dados faltantes nós temos e em quais classes."
      ],
      "metadata": {
        "id": "39i6eKDfQSHS"
      }
    },
    {
      "cell_type": "code",
      "source": [
        "# TODO: Your code here!\n",
        "# get the number of missing data points per column\n",
        "missing_values_count = sf_permits.isnull().sum()\n",
        "# look at the # of missing points in the first ten columns\n",
        "missing_values_count[0:43]"
      ],
      "metadata": {
        "execution": {
          "iopub.status.busy": "2022-02-13T22:08:40.822325Z",
          "iopub.execute_input": "2022-02-13T22:08:40.822788Z",
          "iopub.status.idle": "2022-02-13T22:08:41.050014Z",
          "shell.execute_reply.started": "2022-02-13T22:08:40.822753Z",
          "shell.execute_reply": "2022-02-13T22:08:41.049198Z"
        },
        "trusted": true,
        "id": "9vszUs3BQSHT"
      },
      "execution_count": null,
      "outputs": []
    },
    {
      "cell_type": "markdown",
      "source": [
        "Existe uma grande quantidade de dados ausentes em diversas classes.\n",
        "Agora vamos ordenar as classes de forma descrescente de quantidade de dados ausentes."
      ],
      "metadata": {
        "id": "mVO96vCPQSHT"
      }
    },
    {
      "cell_type": "code",
      "source": [
        "# how many total missing values do we have?\n",
        "total_cells = np.product(sf_permits.shape)\n",
        "total_missing = missing_values_count.sum()\n",
        "\n",
        "# percent of data that is missing\n",
        "percent_missing = (total_missing/total_cells) * 100\n",
        "print(percent_missing)\n",
        "\n",
        "# Check your answer\n",
        "q2.check()"
      ],
      "metadata": {
        "execution": {
          "iopub.status.busy": "2022-02-13T22:08:43.880089Z",
          "iopub.execute_input": "2022-02-13T22:08:43.880373Z",
          "iopub.status.idle": "2022-02-13T22:08:43.890270Z",
          "shell.execute_reply.started": "2022-02-13T22:08:43.880344Z",
          "shell.execute_reply": "2022-02-13T22:08:43.889660Z"
        },
        "trusted": true,
        "id": "S8M69iXAQSHU"
      },
      "execution_count": null,
      "outputs": []
    },
    {
      "cell_type": "markdown",
      "source": [
        "Temos um total de 26.26% de dados ausentes em nosso dataset."
      ],
      "metadata": {
        "id": "hnOwefE6QSHU"
      }
    },
    {
      "cell_type": "code",
      "source": [
        "# Lines below will give you a hint or solution code\n",
        "#q2.hint()\n",
        "#q2.solution()"
      ],
      "metadata": {
        "execution": {
          "iopub.status.busy": "2022-02-10T17:46:32.027308Z",
          "iopub.execute_input": "2022-02-10T17:46:32.027835Z",
          "iopub.status.idle": "2022-02-10T17:46:32.032667Z",
          "shell.execute_reply.started": "2022-02-10T17:46:32.027796Z",
          "shell.execute_reply": "2022-02-10T17:46:32.031963Z"
        },
        "trusted": true,
        "id": "zrl-hODMQSHV"
      },
      "execution_count": null,
      "outputs": []
    },
    {
      "cell_type": "markdown",
      "source": [
        "# 3) Figure out why the data is missing\n",
        "\n",
        "Look at the columns **\"Street Number Suffix\"** and **\"Zipcode\"** from the [San Francisco Building Permits dataset](https://www.kaggle.com/aparnashastry/building-permit-applications-data). Both of these contain missing values. \n",
        "- Which, if either, are missing because they don't exist? \n",
        "- Which, if either, are missing because they weren't recorded?  \n",
        "\n",
        "Once you have an answer, run the code cell below."
      ],
      "metadata": {
        "id": "B65ls6x4QSHV"
      }
    },
    {
      "cell_type": "markdown",
      "source": [
        "Agora, vamos descobrir por que temos tantos dados ausentes em \"Street Number Suffix\" e \"Zipcode\".\n",
        "Portanto, temos que responder as seguintes perguntas:\n",
        "* Quais estão faltando por que não existem?\n",
        "* Quais estão faltando por que não foram registrados?\n",
        "\n",
        "Como pode-se notar, \"Street Number Suffix\" é uma das classes que contém os dados mais ausentes de nosso dataset. \n",
        "\n",
        "\"Street Number Suffix\" informação que contém um ou mais caracteres que seguem o número da rua em um endereço de São Fransisco.\n",
        "\"Zipcode\" é o famoso código postal, que conhecemos."
      ],
      "metadata": {
        "id": "B8_iLku8QSHV"
      }
    },
    {
      "cell_type": "markdown",
      "source": [
        "**Porcentagem de dados ausentes em \"Street Number Suffix\" e \"Zipcode\"**"
      ],
      "metadata": {
        "id": "lJzoMYJMQSHW"
      }
    },
    {
      "cell_type": "code",
      "source": [
        "total_lines = sf_permits.shape[0] #pegando a quantidade total de linhas do nosso dataset\n",
        "\n",
        "total_missing1 = (sf_permits['Street Number Suffix'].isnull()).sum() #total de dados ausentes nessa classe\n",
        "total_missing2 = (sf_permits['Zipcode'].isnull()).sum()\n",
        "\n",
        "percent_missing1 = (total_missing1/total_lines)*100 #porcentagem de dados ausentes na classe\n",
        "percent_missing2 = (total_missing2/total_lines)*100 \n",
        "\n",
        "print(\"A percentagem de dados ausentes em Street Number Suffix é\", percent_missing1)\n",
        "print(\"A percentagem de dados ausentes em Zipcode é\", percent_missing2)"
      ],
      "metadata": {
        "execution": {
          "iopub.status.busy": "2022-02-13T22:08:51.750265Z",
          "iopub.execute_input": "2022-02-13T22:08:51.750549Z",
          "iopub.status.idle": "2022-02-13T22:08:51.768668Z",
          "shell.execute_reply.started": "2022-02-13T22:08:51.750516Z",
          "shell.execute_reply": "2022-02-13T22:08:51.767929Z"
        },
        "trusted": true,
        "id": "F7uOFKe8QSHW"
      },
      "execution_count": null,
      "outputs": []
    },
    {
      "cell_type": "markdown",
      "source": [
        "Logo, podemos concluir que em Street Number Suffix, 98.89% dos dados estão ausentes porque não existem.\n",
        "Já em Zipcode, 0.86% dados ausentes podem não ter sido coletados, devido a quantidade ser muito pequena em relação aos dados totais."
      ],
      "metadata": {
        "id": "sIMJvVM8QSHX"
      }
    },
    {
      "cell_type": "code",
      "source": [
        "# Check your answer (Run this code cell to receive credit!)\n",
        "q3.check()"
      ],
      "metadata": {
        "execution": {
          "iopub.status.busy": "2022-02-10T17:46:32.068063Z",
          "iopub.execute_input": "2022-02-10T17:46:32.068863Z",
          "iopub.status.idle": "2022-02-10T17:46:32.081521Z",
          "shell.execute_reply.started": "2022-02-10T17:46:32.068808Z",
          "shell.execute_reply": "2022-02-10T17:46:32.080555Z"
        },
        "trusted": true,
        "id": "tb5Z-imaQSHX"
      },
      "execution_count": null,
      "outputs": []
    },
    {
      "cell_type": "code",
      "source": [
        "# Line below will give you a hint\n",
        "#q3.hint()"
      ],
      "metadata": {
        "execution": {
          "iopub.status.busy": "2022-02-10T17:46:32.083589Z",
          "iopub.execute_input": "2022-02-10T17:46:32.084259Z",
          "iopub.status.idle": "2022-02-10T17:46:32.092182Z",
          "shell.execute_reply.started": "2022-02-10T17:46:32.084203Z",
          "shell.execute_reply": "2022-02-10T17:46:32.090996Z"
        },
        "trusted": true,
        "id": "heQMZvi4QSHX"
      },
      "execution_count": null,
      "outputs": []
    },
    {
      "cell_type": "markdown",
      "source": [
        "# 4) Drop missing values: rows\n",
        "\n",
        "If you removed all of the rows of `sf_permits` with missing values, how many rows are left?\n",
        "\n",
        "**Note**: Do not change the value of `sf_permits` when checking this.  "
      ],
      "metadata": {
        "id": "D2RCxmBUQSHY"
      }
    },
    {
      "cell_type": "markdown",
      "source": [
        "Agora vamos pensar como fazer para eliminar as linhas com os dados ausentes. Primeiro, vamos ver como fica o perfil do nosso dataset ao eliminar todas as linhas com dados ausentes."
      ],
      "metadata": {
        "id": "7f-rSKUXQSHY"
      }
    },
    {
      "cell_type": "code",
      "source": [
        "sf_permits.dropna()"
      ],
      "metadata": {
        "execution": {
          "iopub.status.busy": "2022-02-13T22:09:00.534415Z",
          "iopub.execute_input": "2022-02-13T22:09:00.534677Z",
          "iopub.status.idle": "2022-02-13T22:09:00.793670Z",
          "shell.execute_reply.started": "2022-02-13T22:09:00.534651Z",
          "shell.execute_reply": "2022-02-13T22:09:00.792791Z"
        },
        "trusted": true,
        "id": "dgmEOZK1QSHY"
      },
      "execution_count": null,
      "outputs": []
    },
    {
      "cell_type": "markdown",
      "source": [
        "Ao fazer essa ação, eliminamos praticamente todas as linhas. E por que? Porque em todas as linhas temos dados ausentes. Logo, isso não é o mais indicado a fazer, pois precisamos examinar melhor nosso dataset e averiguar como vamos fazer essa eliminação de dados ausentes sem prejudicar nosso trabalho."
      ],
      "metadata": {
        "id": "ORzDxEv8QSHY"
      }
    },
    {
      "cell_type": "markdown",
      "source": [
        "Once you have an answer, run the code cell below."
      ],
      "metadata": {
        "id": "KK0mlLRkQSHZ"
      }
    },
    {
      "cell_type": "code",
      "source": [
        "# Check your answer (Run this code cell to receive credit!)\n",
        "q4.check()"
      ],
      "metadata": {
        "execution": {
          "iopub.status.busy": "2022-02-10T17:46:32.639842Z",
          "iopub.execute_input": "2022-02-10T17:46:32.640131Z",
          "iopub.status.idle": "2022-02-10T17:46:32.648073Z",
          "shell.execute_reply.started": "2022-02-10T17:46:32.640097Z",
          "shell.execute_reply": "2022-02-10T17:46:32.647376Z"
        },
        "trusted": true,
        "id": "K8da9gNcQSHZ"
      },
      "execution_count": null,
      "outputs": []
    },
    {
      "cell_type": "code",
      "source": [
        "# Line below will give you a hint\n",
        "#q4.hint()"
      ],
      "metadata": {
        "execution": {
          "iopub.status.busy": "2022-02-10T17:46:32.649449Z",
          "iopub.execute_input": "2022-02-10T17:46:32.650156Z",
          "iopub.status.idle": "2022-02-10T17:46:32.65898Z",
          "shell.execute_reply.started": "2022-02-10T17:46:32.650116Z",
          "shell.execute_reply": "2022-02-10T17:46:32.658136Z"
        },
        "trusted": true,
        "id": "McitImqFQSHa"
      },
      "execution_count": null,
      "outputs": []
    },
    {
      "cell_type": "markdown",
      "source": [
        "# 5) Drop missing values: columns\n",
        "\n",
        "Now try removing all the columns with empty values.  \n",
        "- Create a new DataFrame called `sf_permits_with_na_dropped` that has all of the columns with empty values removed.  \n",
        "- How many columns were removed from the original `sf_permits` DataFrame? Use this number to set the value of the `dropped_columns` variable below."
      ],
      "metadata": {
        "id": "alFCZdf4QSHa"
      }
    },
    {
      "cell_type": "code",
      "source": [
        "# TODO: Your code here\n",
        "sf_permits_with_na_dropped = sf_permits.dropna(axis=1)\n",
        "columns_sf_permits = sf_permits.shape[1]\n",
        "columns_na_dropped = sf_permits_with_na_dropped.shape[1]\n",
        "#dropped_columns = sf_permits_with_na_dropped.shape[1]\n",
        "dropped_columns = columns_sf_permits - columns_na_dropped\n",
        "dropped_columns #colunas restantes após a remoção. não entendi essa resposta, pos para mim o correto eraa quantidade removida apenas\n",
        "\n",
        "print('A quantidade de colunas restantes após a remoção das colunas com ao menos um dado ausente é', dropped_columns)\n",
        "#print('Quantidade de colunas no data set original', sf_permits.shape[1])\n",
        "#print('Quantidade de colunas após a remoção das colunas com dados ausentes', dropped_columns)"
      ],
      "metadata": {
        "execution": {
          "iopub.status.busy": "2022-02-13T22:09:10.670418Z",
          "iopub.execute_input": "2022-02-13T22:09:10.671123Z",
          "iopub.status.idle": "2022-02-13T22:09:10.932255Z",
          "shell.execute_reply.started": "2022-02-13T22:09:10.671087Z",
          "shell.execute_reply": "2022-02-13T22:09:10.931425Z"
        },
        "trusted": true,
        "id": "y-c__yp3QSHa"
      },
      "execution_count": null,
      "outputs": []
    },
    {
      "cell_type": "code",
      "source": [
        "# Check your answer\n",
        "q5.check()"
      ],
      "metadata": {
        "execution": {
          "iopub.status.busy": "2022-02-10T17:46:33.196591Z",
          "iopub.execute_input": "2022-02-10T17:46:33.19684Z",
          "iopub.status.idle": "2022-02-10T17:46:33.204618Z",
          "shell.execute_reply.started": "2022-02-10T17:46:33.19681Z",
          "shell.execute_reply": "2022-02-10T17:46:33.204013Z"
        },
        "trusted": true,
        "id": "BHTJ2hk2QSHb"
      },
      "execution_count": null,
      "outputs": []
    },
    {
      "cell_type": "code",
      "source": [
        "# Lines below will give you a hint or solution code\n",
        "#q5.hint()\n",
        "#q5.solution()"
      ],
      "metadata": {
        "execution": {
          "iopub.status.busy": "2022-02-10T17:46:33.205699Z",
          "iopub.execute_input": "2022-02-10T17:46:33.206169Z",
          "iopub.status.idle": "2022-02-10T17:46:33.217396Z",
          "shell.execute_reply.started": "2022-02-10T17:46:33.206123Z",
          "shell.execute_reply": "2022-02-10T17:46:33.216542Z"
        },
        "trusted": true,
        "id": "VXY-7BjwQSHb"
      },
      "execution_count": null,
      "outputs": []
    },
    {
      "cell_type": "markdown",
      "source": [
        "# 6) Fill in missing values automatically\n",
        "\n",
        "Try replacing all the NaN's in the `sf_permits` data with the one that comes directly after it and then replacing any remaining NaN's with 0.  Set the result to a new DataFrame `sf_permits_with_na_imputed`."
      ],
      "metadata": {
        "id": "KRtd0EvoQSHd"
      }
    },
    {
      "cell_type": "markdown",
      "source": [
        "Agora vamos preencher as células com os valores ausentes do nosso dataset. A técnica será preencher todos os NaN's com os valores que aparecem diretamente após esses e os restantes serão substituídos por zero. De acordo com a autora do tutorial 'Isso faz muito sentido para conjuntos de dados em que as observações têm algum tipo de ordem lógica.' Para o nosso caso, ainda precisamos avaliar se isso faz algum sentido.."
      ],
      "metadata": {
        "id": "bWoz3MaaQSHd"
      }
    },
    {
      "cell_type": "code",
      "source": [
        "# TODO: Your code here\n",
        "sf_permits_with_na_imputed = sf_permits.fillna(method='bfill',axis=0).fillna(0)\n",
        "sf_permits_with_na_imputed.head()"
      ],
      "metadata": {
        "execution": {
          "iopub.status.busy": "2022-02-13T22:09:15.986914Z",
          "iopub.execute_input": "2022-02-13T22:09:15.987332Z",
          "iopub.status.idle": "2022-02-13T22:09:16.826898Z",
          "shell.execute_reply.started": "2022-02-13T22:09:15.987282Z",
          "shell.execute_reply": "2022-02-13T22:09:16.825900Z"
        },
        "trusted": true,
        "id": "kyWFqnzhQSHe"
      },
      "execution_count": null,
      "outputs": []
    },
    {
      "cell_type": "code",
      "source": [
        "# Check your answer\n",
        "q6.check()"
      ],
      "metadata": {
        "execution": {
          "iopub.status.busy": "2022-02-10T17:52:50.398038Z",
          "iopub.execute_input": "2022-02-10T17:52:50.398486Z",
          "iopub.status.idle": "2022-02-10T17:52:50.410133Z",
          "shell.execute_reply.started": "2022-02-10T17:52:50.39844Z",
          "shell.execute_reply": "2022-02-10T17:52:50.40933Z"
        },
        "trusted": true,
        "id": "NPks7KswQSHe"
      },
      "execution_count": null,
      "outputs": []
    },
    {
      "cell_type": "code",
      "source": [
        "# Lines below will give you a hint or solution code\n",
        "#q6.hint()\n",
        "#q6.solution()"
      ],
      "metadata": {
        "execution": {
          "iopub.status.busy": "2022-02-10T17:52:22.90925Z",
          "iopub.execute_input": "2022-02-10T17:52:22.909965Z",
          "iopub.status.idle": "2022-02-10T17:52:22.91398Z",
          "shell.execute_reply.started": "2022-02-10T17:52:22.909917Z",
          "shell.execute_reply": "2022-02-10T17:52:22.913045Z"
        },
        "trusted": true,
        "id": "7za2ckiKQSHe"
      },
      "execution_count": null,
      "outputs": []
    },
    {
      "cell_type": "markdown",
      "source": [
        "# More practice\n",
        "\n",
        "If you're looking for more practice handling missing values:\n",
        "\n",
        "* Check out [this noteboook](https://www.kaggle.com/alexisbcook/missing-values) on handling missing values using scikit-learn's imputer. \n",
        "* Look back at the \"Zipcode\" column in the `sf_permits` dataset, which has some missing values. How would you go about figuring out what the actual zipcode of each address should be? (You might try using another dataset. You can search for datasets about San Fransisco on the [Datasets listing](https://www.kaggle.com/datasets).) \n",
        "\n",
        "# Keep going\n",
        "\n",
        "In the next lesson, learn how to [**apply scaling and normalization**](https://www.kaggle.com/alexisbcook/scaling-and-normalization) to transform your data."
      ],
      "metadata": {
        "id": "sm3rJcN0QSHe"
      }
    },
    {
      "cell_type": "markdown",
      "source": [
        "---\n",
        "\n",
        "\n",
        "\n",
        "\n",
        "*Have questions or comments? Visit the [course discussion forum](https://www.kaggle.com/learn/data-cleaning/discussion) to chat with other learners.*"
      ],
      "metadata": {
        "id": "ANsrHZg1QSHf"
      }
    }
  ]
}