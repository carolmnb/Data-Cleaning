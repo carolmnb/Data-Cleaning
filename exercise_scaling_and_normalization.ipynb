{
  "metadata": {
    "kernelspec": {
      "language": "python",
      "display_name": "Python 3",
      "name": "python3"
    },
    "language_info": {
      "name": "python",
      "version": "3.7.12",
      "mimetype": "text/x-python",
      "codemirror_mode": {
        "name": "ipython",
        "version": 3
      },
      "pygments_lexer": "ipython3",
      "nbconvert_exporter": "python",
      "file_extension": ".py"
    },
    "colab": {
      "name": "exercise-scaling-and-normalization.ipynb",
      "provenance": [],
      "include_colab_link": true
    }
  },
  "nbformat_minor": 0,
  "nbformat": 4,
  "cells": [
    {
      "cell_type": "markdown",
      "metadata": {
        "id": "view-in-github",
        "colab_type": "text"
      },
      "source": [
        "<a href=\"https://colab.research.google.com/github/carolmnb/Data-Cleaning/blob/main/exercise_scaling_and_normalization.ipynb\" target=\"_parent\"><img src=\"https://colab.research.google.com/assets/colab-badge.svg\" alt=\"Open In Colab\"/></a>"
      ]
    },
    {
      "cell_type": "markdown",
      "source": [
        "**This notebook is an exercise in the [Data Cleaning](https://www.kaggle.com/learn/data-cleaning) course.  You can reference the tutorial at [this link](https://www.kaggle.com/alexisbcook/scaling-and-normalization).**\n",
        "\n",
        "---\n"
      ],
      "metadata": {
        "id": "R2Nz7P2CRKZG"
      }
    },
    {
      "cell_type": "markdown",
      "source": [
        "In this exercise, you'll apply what you learned in the **Scaling and normalization** tutorial.\n",
        "\n",
        "# Setup\n",
        "\n",
        "The questions below will give you feedback on your work. Run the following cell to set up the feedback system."
      ],
      "metadata": {
        "id": "cL2mlT4jRKZJ"
      }
    },
    {
      "cell_type": "code",
      "source": [
        "from learntools.core import binder\n",
        "binder.bind(globals())\n",
        "from learntools.data_cleaning.ex2 import *\n",
        "print(\"Setup Complete\")"
      ],
      "metadata": {
        "execution": {
          "iopub.status.busy": "2022-02-13T22:00:19.011795Z",
          "iopub.execute_input": "2022-02-13T22:00:19.012505Z",
          "iopub.status.idle": "2022-02-13T22:00:22.564472Z",
          "shell.execute_reply.started": "2022-02-13T22:00:19.012376Z",
          "shell.execute_reply": "2022-02-13T22:00:22.562607Z"
        },
        "trusted": true,
        "id": "zYOYRrgdRKZM"
      },
      "execution_count": null,
      "outputs": []
    },
    {
      "cell_type": "markdown",
      "source": [
        "# Get our environment set up\n",
        "\n",
        "To practice scaling and normalization, we're going to use a [dataset of Kickstarter campaigns](https://www.kaggle.com/kemical/kickstarter-projects). (Kickstarter is a website where people can ask people to invest in various projects and concept products.)\n",
        "\n",
        "The next code cell loads in the libraries and dataset we'll be using. "
      ],
      "metadata": {
        "id": "yWPTQ64FRKZO"
      }
    },
    {
      "cell_type": "markdown",
      "source": [
        "O objetivo do dataset depende do que a pessoa que avaliar, como por exemplo determinar o sucesso das diferentes subcategorias da área de tecnologia na Europa."
      ],
      "metadata": {
        "id": "I90Cf6LyRKZP"
      }
    },
    {
      "cell_type": "code",
      "source": [
        "# modules we'll use\n",
        "import pandas as pd\n",
        "import numpy as np\n",
        "\n",
        "# for Box-Cox Transformation--> transforma nossos dados para que se assemelhe a uma distribuição normal\n",
        "from scipy import stats  \n",
        "\n",
        "# for min_max scaling\n",
        "from mlxtend.preprocessing import minmax_scaling\n",
        "\n",
        "# plotting modules\n",
        "import seaborn as sns\n",
        "import matplotlib.pyplot as plt\n",
        "\n",
        "# read in all our data\n",
        "kickstarters_2017 = pd.read_csv(\"../input/kickstarter-projects/ks-projects-201801.csv\")\n",
        "\n",
        "# set seed for reproducibility\n",
        "np.random.seed(0)"
      ],
      "metadata": {
        "execution": {
          "iopub.status.busy": "2022-02-13T22:00:22.566209Z",
          "iopub.execute_input": "2022-02-13T22:00:22.566468Z",
          "iopub.status.idle": "2022-02-13T22:00:24.090211Z",
          "shell.execute_reply.started": "2022-02-13T22:00:22.566428Z",
          "shell.execute_reply": "2022-02-13T22:00:24.089603Z"
        },
        "trusted": true,
        "id": "3E_JOZJ7RKZQ"
      },
      "execution_count": null,
      "outputs": []
    },
    {
      "cell_type": "code",
      "source": [
        "kickstarters_2017.head()"
      ],
      "metadata": {
        "execution": {
          "iopub.status.busy": "2022-02-13T22:00:24.091340Z",
          "iopub.execute_input": "2022-02-13T22:00:24.092174Z",
          "iopub.status.idle": "2022-02-13T22:00:24.121433Z",
          "shell.execute_reply.started": "2022-02-13T22:00:24.092136Z",
          "shell.execute_reply": "2022-02-13T22:00:24.120418Z"
        },
        "trusted": true,
        "id": "qO-gPZghRKZS"
      },
      "execution_count": null,
      "outputs": []
    },
    {
      "cell_type": "markdown",
      "source": [
        "Let's start by scaling the goals of each campaign, which is how much money they were asking for.  After scaling, all values lie between 0 and 1."
      ],
      "metadata": {
        "id": "H5MBniP8RKZT"
      }
    },
    {
      "cell_type": "code",
      "source": [
        "# select the usd_goal_real column\n",
        "original_data = pd.DataFrame(kickstarters_2017.usd_goal_real)\n",
        "\n",
        "# scale the goals from 0 to 1\n",
        "scaled_data = minmax_scaling(original_data, columns=['usd_goal_real'])\n",
        "\n",
        "print('Original data\\nPreview:\\n', original_data.head())\n",
        "print('Minimum value:', float(original_data.min()),\n",
        "      '\\nMaximum value:', float(original_data.max()))\n",
        "print('_'*30)\n",
        "\n",
        "print('\\nScaled data\\nPreview:\\n', scaled_data.head())\n",
        "print('Minimum value:', float(scaled_data.min()),\n",
        "      '\\nMaximum value:', float(scaled_data.max()))"
      ],
      "metadata": {
        "execution": {
          "iopub.status.busy": "2022-02-13T22:00:24.123734Z",
          "iopub.execute_input": "2022-02-13T22:00:24.124626Z",
          "iopub.status.idle": "2022-02-13T22:00:24.159425Z",
          "shell.execute_reply.started": "2022-02-13T22:00:24.124577Z",
          "shell.execute_reply": "2022-02-13T22:00:24.158464Z"
        },
        "trusted": true,
        "id": "ba61Ah7qRKZU"
      },
      "execution_count": null,
      "outputs": []
    },
    {
      "cell_type": "markdown",
      "source": [
        "# 1) Practice scaling\n",
        "\n",
        "We just scaled the \"usd_goal_real\" column. What about the \"goal\" column?\n",
        "\n",
        "Begin by running the code cell below to create a DataFrame `original_goal_data` containing the \"goal\" column."
      ],
      "metadata": {
        "id": "l9u342TuRKZW"
      }
    },
    {
      "cell_type": "markdown",
      "source": [
        "Agora vamos praticar o scaling em nosso dataset. Vamos aplica-lo na coluna 'goal', que nos informa a meta do valor desejado para que o projeto seja bem sucedido."
      ],
      "metadata": {
        "id": "5jgu-JrmRKZW"
      }
    },
    {
      "cell_type": "code",
      "source": [
        "# select the usd_goal_real column\n",
        "original_goal_data = pd.DataFrame(kickstarters_2017.goal)"
      ],
      "metadata": {
        "execution": {
          "iopub.status.busy": "2022-02-13T22:00:24.160684Z",
          "iopub.execute_input": "2022-02-13T22:00:24.161324Z",
          "iopub.status.idle": "2022-02-13T22:00:24.166111Z",
          "shell.execute_reply.started": "2022-02-13T22:00:24.161286Z",
          "shell.execute_reply": "2022-02-13T22:00:24.165248Z"
        },
        "trusted": true,
        "id": "YXx9wFA8RKZX"
      },
      "execution_count": null,
      "outputs": []
    },
    {
      "cell_type": "markdown",
      "source": [
        "Use `original_goal_data` to create a new DataFrame `scaled_goal_data` with values scaled between 0 and 1. You must use the `minmax_scaling()` function."
      ],
      "metadata": {
        "id": "KX1Y8hfMRKZX"
      }
    },
    {
      "cell_type": "code",
      "source": [
        "# TODO: Your code here\n",
        "scaled_goal_data = minmax_scaling(original_goal_data, columns=['goal'])\n",
        "\n",
        "print('Original data\\nPreview:\\n', original_goal_data.head())\n",
        "print('Minimum value:', float(original_goal_data.min()),\n",
        "      '\\nMaximum value:', float(original_goal_data.max()))\n",
        "print('_'*30)\n",
        "\n",
        "print('\\nScaled data\\nPreview:\\n', scaled_goal_data.head())\n",
        "print('Minimum value:', float(scaled_goal_data.min()),\n",
        "      '\\nMaximum value:', float(scaled_goal_data.max()))\n",
        "\n",
        "# Check your answer\n",
        "q1.check()"
      ],
      "metadata": {
        "execution": {
          "iopub.status.busy": "2022-02-13T22:00:24.167493Z",
          "iopub.execute_input": "2022-02-13T22:00:24.168325Z",
          "iopub.status.idle": "2022-02-13T22:00:24.206331Z",
          "shell.execute_reply.started": "2022-02-13T22:00:24.168278Z",
          "shell.execute_reply": "2022-02-13T22:00:24.205678Z"
        },
        "trusted": true,
        "id": "HgUHwliPRKZY"
      },
      "execution_count": null,
      "outputs": []
    },
    {
      "cell_type": "code",
      "source": [
        "fig, ax = plt.subplots(1, 2, figsize=(15, 3))\n",
        "sns.histplot(original_goal_data, ax=ax[0], kde=True, legend=False)\n",
        "ax[0].set_title(\"Original Goal Data\")\n",
        "sns.histplot(scaled_goal_data, ax=ax[1], kde=True, legend=False)\n",
        "ax[1].set_title(\"Scaled Goal data\")\n",
        "plt.show()"
      ],
      "metadata": {
        "trusted": true,
        "id": "awG_xw-DRKZY"
      },
      "execution_count": null,
      "outputs": []
    },
    {
      "cell_type": "code",
      "source": [
        "# Lines below will give you a hint or solution code\n",
        "#q1.hint()\n",
        "#q1.solution()"
      ],
      "metadata": {
        "execution": {
          "iopub.status.busy": "2022-02-13T22:05:29.381466Z",
          "iopub.status.idle": "2022-02-13T22:05:29.381830Z",
          "shell.execute_reply.started": "2022-02-13T22:05:29.381640Z",
          "shell.execute_reply": "2022-02-13T22:05:29.381662Z"
        },
        "trusted": true,
        "id": "2veXiMCpRKZZ"
      },
      "execution_count": null,
      "outputs": []
    },
    {
      "cell_type": "markdown",
      "source": [
        "# 2) Practice normalization\n",
        "\n",
        "Now you'll practice normalization. We begin by normalizing the amount of money pledged to each campaign."
      ],
      "metadata": {
        "id": "4kc1SYAYRKZZ"
      }
    },
    {
      "cell_type": "code",
      "source": [
        "# get the index of all positive pledges (Box-Cox only takes positive values)\n",
        "index_of_positive_pledges = kickstarters_2017.usd_pledged_real > 0\n",
        "\n",
        "# get only positive pledges (using their indexes)\n",
        "positive_pledges = kickstarters_2017.usd_pledged_real.loc[index_of_positive_pledges]\n",
        "\n",
        "# normalize the pledges (w/ Box-Cox)\n",
        "normalized_pledges = pd.Series(stats.boxcox(positive_pledges)[0], \n",
        "                               name='usd_pledged_real', index=positive_pledges.index)\n",
        "\n",
        "print('Original data\\nPreview:\\n', positive_pledges.head())\n",
        "print('Minimum value:', float(positive_pledges.min()),\n",
        "      '\\nMaximum value:', float(positive_pledges.max()))\n",
        "print('_'*30)\n",
        "\n",
        "print('\\nNormalized data\\nPreview:\\n', normalized_pledges.head())\n",
        "print('Minimum value:', float(normalized_pledges.min()),\n",
        "      '\\nMaximum value:', float(normalized_pledges.max()))"
      ],
      "metadata": {
        "execution": {
          "iopub.status.busy": "2022-02-13T22:05:48.427961Z",
          "iopub.execute_input": "2022-02-13T22:05:48.428717Z",
          "iopub.status.idle": "2022-02-13T22:05:48.659960Z",
          "shell.execute_reply.started": "2022-02-13T22:05:48.428674Z",
          "shell.execute_reply": "2022-02-13T22:05:48.658803Z"
        },
        "trusted": true,
        "id": "4U1kGxrMRKZa"
      },
      "execution_count": null,
      "outputs": []
    },
    {
      "cell_type": "markdown",
      "source": [
        "The values have changed significantly with normalization!\n",
        "\n",
        "In the next code cell, you'll take a look at the distribution of the normalized data, where it should now resemble a normal distribution."
      ],
      "metadata": {
        "id": "hUeKoU7IRKZb"
      }
    },
    {
      "cell_type": "code",
      "source": [
        "# plot normalized data\n",
        "ax = sns.histplot(normalized_pledges, kde=True)\n",
        "ax.set_title(\"Normalized data\")\n",
        "plt.show()"
      ],
      "metadata": {
        "execution": {
          "iopub.status.busy": "2022-02-13T22:05:51.458328Z",
          "iopub.execute_input": "2022-02-13T22:05:51.458638Z",
          "iopub.status.idle": "2022-02-13T22:05:53.661558Z",
          "shell.execute_reply.started": "2022-02-13T22:05:51.458607Z",
          "shell.execute_reply": "2022-02-13T22:05:53.660618Z"
        },
        "trusted": true,
        "id": "1cYFebUxRKZb"
      },
      "execution_count": null,
      "outputs": []
    },
    {
      "cell_type": "markdown",
      "source": [
        "We used the \"usd_pledged_real\" column. Follow the same process to normalize the \"pledged\" column. "
      ],
      "metadata": {
        "id": "crp4WdObRKZb"
      }
    },
    {
      "cell_type": "code",
      "source": [
        "# TODO: Your code here!\n",
        "index_of_positive_pledges2 = kickstarters_2017.pledged > 0\n",
        "positive_pledges2 = kickstarters_2017.pledged.loc[index_of_positive_pledges2]\n",
        "normalized_pledges2 = pd.Series(stats.boxcox(positive_pledges2)[0], \n",
        "                               name='pledged', index=positive_pledges2.index)\n",
        "print('Original data\\nPreview:\\n', positive_pledges2.head())\n",
        "print('Minimum value:', float(positive_pledges2.min()),\n",
        "      '\\nMaximum value:', float(positive_pledges2.max()))\n",
        "print('_'*30)\n",
        "\n",
        "print('\\nNormalized data\\nPreview:\\n', normalized_pledges2.head())\n",
        "print('Minimum value:', float(normalized_pledges2.min()),\n",
        "      '\\nMaximum value:', float(normalized_pledges2.max()))"
      ],
      "metadata": {
        "execution": {
          "iopub.status.busy": "2022-02-13T22:05:56.899405Z",
          "iopub.execute_input": "2022-02-13T22:05:56.900137Z",
          "iopub.status.idle": "2022-02-13T22:05:57.229551Z",
          "shell.execute_reply.started": "2022-02-13T22:05:56.900080Z",
          "shell.execute_reply": "2022-02-13T22:05:57.228550Z"
        },
        "trusted": true,
        "id": "qeYX8EeuRKZc"
      },
      "execution_count": null,
      "outputs": []
    },
    {
      "cell_type": "code",
      "source": [
        "# plot normalized data\n",
        "ax = sns.histplot(normalized_pledges2, kde=True)\n",
        "ax.set_title(\"Normalized data\")\n",
        "plt.show()"
      ],
      "metadata": {
        "execution": {
          "iopub.status.busy": "2022-02-13T22:06:00.695643Z",
          "iopub.execute_input": "2022-02-13T22:06:00.695946Z",
          "iopub.status.idle": "2022-02-13T22:06:02.707583Z",
          "shell.execute_reply.started": "2022-02-13T22:06:00.695914Z",
          "shell.execute_reply": "2022-02-13T22:06:02.706930Z"
        },
        "trusted": true,
        "id": "J5lmE9btRKZc"
      },
      "execution_count": null,
      "outputs": []
    },
    {
      "cell_type": "code",
      "source": [
        "fig, ax=plt.subplots(1, 2, figsize=(15, 3))\n",
        "sns.histplot(normalized_pledges, ax=ax[0], kde=True, legend=False)\n",
        "ax[0].set_title(\"Normalized data1\")\n",
        "sns.histplot(normalized_pledges2, ax=ax[1], kde=True, legend=False)\n",
        "ax[1].set_title(\"Normalized data2\")\n",
        "plt.show()"
      ],
      "metadata": {
        "execution": {
          "iopub.status.busy": "2022-02-13T22:06:05.488514Z",
          "iopub.execute_input": "2022-02-13T22:06:05.489219Z",
          "iopub.status.idle": "2022-02-13T22:06:09.485661Z",
          "shell.execute_reply.started": "2022-02-13T22:06:05.489177Z",
          "shell.execute_reply": "2022-02-13T22:06:09.484839Z"
        },
        "trusted": true,
        "id": "Z_V9AVOMRKZd"
      },
      "execution_count": null,
      "outputs": []
    },
    {
      "cell_type": "markdown",
      "source": [
        "How does the normalized \"usd_pledged_real\" column look different from when we normalized the \"pledged\" column?  Or, do they look mostly the same?\n",
        "\n",
        "Once you have an answer, run the code cell below."
      ],
      "metadata": {
        "id": "b_mtZV3gRKZd"
      }
    },
    {
      "cell_type": "code",
      "source": [
        "# Check your answer (Run this code cell to receive credit!)\n",
        "q2.check()"
      ],
      "metadata": {
        "execution": {
          "iopub.status.busy": "2022-02-13T22:05:29.396085Z",
          "iopub.status.idle": "2022-02-13T22:05:29.396816Z",
          "shell.execute_reply.started": "2022-02-13T22:05:29.396516Z",
          "shell.execute_reply": "2022-02-13T22:05:29.396544Z"
        },
        "trusted": true,
        "id": "1ISzDUgcRKZe"
      },
      "execution_count": null,
      "outputs": []
    },
    {
      "cell_type": "code",
      "source": [
        "# Line below will give you a hint\n",
        "#q2.hint()"
      ],
      "metadata": {
        "execution": {
          "iopub.status.busy": "2022-02-13T22:05:29.398265Z",
          "iopub.status.idle": "2022-02-13T22:05:29.399034Z",
          "shell.execute_reply.started": "2022-02-13T22:05:29.398723Z",
          "shell.execute_reply": "2022-02-13T22:05:29.398751Z"
        },
        "trusted": true,
        "id": "Wd-GNebERKZe"
      },
      "execution_count": null,
      "outputs": []
    },
    {
      "cell_type": "markdown",
      "source": [
        "# (Optional) More practice\n",
        "\n",
        "Try finding a new dataset and pretend you're preparing to perform a [regression analysis](https://www.kaggle.com/rtatman/the-5-day-regression-challenge). \n",
        "\n",
        "[These datasets are a good start!](https://www.kaggle.com/rtatman/datasets-for-regression-analysis)\n",
        "\n",
        "Pick three or four variables and decide if you need to normalize or scale any of them and, if you think you should, practice applying the correct technique.\n",
        "\n",
        "# Keep going\n",
        "\n",
        "In the next lesson, learn how to [**parse dates**](https://www.kaggle.com/alexisbcook/parsing-dates) in a dataset."
      ],
      "metadata": {
        "id": "XNSAd1G1RKZe"
      }
    },
    {
      "cell_type": "markdown",
      "source": [
        "---\n",
        "\n",
        "\n",
        "\n",
        "\n",
        "*Have questions or comments? Visit the [course discussion forum](https://www.kaggle.com/learn/data-cleaning/discussion) to chat with other learners.*"
      ],
      "metadata": {
        "id": "XNH7PELTRKZf"
      }
    }
  ]
}