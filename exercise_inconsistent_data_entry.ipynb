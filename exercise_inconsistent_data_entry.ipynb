{
  "metadata": {
    "kernelspec": {
      "language": "python",
      "display_name": "Python 3",
      "name": "python3"
    },
    "language_info": {
      "name": "python",
      "version": "3.7.12",
      "mimetype": "text/x-python",
      "codemirror_mode": {
        "name": "ipython",
        "version": 3
      },
      "pygments_lexer": "ipython3",
      "nbconvert_exporter": "python",
      "file_extension": ".py"
    },
    "colab": {
      "name": "exercise-inconsistent-data-entry.ipynb",
      "provenance": [],
      "include_colab_link": true
    }
  },
  "nbformat_minor": 0,
  "nbformat": 4,
  "cells": [
    {
      "cell_type": "markdown",
      "metadata": {
        "id": "view-in-github",
        "colab_type": "text"
      },
      "source": [
        "<a href=\"https://colab.research.google.com/github/carolmnb/Data-Cleaning/blob/main/exercise_inconsistent_data_entry.ipynb\" target=\"_parent\"><img src=\"https://colab.research.google.com/assets/colab-badge.svg\" alt=\"Open In Colab\"/></a>"
      ]
    },
    {
      "cell_type": "markdown",
      "source": [
        "**This notebook is an exercise in the [Data Cleaning](https://www.kaggle.com/learn/data-cleaning) course.  You can reference the tutorial at [this link](https://www.kaggle.com/alexisbcook/inconsistent-data-entry).**\n",
        "\n",
        "---\n"
      ],
      "metadata": {
        "id": "ofqstWt6WxvU"
      }
    },
    {
      "cell_type": "markdown",
      "source": [
        "In this exercise, you'll apply what you learned in the **Inconsistent data entry** tutorial.\n",
        "\n",
        "# Setup\n",
        "\n",
        "The questions below will give you feedback on your work. Run the following cell to set up the feedback system."
      ],
      "metadata": {
        "id": "Wfwa6KrjWxvZ"
      }
    },
    {
      "cell_type": "code",
      "source": [
        "from learntools.core import binder\n",
        "binder.bind(globals())\n",
        "from learntools.data_cleaning.ex5 import *\n",
        "print(\"Setup Complete\")"
      ],
      "metadata": {
        "execution": {
          "iopub.status.busy": "2022-02-13T22:10:10.566121Z",
          "iopub.execute_input": "2022-02-13T22:10:10.567167Z",
          "iopub.status.idle": "2022-02-13T22:10:10.691642Z",
          "shell.execute_reply.started": "2022-02-13T22:10:10.567031Z",
          "shell.execute_reply": "2022-02-13T22:10:10.690363Z"
        },
        "trusted": true,
        "id": "a-Xd6WwdWxvb"
      },
      "execution_count": null,
      "outputs": []
    },
    {
      "cell_type": "markdown",
      "source": [
        "# Get our environment set up\n",
        "\n",
        "The first thing we'll need to do is load in the libraries and dataset we'll be using.  We use the same dataset from the tutorial."
      ],
      "metadata": {
        "id": "W2USTCs7Wxvd"
      }
    },
    {
      "cell_type": "code",
      "source": [
        "# modules we'll use\n",
        "import pandas as pd\n",
        "import numpy as np\n",
        "\n",
        "# helpful modules\n",
        "import fuzzywuzzy\n",
        "from fuzzywuzzy import process\n",
        "import chardet\n",
        "\n",
        "# read in all our data\n",
        "professors = pd.read_csv(\"../input/pakistan-intellectual-capital/pakistan_intellectual_capital.csv\")\n",
        "\n",
        "# set seed for reproducibility\n",
        "np.random.seed(0)"
      ],
      "metadata": {
        "execution": {
          "iopub.status.busy": "2022-02-13T22:11:08.059898Z",
          "iopub.execute_input": "2022-02-13T22:11:08.060910Z",
          "iopub.status.idle": "2022-02-13T22:11:08.079481Z",
          "shell.execute_reply.started": "2022-02-13T22:11:08.060865Z",
          "shell.execute_reply": "2022-02-13T22:11:08.078880Z"
        },
        "trusted": true,
        "id": "km7LOoNuWxve"
      },
      "execution_count": null,
      "outputs": []
    },
    {
      "cell_type": "code",
      "source": [
        "professors.head()"
      ],
      "metadata": {
        "execution": {
          "iopub.status.busy": "2022-02-13T22:11:14.197026Z",
          "iopub.execute_input": "2022-02-13T22:11:14.197322Z",
          "iopub.status.idle": "2022-02-13T22:11:14.222764Z",
          "shell.execute_reply.started": "2022-02-13T22:11:14.197294Z",
          "shell.execute_reply": "2022-02-13T22:11:14.222152Z"
        },
        "trusted": true,
        "id": "GAoJDxuQWxvf"
      },
      "execution_count": null,
      "outputs": []
    },
    {
      "cell_type": "markdown",
      "source": [
        "Vamos agora ver quais são os países a que esses professores pertencem. "
      ],
      "metadata": {
        "id": "YnY_mzP-Wxvg"
      }
    },
    {
      "cell_type": "code",
      "source": [
        "# get all the unique values in the 'Country' column\n",
        "countries = professors['Country'].unique()\n",
        "\n",
        "# sort them alphabetically and then take a closer look\n",
        "countries.sort()\n",
        "countries"
      ],
      "metadata": {
        "execution": {
          "iopub.status.busy": "2022-02-13T22:11:17.740261Z",
          "iopub.execute_input": "2022-02-13T22:11:17.740782Z",
          "iopub.status.idle": "2022-02-13T22:11:17.748239Z",
          "shell.execute_reply.started": "2022-02-13T22:11:17.740744Z",
          "shell.execute_reply": "2022-02-13T22:11:17.747600Z"
        },
        "trusted": true,
        "id": "OMySfvh3Wxvh"
      },
      "execution_count": null,
      "outputs": []
    },
    {
      "cell_type": "markdown",
      "source": [
        "Next, we'll redo all of the work that we did in the tutorial."
      ],
      "metadata": {
        "id": "cNXezQwrWxvj"
      }
    },
    {
      "cell_type": "code",
      "source": [
        "# convert to lower case\n",
        "professors['Country'] = professors['Country'].str.lower()\n",
        "#remove trailing white spaces\n",
        "professors['Country'] = professors['Country'].str.strip()\n",
        "\n",
        "# get the top 10 closest matches to \"south korea\"\n",
        "countries = professors['Country'].unique()\n",
        "matches = fuzzywuzzy.process.extract(\"south korea\", countries, limit=10, scorer=fuzzywuzzy.fuzz.token_sort_ratio)\n",
        "\n",
        "def replace_matches_in_column(df, column, string_to_match, min_ratio = 47):\n",
        "    #get a list of unique strings\n",
        "    strings = df[column].unique()\n",
        "    \n",
        "    #get the top 10 closest matches to our input string\n",
        "    matches = fuzzywuzzy.process.extract(string_to_match, strings, \n",
        "                                         limit=10, scorer=fuzzywuzzy.fuzz.token_sort_ratio)\n",
        "\n",
        "    # only get matches with a ratio > 90\n",
        "    close_matches = [matches[0] for matches in matches if matches[1] >= min_ratio]\n",
        "\n",
        "    # get the rows of all the close matches in our dataframe\n",
        "    rows_with_matches = df[column].isin(close_matches)\n",
        "\n",
        "    # replace all rows with close matches with the input matches \n",
        "    df.loc[rows_with_matches, column] = string_to_match\n",
        "    \n",
        "    # let us know the function's done\n",
        "    print(\"All done!\")\n",
        "    \n",
        "replace_matches_in_column(df=professors, column='Country', string_to_match=\"south korea\")\n",
        "countries = professors['Country'].unique()"
      ],
      "metadata": {
        "execution": {
          "iopub.status.busy": "2022-02-13T22:11:21.685219Z",
          "iopub.execute_input": "2022-02-13T22:11:21.685734Z",
          "iopub.status.idle": "2022-02-13T22:11:21.701552Z",
          "shell.execute_reply.started": "2022-02-13T22:11:21.685701Z",
          "shell.execute_reply": "2022-02-13T22:11:21.700882Z"
        },
        "trusted": true,
        "id": "DT4F8WpxWxvk"
      },
      "execution_count": null,
      "outputs": []
    },
    {
      "cell_type": "markdown",
      "source": [
        "# 1) Examine another column\n",
        "\n",
        "Write code below to take a look at all the unique values in the \"Graduated from\" column."
      ],
      "metadata": {
        "id": "Ors1ZIY_Wxvm"
      }
    },
    {
      "cell_type": "code",
      "source": [
        "univs = professors['Graduated from'].unique()"
      ],
      "metadata": {
        "execution": {
          "iopub.status.busy": "2022-02-13T22:11:38.134719Z",
          "iopub.execute_input": "2022-02-13T22:11:38.135308Z",
          "iopub.status.idle": "2022-02-13T22:11:38.139072Z",
          "shell.execute_reply.started": "2022-02-13T22:11:38.135270Z",
          "shell.execute_reply": "2022-02-13T22:11:38.138357Z"
        },
        "trusted": true,
        "id": "DxBPlf2LWxvn"
      },
      "execution_count": null,
      "outputs": []
    },
    {
      "cell_type": "markdown",
      "source": [
        "Do you notice any inconsistencies in the data?  Can any of the inconsistencies in the data be fixed by removing white spaces at the beginning and end of cells?\n",
        "\n",
        "Once you have answered these questions, run the code cell below to get credit for your work."
      ],
      "metadata": {
        "id": "_gnGx3qaWxvo"
      }
    },
    {
      "cell_type": "code",
      "source": [
        "# Check your answer (Run this code cell to receive credit!)\n",
        "q1.check()"
      ],
      "metadata": {
        "execution": {
          "iopub.status.busy": "2022-02-12T21:44:21.148552Z",
          "iopub.execute_input": "2022-02-12T21:44:21.149205Z",
          "iopub.status.idle": "2022-02-12T21:44:21.157978Z",
          "shell.execute_reply.started": "2022-02-12T21:44:21.149162Z",
          "shell.execute_reply": "2022-02-12T21:44:21.157095Z"
        },
        "trusted": true,
        "id": "u77XDiEdWxvp"
      },
      "execution_count": null,
      "outputs": []
    },
    {
      "cell_type": "code",
      "source": [
        "# Line below will give you a hint\n",
        "q1.hint()"
      ],
      "metadata": {
        "execution": {
          "iopub.status.busy": "2022-02-12T21:44:27.763494Z",
          "iopub.execute_input": "2022-02-12T21:44:27.763947Z",
          "iopub.status.idle": "2022-02-12T21:44:27.771529Z",
          "shell.execute_reply.started": "2022-02-12T21:44:27.763911Z",
          "shell.execute_reply": "2022-02-12T21:44:27.770931Z"
        },
        "trusted": true,
        "id": "h7HCnXPeWxvp"
      },
      "execution_count": null,
      "outputs": []
    },
    {
      "cell_type": "markdown",
      "source": [
        "# 2) Do some text pre-processing\n",
        "\n",
        "Convert every entry in the \"Graduated from\" column in the `professors` DataFrame to remove white spaces at the beginning and end of cells."
      ],
      "metadata": {
        "id": "zpVRQzo2Wxvp"
      }
    },
    {
      "cell_type": "code",
      "source": [
        "professors['Graduated from']=professors['Graduated from'].str.strip()"
      ],
      "metadata": {
        "execution": {
          "iopub.status.busy": "2022-02-13T22:11:44.064711Z",
          "iopub.execute_input": "2022-02-13T22:11:44.065023Z",
          "iopub.status.idle": "2022-02-13T22:11:44.071799Z",
          "shell.execute_reply.started": "2022-02-13T22:11:44.064991Z",
          "shell.execute_reply": "2022-02-13T22:11:44.070750Z"
        },
        "trusted": true,
        "id": "LA-e6aRaWxvq"
      },
      "execution_count": null,
      "outputs": []
    },
    {
      "cell_type": "code",
      "source": [
        "# TODO: Your code here\n",
        "# Check your answer\n",
        "q2.check()"
      ],
      "metadata": {
        "execution": {
          "iopub.status.busy": "2022-02-12T21:46:13.788016Z",
          "iopub.execute_input": "2022-02-12T21:46:13.788324Z",
          "iopub.status.idle": "2022-02-12T21:46:13.801322Z",
          "shell.execute_reply.started": "2022-02-12T21:46:13.78829Z",
          "shell.execute_reply": "2022-02-12T21:46:13.800306Z"
        },
        "trusted": true,
        "id": "3DncfuyWWxvr"
      },
      "execution_count": null,
      "outputs": []
    },
    {
      "cell_type": "code",
      "source": [
        "# Lines below will give you a hint or solution code\n",
        "#q2.hint()\n",
        "#q2.solution()"
      ],
      "metadata": {
        "execution": {
          "iopub.status.busy": "2022-02-12T21:29:26.184365Z",
          "iopub.execute_input": "2022-02-12T21:29:26.185276Z",
          "iopub.status.idle": "2022-02-12T21:29:26.197233Z",
          "shell.execute_reply.started": "2022-02-12T21:29:26.185234Z",
          "shell.execute_reply": "2022-02-12T21:29:26.196213Z"
        },
        "trusted": true,
        "id": "f_Mzs--dWxvr"
      },
      "execution_count": null,
      "outputs": []
    },
    {
      "cell_type": "markdown",
      "source": [
        "# 3) Continue working with countries\n",
        "\n",
        "In the tutorial, we focused on cleaning up inconsistencies in the \"Country\" column.  Run the code cell below to view the list of unique values that we ended with."
      ],
      "metadata": {
        "id": "D_9Bi_7HWxvt"
      }
    },
    {
      "cell_type": "code",
      "source": [
        "countries2 = professors['Country'].unique()\n",
        "countries2.sort()\n",
        "countries2"
      ],
      "metadata": {
        "execution": {
          "iopub.status.busy": "2022-02-13T22:11:56.074918Z",
          "iopub.execute_input": "2022-02-13T22:11:56.075576Z",
          "iopub.status.idle": "2022-02-13T22:11:56.084146Z",
          "shell.execute_reply.started": "2022-02-13T22:11:56.075523Z",
          "shell.execute_reply": "2022-02-13T22:11:56.083144Z"
        },
        "trusted": true,
        "id": "rPnPmO77Wxvt"
      },
      "execution_count": null,
      "outputs": []
    },
    {
      "cell_type": "markdown",
      "source": [
        "Take another look at the \"Country\" column and see if there's any more data cleaning we need to do.\n",
        "\n",
        "It looks like 'usa' and 'usofa' should be the same country.  Correct the \"Country\" column in the dataframe to replace 'usofa' with 'usa'.\n",
        "\n",
        "**Use the most recent version of the DataFrame (with the whitespaces at the beginning and end of cells removed) from question 2.**"
      ],
      "metadata": {
        "id": "wPFe1-_4Wxvt"
      }
    },
    {
      "cell_type": "code",
      "source": [
        "matches = fuzzywuzzy.process.extract(\"usa\", countries, limit=10, scorer=fuzzywuzzy.fuzz.token_sort_ratio)\n",
        "replace_matches_in_column(df=professors, column='Country', string_to_match=\"usa\", min_ratio=70)"
      ],
      "metadata": {
        "execution": {
          "iopub.status.busy": "2022-02-13T22:11:58.736762Z",
          "iopub.execute_input": "2022-02-13T22:11:58.737080Z",
          "iopub.status.idle": "2022-02-13T22:11:58.747226Z",
          "shell.execute_reply.started": "2022-02-13T22:11:58.737048Z",
          "shell.execute_reply": "2022-02-13T22:11:58.746236Z"
        },
        "trusted": true,
        "id": "scBKIGSZWxvu"
      },
      "execution_count": null,
      "outputs": []
    },
    {
      "cell_type": "code",
      "source": [
        "# Check your answer\n",
        "q3.check()"
      ],
      "metadata": {
        "execution": {
          "iopub.status.busy": "2022-02-12T21:52:41.528642Z",
          "iopub.execute_input": "2022-02-12T21:52:41.529435Z",
          "iopub.status.idle": "2022-02-12T21:52:41.539222Z",
          "shell.execute_reply.started": "2022-02-12T21:52:41.529379Z",
          "shell.execute_reply": "2022-02-12T21:52:41.538614Z"
        },
        "trusted": true,
        "id": "q9LjmIOjWxvu"
      },
      "execution_count": null,
      "outputs": []
    },
    {
      "cell_type": "code",
      "source": [
        "# Lines below will give you a hint or solution code\n",
        "q3.hint()\n",
        "q3.solution()"
      ],
      "metadata": {
        "execution": {
          "iopub.status.busy": "2022-02-12T21:51:25.038462Z",
          "iopub.execute_input": "2022-02-12T21:51:25.038781Z",
          "iopub.status.idle": "2022-02-12T21:51:25.048931Z",
          "shell.execute_reply.started": "2022-02-12T21:51:25.038744Z",
          "shell.execute_reply": "2022-02-12T21:51:25.048102Z"
        },
        "trusted": true,
        "id": "QP5Rg7wkWxvv"
      },
      "execution_count": null,
      "outputs": []
    },
    {
      "cell_type": "markdown",
      "source": [
        "# Congratulations!\n",
        "\n",
        "Congratulations for completing the **Data Cleaning** course on Kaggle Learn!\n",
        "\n",
        "To practice your new skills, you're encouraged to download and investigate some of [Kaggle's Datasets](https://www.kaggle.com/datasets)."
      ],
      "metadata": {
        "id": "cMSQumWKWxvx"
      }
    },
    {
      "cell_type": "markdown",
      "source": [
        "---\n",
        "\n",
        "\n",
        "\n",
        "\n",
        "*Have questions or comments? Visit the [course discussion forum](https://www.kaggle.com/learn/data-cleaning/discussion) to chat with other learners.*"
      ],
      "metadata": {
        "id": "dZuxOdzaWxvx"
      }
    }
  ]
}