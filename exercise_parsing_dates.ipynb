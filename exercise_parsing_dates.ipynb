{
  "metadata": {
    "kernelspec": {
      "language": "python",
      "display_name": "Python 3",
      "name": "python3"
    },
    "language_info": {
      "name": "python",
      "version": "3.7.12",
      "mimetype": "text/x-python",
      "codemirror_mode": {
        "name": "ipython",
        "version": 3
      },
      "pygments_lexer": "ipython3",
      "nbconvert_exporter": "python",
      "file_extension": ".py"
    },
    "colab": {
      "name": "exercise-parsing-dates.ipynb",
      "provenance": [],
      "include_colab_link": true
    }
  },
  "nbformat_minor": 0,
  "nbformat": 4,
  "cells": [
    {
      "cell_type": "markdown",
      "metadata": {
        "id": "view-in-github",
        "colab_type": "text"
      },
      "source": [
        "<a href=\"https://colab.research.google.com/github/carolmnb/Data-Cleaning/blob/main/exercise_parsing_dates.ipynb\" target=\"_parent\"><img src=\"https://colab.research.google.com/assets/colab-badge.svg\" alt=\"Open In Colab\"/></a>"
      ]
    },
    {
      "cell_type": "markdown",
      "source": [
        "**This notebook is an exercise in the [Data Cleaning](https://www.kaggle.com/learn/data-cleaning) course.  You can reference the tutorial at [this link](https://www.kaggle.com/alexisbcook/parsing-dates).**\n",
        "\n",
        "---\n"
      ],
      "metadata": {
        "id": "xA_vFk92RDDP"
      }
    },
    {
      "cell_type": "markdown",
      "source": [
        "In this exercise, you'll apply what you learned in the **Parsing dates** tutorial.\n",
        "\n",
        "# Setup\n",
        "\n",
        "The questions below will give you feedback on your work. Run the following cell to set up the feedback system."
      ],
      "metadata": {
        "id": "fBBjpofvRDDR"
      }
    },
    {
      "cell_type": "code",
      "source": [
        "from learntools.core import binder\n",
        "binder.bind(globals())\n",
        "from learntools.data_cleaning.ex3 import *\n",
        "print(\"Setup Complete\")"
      ],
      "metadata": {
        "execution": {
          "iopub.status.busy": "2022-02-13T21:59:11.114834Z",
          "iopub.execute_input": "2022-02-13T21:59:11.115156Z",
          "iopub.status.idle": "2022-02-13T21:59:12.325611Z",
          "shell.execute_reply.started": "2022-02-13T21:59:11.115072Z",
          "shell.execute_reply": "2022-02-13T21:59:12.324675Z"
        },
        "trusted": true,
        "id": "GMIVww89RDDU"
      },
      "execution_count": null,
      "outputs": []
    },
    {
      "cell_type": "markdown",
      "source": [
        "# Get our environment set up\n",
        "\n",
        "The first thing we'll need to do is load in the libraries and dataset we'll be using. We'll be working with a dataset containing information on earthquakes that occured between 1965 and 2016."
      ],
      "metadata": {
        "id": "6-ycdpkTRDDW"
      }
    },
    {
      "cell_type": "code",
      "source": [
        "# modules we'll use\n",
        "import pandas as pd\n",
        "import numpy as np\n",
        "import seaborn as sns\n",
        "import datetime\n",
        "\n",
        "# read in our data\n",
        "earthquakes = pd.read_csv(\"../input/earthquake-database/database.csv\")\n",
        "\n",
        "# set seed for reproducibility\n",
        "np.random.seed(0)"
      ],
      "metadata": {
        "execution": {
          "iopub.status.busy": "2022-02-13T21:59:12.327072Z",
          "iopub.execute_input": "2022-02-13T21:59:12.327265Z",
          "iopub.status.idle": "2022-02-13T21:59:12.379368Z",
          "shell.execute_reply.started": "2022-02-13T21:59:12.327243Z",
          "shell.execute_reply": "2022-02-13T21:59:12.378921Z"
        },
        "trusted": true,
        "id": "ggBO1YrNRDDX"
      },
      "execution_count": null,
      "outputs": []
    },
    {
      "cell_type": "markdown",
      "source": [
        "# 1) Check the data type of our date column\n",
        "\n",
        "You'll be working with the \"Date\" column from the `earthquakes` dataframe.  Investigate this column now: does it look like it contains dates?  What is the dtype of the column?"
      ],
      "metadata": {
        "id": "L8-bzZCTRDDY"
      }
    },
    {
      "cell_type": "code",
      "source": [
        "# TODO: Your code here!\n",
        "earthquakes.head()"
      ],
      "metadata": {
        "execution": {
          "iopub.status.busy": "2022-02-13T21:59:12.380535Z",
          "iopub.execute_input": "2022-02-13T21:59:12.380816Z",
          "iopub.status.idle": "2022-02-13T21:59:12.411801Z",
          "shell.execute_reply.started": "2022-02-13T21:59:12.380783Z",
          "shell.execute_reply": "2022-02-13T21:59:12.411132Z"
        },
        "trusted": true,
        "id": "Qxub4U9uRDDZ"
      },
      "execution_count": null,
      "outputs": []
    },
    {
      "cell_type": "markdown",
      "source": [
        "Once you have answered the question above, run the code cell below to get credit for your work."
      ],
      "metadata": {
        "id": "y61wdl4gRDDa"
      }
    },
    {
      "cell_type": "code",
      "source": [
        "print(earthquakes['Date'].head())\n",
        "earthquakes['Date'].dtype"
      ],
      "metadata": {
        "execution": {
          "iopub.status.busy": "2022-02-13T21:59:12.413210Z",
          "iopub.execute_input": "2022-02-13T21:59:12.413521Z",
          "iopub.status.idle": "2022-02-13T21:59:12.419739Z",
          "shell.execute_reply.started": "2022-02-13T21:59:12.413486Z",
          "shell.execute_reply": "2022-02-13T21:59:12.419263Z"
        },
        "trusted": true,
        "id": "WSHx8F9SRDDb"
      },
      "execution_count": null,
      "outputs": []
    },
    {
      "cell_type": "markdown",
      "source": [
        "Podemos ver que a coluna 'Date' não possui formato de data e sim de objeto."
      ],
      "metadata": {
        "id": "aY5IWNzYRDDb"
      }
    },
    {
      "cell_type": "code",
      "source": [
        "# Check your answer (Run this code cell to receive credit!)\n",
        "q1.check()"
      ],
      "metadata": {
        "execution": {
          "iopub.status.busy": "2022-02-13T21:59:12.420831Z",
          "iopub.execute_input": "2022-02-13T21:59:12.421114Z",
          "iopub.status.idle": "2022-02-13T21:59:12.435748Z",
          "shell.execute_reply.started": "2022-02-13T21:59:12.421081Z",
          "shell.execute_reply": "2022-02-13T21:59:12.435020Z"
        },
        "trusted": true,
        "id": "K2WttQLtRDDc"
      },
      "execution_count": null,
      "outputs": []
    },
    {
      "cell_type": "code",
      "source": [
        "# Line below will give you a hint\n",
        "#q1.hint()"
      ],
      "metadata": {
        "execution": {
          "iopub.status.busy": "2022-02-13T21:59:12.436983Z",
          "iopub.execute_input": "2022-02-13T21:59:12.437494Z",
          "iopub.status.idle": "2022-02-13T21:59:12.443632Z",
          "shell.execute_reply.started": "2022-02-13T21:59:12.437464Z",
          "shell.execute_reply": "2022-02-13T21:59:12.442603Z"
        },
        "trusted": true,
        "id": "PaR9BSVNRDDe"
      },
      "execution_count": null,
      "outputs": []
    },
    {
      "cell_type": "markdown",
      "source": [
        "# 2) Convert our date columns to datetime\n",
        "\n",
        "Most of the entries in the \"Date\" column follow the same format: \"month/day/four-digit year\".  However, the entry at index 3378 follows a completely different pattern.  Run the code cell below to see this."
      ],
      "metadata": {
        "id": "1B1KwwDsRDDf"
      }
    },
    {
      "cell_type": "markdown",
      "source": [
        "Existe um índice onde temos um formato estranho da coluna 'Date', vamos ver como esta id se apresenta:"
      ],
      "metadata": {
        "id": "VNzJImzlRDDf"
      }
    },
    {
      "cell_type": "code",
      "source": [
        "earthquakes[3378:3383]"
      ],
      "metadata": {
        "execution": {
          "iopub.status.busy": "2022-02-13T21:59:12.445070Z",
          "iopub.execute_input": "2022-02-13T21:59:12.445289Z",
          "iopub.status.idle": "2022-02-13T21:59:12.475402Z",
          "shell.execute_reply.started": "2022-02-13T21:59:12.445262Z",
          "shell.execute_reply": "2022-02-13T21:59:12.474674Z"
        },
        "trusted": true,
        "id": "0Pl6iDzfRDDg"
      },
      "execution_count": null,
      "outputs": []
    },
    {
      "cell_type": "markdown",
      "source": [
        "This does appear to be an issue with data entry: ideally, all entries in the column have the same format.  We can get an idea of how widespread this issue is by checking the length of each entry in the \"Date\" column."
      ],
      "metadata": {
        "id": "o9wB381GRDDh"
      }
    },
    {
      "cell_type": "code",
      "source": [
        "earthquakes.shape"
      ],
      "metadata": {
        "execution": {
          "iopub.status.busy": "2022-02-13T21:59:12.476410Z",
          "iopub.execute_input": "2022-02-13T21:59:12.476579Z",
          "iopub.status.idle": "2022-02-13T21:59:12.481244Z",
          "shell.execute_reply.started": "2022-02-13T21:59:12.476558Z",
          "shell.execute_reply": "2022-02-13T21:59:12.480550Z"
        },
        "trusted": true,
        "id": "G2G5IaqaRDDh"
      },
      "execution_count": null,
      "outputs": []
    },
    {
      "cell_type": "code",
      "source": [
        "date_lengths = earthquakes.Date.str.len()\n",
        "date_lengths.value_counts()"
      ],
      "metadata": {
        "execution": {
          "iopub.status.busy": "2022-02-13T21:59:12.482122Z",
          "iopub.execute_input": "2022-02-13T21:59:12.482279Z",
          "iopub.status.idle": "2022-02-13T21:59:12.505481Z",
          "shell.execute_reply.started": "2022-02-13T21:59:12.482259Z",
          "shell.execute_reply": "2022-02-13T21:59:12.504762Z"
        },
        "trusted": true,
        "id": "ublKiMEARDDi"
      },
      "execution_count": null,
      "outputs": []
    },
    {
      "cell_type": "markdown",
      "source": [
        "Looks like there are two more rows that has a date in a different format.  Run the code cell below to obtain the indices corresponding to those rows and print the data."
      ],
      "metadata": {
        "id": "kBTIdHkkRDDj"
      }
    },
    {
      "cell_type": "markdown",
      "source": [
        "Temos 23409 indices de mesmo tamanho e 3 ids que estão com tamanhos diferentes. Vamos ver quais ids são esses."
      ],
      "metadata": {
        "id": "LmQtn12mRDDk"
      }
    },
    {
      "cell_type": "code",
      "source": [
        "indices = np.where([date_lengths == 24])[1]\n",
        "print('Indices with corrupted data:', indices)\n",
        "earthquakes.loc[indices]"
      ],
      "metadata": {
        "execution": {
          "iopub.status.busy": "2022-02-13T21:59:12.508256Z",
          "iopub.execute_input": "2022-02-13T21:59:12.508800Z",
          "iopub.status.idle": "2022-02-13T21:59:12.542259Z",
          "shell.execute_reply.started": "2022-02-13T21:59:12.508763Z",
          "shell.execute_reply": "2022-02-13T21:59:12.541389Z"
        },
        "trusted": true,
        "id": "DDZsdRpSRDDk"
      },
      "execution_count": null,
      "outputs": []
    },
    {
      "cell_type": "markdown",
      "source": [
        "Given all of this information, it's your turn to create a new column \"date_parsed\" in the `earthquakes` dataset that has correctly parsed dates in it.  \n",
        "\n",
        "**Note**: When completing this problem, you are allowed to (but are not required to) amend the entries in the \"Date\" and \"Time\" columns.  Do not remove any rows from the dataset."
      ],
      "metadata": {
        "id": "YtF4GCiARDDk"
      }
    },
    {
      "cell_type": "code",
      "source": [
        "# TODO: Your code here\n",
        "earthquakes.loc[3378, 'Date'] =  '02/23/1975'\n",
        "earthquakes.loc[7512, 'Date'] =  '04/28/1985'\n",
        "earthquakes.loc[20650, 'Date'] =  '03/13/2011'\n",
        "\n",
        "earthquakes['date_parsed'] = pd.to_datetime(earthquakes['Date'], format=\"%m/%d/%Y\")\n",
        "\n",
        "# Check your answer\n",
        "q2.check()"
      ],
      "metadata": {
        "execution": {
          "iopub.status.busy": "2022-02-13T21:59:12.543260Z",
          "iopub.execute_input": "2022-02-13T21:59:12.543456Z",
          "iopub.status.idle": "2022-02-13T21:59:12.616944Z",
          "shell.execute_reply.started": "2022-02-13T21:59:12.543431Z",
          "shell.execute_reply": "2022-02-13T21:59:12.616389Z"
        },
        "trusted": true,
        "id": "u6S44qVdRDDl"
      },
      "execution_count": null,
      "outputs": []
    },
    {
      "cell_type": "code",
      "source": [
        "# Lines below will give you a hint or solution code\n",
        "#q2.hint()\n",
        "#q2.solution()"
      ],
      "metadata": {
        "execution": {
          "iopub.status.busy": "2022-02-13T21:59:12.617880Z",
          "iopub.execute_input": "2022-02-13T21:59:12.618166Z",
          "iopub.status.idle": "2022-02-13T21:59:12.624463Z",
          "shell.execute_reply.started": "2022-02-13T21:59:12.618139Z",
          "shell.execute_reply": "2022-02-13T21:59:12.623504Z"
        },
        "trusted": true,
        "id": "okS6dDsmRDDl"
      },
      "execution_count": null,
      "outputs": []
    },
    {
      "cell_type": "markdown",
      "source": [
        "# 3) Select the day of the month\n",
        "\n",
        "Create a Pandas Series `day_of_month_earthquakes` containing the day of the month from the \"date_parsed\" column."
      ],
      "metadata": {
        "id": "VxfxL8qFRDDn"
      }
    },
    {
      "cell_type": "code",
      "source": [
        "# try to get the day of the month from the date column\n",
        "day_of_month_earthquakes = earthquakes['date_parsed'].dt.day\n",
        "day_of_month_earthquakes.head()\n",
        "# Check your answer\n",
        "q3.check()"
      ],
      "metadata": {
        "execution": {
          "iopub.status.busy": "2022-02-13T21:59:12.626134Z",
          "iopub.execute_input": "2022-02-13T21:59:12.626775Z",
          "iopub.status.idle": "2022-02-13T21:59:12.642681Z",
          "shell.execute_reply.started": "2022-02-13T21:59:12.626735Z",
          "shell.execute_reply": "2022-02-13T21:59:12.642130Z"
        },
        "trusted": true,
        "id": "xBsITZcSRDDn"
      },
      "execution_count": null,
      "outputs": []
    },
    {
      "cell_type": "code",
      "source": [
        "day_of_month_earthquakes.head()"
      ],
      "metadata": {
        "execution": {
          "iopub.status.busy": "2022-02-13T21:59:12.643556Z",
          "iopub.execute_input": "2022-02-13T21:59:12.644051Z",
          "iopub.status.idle": "2022-02-13T21:59:12.650531Z",
          "shell.execute_reply.started": "2022-02-13T21:59:12.644021Z",
          "shell.execute_reply": "2022-02-13T21:59:12.649775Z"
        },
        "trusted": true,
        "id": "vXO2FXxNRDDp"
      },
      "execution_count": null,
      "outputs": []
    },
    {
      "cell_type": "code",
      "source": [
        "# Lines below will give you a hint or solution code\n",
        "#q3.hint()\n",
        "#q3.solution()"
      ],
      "metadata": {
        "execution": {
          "iopub.status.busy": "2022-02-13T21:59:12.651876Z",
          "iopub.execute_input": "2022-02-13T21:59:12.652398Z",
          "iopub.status.idle": "2022-02-13T21:59:12.662770Z",
          "shell.execute_reply.started": "2022-02-13T21:59:12.652367Z",
          "shell.execute_reply": "2022-02-13T21:59:12.662231Z"
        },
        "trusted": true,
        "id": "xSaYetJVRDDp"
      },
      "execution_count": null,
      "outputs": []
    },
    {
      "cell_type": "markdown",
      "source": [
        "# 4) Plot the day of the month to check the date parsing\n",
        "\n",
        "Plot the days of the month from your earthquake dataset."
      ],
      "metadata": {
        "id": "XGVhX1eWRDDp"
      }
    },
    {
      "cell_type": "code",
      "source": [
        "# TODO: Your code here!\n",
        "# remove na's\n",
        "day_of_month_earthquakes = day_of_month_earthquakes.dropna()\n",
        "sns.set_theme()\n",
        "sns.distplot(day_of_month_earthquakes, kde=False, bins=31)  #kde=> Se deve plotar uma estimativa \n",
        "                                                            #de densidade de kernel gaussiana."
      ],
      "metadata": {
        "execution": {
          "iopub.status.busy": "2022-02-13T21:59:12.663879Z",
          "iopub.execute_input": "2022-02-13T21:59:12.664152Z",
          "iopub.status.idle": "2022-02-13T21:59:12.958769Z",
          "shell.execute_reply.started": "2022-02-13T21:59:12.664090Z",
          "shell.execute_reply": "2022-02-13T21:59:12.957987Z"
        },
        "trusted": true,
        "id": "EV8_sevVRDDp"
      },
      "execution_count": null,
      "outputs": []
    },
    {
      "cell_type": "markdown",
      "source": [
        "Does the graph make sense to you?"
      ],
      "metadata": {
        "id": "K5ZLGvPpRDDp"
      }
    },
    {
      "cell_type": "markdown",
      "source": [
        "O gráfico faz sentido, e apresentou uma distribuição de terremotos em relação ao dia do mês considerando todos os anos relatados."
      ],
      "metadata": {
        "id": "y8ASMzX7RDDr"
      }
    },
    {
      "cell_type": "code",
      "source": [
        "# Check your answer (Run this code cell to receive credit!)\n",
        "q4.check()"
      ],
      "metadata": {
        "execution": {
          "iopub.status.busy": "2022-02-13T21:59:12.959610Z",
          "iopub.execute_input": "2022-02-13T21:59:12.959805Z",
          "iopub.status.idle": "2022-02-13T21:59:12.968101Z",
          "shell.execute_reply.started": "2022-02-13T21:59:12.959776Z",
          "shell.execute_reply": "2022-02-13T21:59:12.967294Z"
        },
        "trusted": true,
        "id": "179nkAsGRDDr"
      },
      "execution_count": null,
      "outputs": []
    },
    {
      "cell_type": "code",
      "source": [
        "# Line below will give you a hint\n",
        "#q4.hint()"
      ],
      "metadata": {
        "execution": {
          "iopub.status.busy": "2022-02-13T21:59:12.969366Z",
          "iopub.execute_input": "2022-02-13T21:59:12.969575Z",
          "iopub.status.idle": "2022-02-13T21:59:12.976130Z",
          "shell.execute_reply.started": "2022-02-13T21:59:12.969547Z",
          "shell.execute_reply": "2022-02-13T21:59:12.974934Z"
        },
        "trusted": true,
        "id": "J5ObkyASRDDr"
      },
      "execution_count": null,
      "outputs": []
    },
    {
      "cell_type": "markdown",
      "source": [
        "# (Optional) Bonus Challenge\n",
        "\n",
        "For an extra challenge, you'll work with a [Smithsonian dataset](https://www.kaggle.com/smithsonian/volcanic-eruptions) that documents Earth's volcanoes and their eruptive history over the past 10,000 years \n",
        "\n",
        "Run the next code cell to load the data."
      ],
      "metadata": {
        "id": "H-6RjA6-RDDt"
      }
    },
    {
      "cell_type": "code",
      "source": [
        "volcanos = pd.read_csv(\"../input/volcanic-eruptions/database.csv\")"
      ],
      "metadata": {
        "execution": {
          "iopub.status.busy": "2022-02-13T21:59:12.977683Z",
          "iopub.execute_input": "2022-02-13T21:59:12.977945Z",
          "iopub.status.idle": "2022-02-13T21:59:13.002423Z",
          "shell.execute_reply.started": "2022-02-13T21:59:12.977922Z",
          "shell.execute_reply": "2022-02-13T21:59:13.001954Z"
        },
        "trusted": true,
        "id": "FYBe0nhMRDDt"
      },
      "execution_count": null,
      "outputs": []
    },
    {
      "cell_type": "markdown",
      "source": [
        "Try parsing the column \"Last Known Eruption\" from the `volcanos` dataframe. This column contains a mixture of text (\"Unknown\") and years both before the common era (BCE, also known as BC) and in the common era (CE, also known as AD)."
      ],
      "metadata": {
        "id": "tXoMorvyRDDt"
      }
    },
    {
      "cell_type": "code",
      "source": [
        "volcanos['Last Known Eruption'].sample(5)"
      ],
      "metadata": {
        "execution": {
          "iopub.status.busy": "2022-02-13T21:59:13.003280Z",
          "iopub.execute_input": "2022-02-13T21:59:13.003570Z",
          "iopub.status.idle": "2022-02-13T21:59:13.010192Z",
          "shell.execute_reply.started": "2022-02-13T21:59:13.003547Z",
          "shell.execute_reply": "2022-02-13T21:59:13.009166Z"
        },
        "trusted": true,
        "id": "Hxzg_fxgRDDt"
      },
      "execution_count": null,
      "outputs": []
    },
    {
      "cell_type": "markdown",
      "source": [
        "# (Optional) More practice\n",
        "\n",
        "If you're interested in graphing time series, [check out this tutorial](https://www.kaggle.com/residentmario/time-series-plotting-optional).\n",
        "\n",
        "You can also look into passing columns that you know have dates in them  the `parse_dates` argument in `read_csv`. (The documention [is here](https://pandas.pydata.org/pandas-docs/stable/generated/pandas.read_csv.html).) Do note that this method can be very slow, but depending on your needs it may sometimes be handy to use.\n",
        "\n",
        "# Keep going\n",
        "\n",
        "In the next lesson, learn how to [**work with character encodings**](https://www.kaggle.com/alexisbcook/character-encodings)."
      ],
      "metadata": {
        "id": "N1K59GHmRDDt"
      }
    },
    {
      "cell_type": "markdown",
      "source": [
        "---\n",
        "\n",
        "\n",
        "\n",
        "\n",
        "*Have questions or comments? Visit the [course discussion forum](https://www.kaggle.com/learn/data-cleaning/discussion) to chat with other learners.*"
      ],
      "metadata": {
        "id": "tENtuzarRDDv"
      }
    }
  ]
}