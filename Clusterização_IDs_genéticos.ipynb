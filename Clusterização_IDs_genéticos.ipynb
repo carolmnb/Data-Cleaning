{
  "cells": [
    {
      "cell_type": "markdown",
      "metadata": {
        "id": "view-in-github",
        "colab_type": "text"
      },
      "source": [
        "<a href=\"https://colab.research.google.com/github/carolmnb/Data-Science-with-Python/blob/main/Clusteriza%C3%A7%C3%A3o_IDs_gen%C3%A9ticos.ipynb\" target=\"_parent\"><img src=\"https://colab.research.google.com/assets/colab-badge.svg\" alt=\"Open In Colab\"/></a>"
      ]
    },
    {
      "cell_type": "code",
      "execution_count": 1,
      "metadata": {
        "id": "0A5uzviu9cHy",
        "colab": {
          "base_uri": "https://localhost:8080/"
        },
        "outputId": "9c56be22-a4bb-4159-f8e9-d5f340aa4354"
      },
      "outputs": [
        {
          "output_type": "stream",
          "name": "stdout",
          "text": [
            "Collecting kneed\n",
            "  Downloading kneed-0.7.0-py2.py3-none-any.whl (9.4 kB)\n",
            "Requirement already satisfied: numpy>=1.14.2 in /usr/local/lib/python3.7/dist-packages (from kneed) (1.21.5)\n",
            "Requirement already satisfied: matplotlib in /usr/local/lib/python3.7/dist-packages (from kneed) (3.2.2)\n",
            "Requirement already satisfied: scipy in /usr/local/lib/python3.7/dist-packages (from kneed) (1.4.1)\n",
            "Requirement already satisfied: python-dateutil>=2.1 in /usr/local/lib/python3.7/dist-packages (from matplotlib->kneed) (2.8.2)\n",
            "Requirement already satisfied: pyparsing!=2.0.4,!=2.1.2,!=2.1.6,>=2.0.1 in /usr/local/lib/python3.7/dist-packages (from matplotlib->kneed) (3.0.7)\n",
            "Requirement already satisfied: cycler>=0.10 in /usr/local/lib/python3.7/dist-packages (from matplotlib->kneed) (0.11.0)\n",
            "Requirement already satisfied: kiwisolver>=1.0.1 in /usr/local/lib/python3.7/dist-packages (from matplotlib->kneed) (1.4.0)\n",
            "Requirement already satisfied: typing-extensions in /usr/local/lib/python3.7/dist-packages (from kiwisolver>=1.0.1->matplotlib->kneed) (3.10.0.2)\n",
            "Requirement already satisfied: six>=1.5 in /usr/local/lib/python3.7/dist-packages (from python-dateutil>=2.1->matplotlib->kneed) (1.15.0)\n",
            "Installing collected packages: kneed\n",
            "Successfully installed kneed-0.7.0\n"
          ]
        }
      ],
      "source": [
        "import sys\n",
        "import pandas as pd\n",
        "import numpy as np\n",
        "import matplotlib.pyplot as plt\n",
        "import missingno as msno\n",
        "import seaborn as sns; sns.set()\n",
        "!pip install kneed"
      ]
    },
    {
      "cell_type": "markdown",
      "source": [
        "# **Desafio I2A2 - Clusterização de IDs genéticos humanos obtidos de *read counts* a partir de RNA-Seq**\n",
        "*   Aluna: Carolina Bezerra\n",
        "*   Entrega: 03/04/22"
      ],
      "metadata": {
        "id": "X3cLrpPtjdS4"
      }
    },
    {
      "cell_type": "markdown",
      "source": [
        "## 1. Introdução"
      ],
      "metadata": {
        "id": "Bz2x2WQFTxJd"
      }
    },
    {
      "cell_type": "markdown",
      "source": [
        "O DNA é responsavel pela transmissão de caracteristicas de pai para filho. No processo de transcrição e tradução do DNA, as informações nela contidas irão ser passadas para o RNA e reproduzidas em características. O RNA irá realizar uma leitura da fita de DNA e isso irá transcrever todas as informações que estão no DNA. A partir dessa transcrição, as proteínas responsáveis por determinar a função celular irão ser codificadas. Em resumo, a informação contida no DNA irá determinar os resultados do percurso transcrição-tradução, de modo a configurar como as proteínas do corpo irão se comportar. \n",
        "\n",
        "Esse processo transcrição-tradução, conhecido como trasncriptoma, fornece o conjunto completo de transcritos (RNAs mensageiros, RNAs ribossômicos, RNAs transportadores e os microRNAs) de um dado organismo, órgão, tecido ou linhagem celular. A evolução da bioinformática, iniciada com análises de sequenciamento, tem oferecido avanços nessa ciência principalmente nas anotações dos transcriptomas, permitindo a interrelação entre o genoma funcional e a informação codificada.\n",
        "\n",
        "A análise do transcriptoma com RNA-Seq pode ser realizada com ou sem uma sequência genômica de referência. No presente trabalho, tem-se o primeiro caso (conhecido como *reference-guided*) e esta abordagem geralmente é empregada quando estamos analisando genomas microbianos ou eucarióticos “modelo” (ex: Homo sapiens, Mus musculus). No caso da análise *reference-guided*, os resultados do sequenciamento, as leituras (*reads*), são alinhadas contra o genoma e a contagem de leituras (*read counts*) mapeadas em cada gene é usada para medir a sua expressão.\n",
        "\n",
        "A contagem de leituras (*read counts*) fornecem um resumo geral da cobertura do \n",
        "recurso genômico de interesse. Em particular, as contagens em nível de gene de RNA-Seq fornecem um resumo geral do nível de expressão do gene. Uma vez que tenhamos nossas leituras alinhadas ao genoma, o próximo passo é contar quantas leituras foram mapeadas para cada gene.\n",
        "\n",
        "Fontes: \n",
        "* https://medium.com/omixdata/an%C3%A1lise-de-express%C3%A3o-g%C3%AAnica-diferencial-com-rna-seq-reference-guided-43804a500f92\n",
        "* https://slptophp.net/o-que-e-o-transcriptoma/\n",
        "* https://edisciplinas.usp.br/pluginfile.php/5727316/mod_resource/content/0/Palestra-%20Como%20processar%20dados%20de%20RNA-Seq.pdf\n",
        "\n"
      ],
      "metadata": {
        "id": "kC9suJl5KNhY"
      }
    },
    {
      "cell_type": "markdown",
      "source": [
        "## 2. Objetivo\n",
        "\n",
        "Este é um trabalho de aprendizado não-supervisionado cujo objetivo é encontrar semelhança entre pessoas e classifica-las como parentes ou não, com base em suas similaridades genéticas. A base de dados utilizada contém ‘readcounts’ obtidos a partir da atividade genética decorrente da transcrição DNA-RNA de um conjunto de células de diferentes indivíduos. O arquivo possui um total de 65000 genes mapeados em 48 pessoas diferentes."
      ],
      "metadata": {
        "id": "Bx9eS1xd9k_z"
      }
    },
    {
      "cell_type": "markdown",
      "source": [
        "## 3. Compreensão dos dados\n",
        "O conjunto de dados utilizado é um registro de 65000 informações genéticas codificadas que foram previamente mapeadas para 48 pessoas. Essas informações estão codificadas na terminologia ENSGXXXXXXXXX, onde X é apenas um número identificador. Em cada célula da planilha do conjunto de dados tem-se a quantidade de leituras de uma expressão genética ENSGXXXXXXXXX para cada indivíduo, conforme é mostrado abaixo. \n"
      ],
      "metadata": {
        "id": "O5bknN-YGCoo"
      }
    },
    {
      "cell_type": "code",
      "source": [
        "from google.colab import drive\n",
        "drive.mount('/content/drive')"
      ],
      "metadata": {
        "colab": {
          "base_uri": "https://localhost:8080/"
        },
        "id": "xo6sfDabHjzO",
        "outputId": "62c9e127-61da-4189-dcc7-be3afc4d46eb"
      },
      "execution_count": 2,
      "outputs": [
        {
          "output_type": "stream",
          "name": "stdout",
          "text": [
            "Mounted at /content/drive\n"
          ]
        }
      ]
    },
    {
      "cell_type": "code",
      "source": [
        "df = pd.read_excel(\"/content/drive/MyDrive/Colab Notebooks/IPTI_challenges/c4-Mapeamento-Genetico/Ca/readcounts.xlsx\", header=0, index_col=0)"
      ],
      "metadata": {
        "id": "jTbM2kvfHhlz"
      },
      "execution_count": 3,
      "outputs": []
    },
    {
      "cell_type": "code",
      "source": [
        "df.head()"
      ],
      "metadata": {
        "colab": {
          "base_uri": "https://localhost:8080/",
          "height": 279
        },
        "id": "FPF-kpGlRQrh",
        "outputId": "be6f5878-b300-4783-e75b-02a061b84aea"
      },
      "execution_count": null,
      "outputs": [
        {
          "output_type": "execute_result",
          "data": {
            "text/plain": [
              "                 H223  H224  H225  H226  H227  H228  H229  H230  H231  H232  \\\n",
              "ENSG00000000003     0     0     0     1     0     0     0     0     1     0   \n",
              "ENSG00000000005     0     0     0     0     0     0     0     0     0     0   \n",
              "ENSG00000000419  1216  1228  1022   912   491   449   466   727   774   576   \n",
              "ENSG00000000457   189   114   110   289   186   148   169   258   145   131   \n",
              "ENSG00000000460    74    38    55   127    30    17    45   100    33     8   \n",
              "\n",
              "                 ...  H261  H262  H263  H264  H265  H266  H267  H268  H269  \\\n",
              "ENSG00000000003  ...     0     1     0     1     0     2     0     0     1   \n",
              "ENSG00000000005  ...     1     0     0     0     0     0     0     0     0   \n",
              "ENSG00000000419  ...   980   932   360   450   484   926   803   630   537   \n",
              "ENSG00000000457  ...   117   286   137    90   105   275   101    56    87   \n",
              "ENSG00000000460  ...    28   157    34    20    15   139    54    25    21   \n",
              "\n",
              "                 H270  \n",
              "ENSG00000000003     0  \n",
              "ENSG00000000005     0  \n",
              "ENSG00000000419   582  \n",
              "ENSG00000000457    81  \n",
              "ENSG00000000460    47  \n",
              "\n",
              "[5 rows x 48 columns]"
            ],
            "text/html": [
              "\n",
              "  <div id=\"df-dcde278a-138c-45c1-baba-69af82c0b023\">\n",
              "    <div class=\"colab-df-container\">\n",
              "      <div>\n",
              "<style scoped>\n",
              "    .dataframe tbody tr th:only-of-type {\n",
              "        vertical-align: middle;\n",
              "    }\n",
              "\n",
              "    .dataframe tbody tr th {\n",
              "        vertical-align: top;\n",
              "    }\n",
              "\n",
              "    .dataframe thead th {\n",
              "        text-align: right;\n",
              "    }\n",
              "</style>\n",
              "<table border=\"1\" class=\"dataframe\">\n",
              "  <thead>\n",
              "    <tr style=\"text-align: right;\">\n",
              "      <th></th>\n",
              "      <th>H223</th>\n",
              "      <th>H224</th>\n",
              "      <th>H225</th>\n",
              "      <th>H226</th>\n",
              "      <th>H227</th>\n",
              "      <th>H228</th>\n",
              "      <th>H229</th>\n",
              "      <th>H230</th>\n",
              "      <th>H231</th>\n",
              "      <th>H232</th>\n",
              "      <th>...</th>\n",
              "      <th>H261</th>\n",
              "      <th>H262</th>\n",
              "      <th>H263</th>\n",
              "      <th>H264</th>\n",
              "      <th>H265</th>\n",
              "      <th>H266</th>\n",
              "      <th>H267</th>\n",
              "      <th>H268</th>\n",
              "      <th>H269</th>\n",
              "      <th>H270</th>\n",
              "    </tr>\n",
              "  </thead>\n",
              "  <tbody>\n",
              "    <tr>\n",
              "      <th>ENSG00000000003</th>\n",
              "      <td>0</td>\n",
              "      <td>0</td>\n",
              "      <td>0</td>\n",
              "      <td>1</td>\n",
              "      <td>0</td>\n",
              "      <td>0</td>\n",
              "      <td>0</td>\n",
              "      <td>0</td>\n",
              "      <td>1</td>\n",
              "      <td>0</td>\n",
              "      <td>...</td>\n",
              "      <td>0</td>\n",
              "      <td>1</td>\n",
              "      <td>0</td>\n",
              "      <td>1</td>\n",
              "      <td>0</td>\n",
              "      <td>2</td>\n",
              "      <td>0</td>\n",
              "      <td>0</td>\n",
              "      <td>1</td>\n",
              "      <td>0</td>\n",
              "    </tr>\n",
              "    <tr>\n",
              "      <th>ENSG00000000005</th>\n",
              "      <td>0</td>\n",
              "      <td>0</td>\n",
              "      <td>0</td>\n",
              "      <td>0</td>\n",
              "      <td>0</td>\n",
              "      <td>0</td>\n",
              "      <td>0</td>\n",
              "      <td>0</td>\n",
              "      <td>0</td>\n",
              "      <td>0</td>\n",
              "      <td>...</td>\n",
              "      <td>1</td>\n",
              "      <td>0</td>\n",
              "      <td>0</td>\n",
              "      <td>0</td>\n",
              "      <td>0</td>\n",
              "      <td>0</td>\n",
              "      <td>0</td>\n",
              "      <td>0</td>\n",
              "      <td>0</td>\n",
              "      <td>0</td>\n",
              "    </tr>\n",
              "    <tr>\n",
              "      <th>ENSG00000000419</th>\n",
              "      <td>1216</td>\n",
              "      <td>1228</td>\n",
              "      <td>1022</td>\n",
              "      <td>912</td>\n",
              "      <td>491</td>\n",
              "      <td>449</td>\n",
              "      <td>466</td>\n",
              "      <td>727</td>\n",
              "      <td>774</td>\n",
              "      <td>576</td>\n",
              "      <td>...</td>\n",
              "      <td>980</td>\n",
              "      <td>932</td>\n",
              "      <td>360</td>\n",
              "      <td>450</td>\n",
              "      <td>484</td>\n",
              "      <td>926</td>\n",
              "      <td>803</td>\n",
              "      <td>630</td>\n",
              "      <td>537</td>\n",
              "      <td>582</td>\n",
              "    </tr>\n",
              "    <tr>\n",
              "      <th>ENSG00000000457</th>\n",
              "      <td>189</td>\n",
              "      <td>114</td>\n",
              "      <td>110</td>\n",
              "      <td>289</td>\n",
              "      <td>186</td>\n",
              "      <td>148</td>\n",
              "      <td>169</td>\n",
              "      <td>258</td>\n",
              "      <td>145</td>\n",
              "      <td>131</td>\n",
              "      <td>...</td>\n",
              "      <td>117</td>\n",
              "      <td>286</td>\n",
              "      <td>137</td>\n",
              "      <td>90</td>\n",
              "      <td>105</td>\n",
              "      <td>275</td>\n",
              "      <td>101</td>\n",
              "      <td>56</td>\n",
              "      <td>87</td>\n",
              "      <td>81</td>\n",
              "    </tr>\n",
              "    <tr>\n",
              "      <th>ENSG00000000460</th>\n",
              "      <td>74</td>\n",
              "      <td>38</td>\n",
              "      <td>55</td>\n",
              "      <td>127</td>\n",
              "      <td>30</td>\n",
              "      <td>17</td>\n",
              "      <td>45</td>\n",
              "      <td>100</td>\n",
              "      <td>33</td>\n",
              "      <td>8</td>\n",
              "      <td>...</td>\n",
              "      <td>28</td>\n",
              "      <td>157</td>\n",
              "      <td>34</td>\n",
              "      <td>20</td>\n",
              "      <td>15</td>\n",
              "      <td>139</td>\n",
              "      <td>54</td>\n",
              "      <td>25</td>\n",
              "      <td>21</td>\n",
              "      <td>47</td>\n",
              "    </tr>\n",
              "  </tbody>\n",
              "</table>\n",
              "<p>5 rows × 48 columns</p>\n",
              "</div>\n",
              "      <button class=\"colab-df-convert\" onclick=\"convertToInteractive('df-dcde278a-138c-45c1-baba-69af82c0b023')\"\n",
              "              title=\"Convert this dataframe to an interactive table.\"\n",
              "              style=\"display:none;\">\n",
              "        \n",
              "  <svg xmlns=\"http://www.w3.org/2000/svg\" height=\"24px\"viewBox=\"0 0 24 24\"\n",
              "       width=\"24px\">\n",
              "    <path d=\"M0 0h24v24H0V0z\" fill=\"none\"/>\n",
              "    <path d=\"M18.56 5.44l.94 2.06.94-2.06 2.06-.94-2.06-.94-.94-2.06-.94 2.06-2.06.94zm-11 1L8.5 8.5l.94-2.06 2.06-.94-2.06-.94L8.5 2.5l-.94 2.06-2.06.94zm10 10l.94 2.06.94-2.06 2.06-.94-2.06-.94-.94-2.06-.94 2.06-2.06.94z\"/><path d=\"M17.41 7.96l-1.37-1.37c-.4-.4-.92-.59-1.43-.59-.52 0-1.04.2-1.43.59L10.3 9.45l-7.72 7.72c-.78.78-.78 2.05 0 2.83L4 21.41c.39.39.9.59 1.41.59.51 0 1.02-.2 1.41-.59l7.78-7.78 2.81-2.81c.8-.78.8-2.07 0-2.86zM5.41 20L4 18.59l7.72-7.72 1.47 1.35L5.41 20z\"/>\n",
              "  </svg>\n",
              "      </button>\n",
              "      \n",
              "  <style>\n",
              "    .colab-df-container {\n",
              "      display:flex;\n",
              "      flex-wrap:wrap;\n",
              "      gap: 12px;\n",
              "    }\n",
              "\n",
              "    .colab-df-convert {\n",
              "      background-color: #E8F0FE;\n",
              "      border: none;\n",
              "      border-radius: 50%;\n",
              "      cursor: pointer;\n",
              "      display: none;\n",
              "      fill: #1967D2;\n",
              "      height: 32px;\n",
              "      padding: 0 0 0 0;\n",
              "      width: 32px;\n",
              "    }\n",
              "\n",
              "    .colab-df-convert:hover {\n",
              "      background-color: #E2EBFA;\n",
              "      box-shadow: 0px 1px 2px rgba(60, 64, 67, 0.3), 0px 1px 3px 1px rgba(60, 64, 67, 0.15);\n",
              "      fill: #174EA6;\n",
              "    }\n",
              "\n",
              "    [theme=dark] .colab-df-convert {\n",
              "      background-color: #3B4455;\n",
              "      fill: #D2E3FC;\n",
              "    }\n",
              "\n",
              "    [theme=dark] .colab-df-convert:hover {\n",
              "      background-color: #434B5C;\n",
              "      box-shadow: 0px 1px 3px 1px rgba(0, 0, 0, 0.15);\n",
              "      filter: drop-shadow(0px 1px 2px rgba(0, 0, 0, 0.3));\n",
              "      fill: #FFFFFF;\n",
              "    }\n",
              "  </style>\n",
              "\n",
              "      <script>\n",
              "        const buttonEl =\n",
              "          document.querySelector('#df-dcde278a-138c-45c1-baba-69af82c0b023 button.colab-df-convert');\n",
              "        buttonEl.style.display =\n",
              "          google.colab.kernel.accessAllowed ? 'block' : 'none';\n",
              "\n",
              "        async function convertToInteractive(key) {\n",
              "          const element = document.querySelector('#df-dcde278a-138c-45c1-baba-69af82c0b023');\n",
              "          const dataTable =\n",
              "            await google.colab.kernel.invokeFunction('convertToInteractive',\n",
              "                                                     [key], {});\n",
              "          if (!dataTable) return;\n",
              "\n",
              "          const docLinkHtml = 'Like what you see? Visit the ' +\n",
              "            '<a target=\"_blank\" href=https://colab.research.google.com/notebooks/data_table.ipynb>data table notebook</a>'\n",
              "            + ' to learn more about interactive tables.';\n",
              "          element.innerHTML = '';\n",
              "          dataTable['output_type'] = 'display_data';\n",
              "          await google.colab.output.renderOutput(dataTable, element);\n",
              "          const docLink = document.createElement('div');\n",
              "          docLink.innerHTML = docLinkHtml;\n",
              "          element.appendChild(docLink);\n",
              "        }\n",
              "      </script>\n",
              "    </div>\n",
              "  </div>\n",
              "  "
            ]
          },
          "metadata": {},
          "execution_count": 5
        }
      ]
    },
    {
      "cell_type": "markdown",
      "source": [
        "Para mais informações sobre o que representa cada código genético, o usuário pode consultar o banco de dados fornecido pelo website [Ensembl](https://www.ensembl.org/index.html?redirect=no), um navegador de genoma para genomas de vertebrados que suporta pesquisas em genômica comparativa, evolução, variação de sequência e regulação transcricional. "
      ],
      "metadata": {
        "id": "qoXn2wyFROkN"
      }
    },
    {
      "cell_type": "markdown",
      "source": [
        "## 4. Preparação e limpeza dos dados"
      ],
      "metadata": {
        "id": "MliYBRXWdnyS"
      }
    },
    {
      "cell_type": "markdown",
      "source": [
        "Primeiro, o dataset é transposto para que as informações (features) dos dados fiquem armazenadas em colunas."
      ],
      "metadata": {
        "id": "PmU1V_U2RmFf"
      }
    },
    {
      "cell_type": "code",
      "execution_count": 4,
      "metadata": {
        "id": "0d7nYuP19qU_",
        "colab": {
          "base_uri": "https://localhost:8080/"
        },
        "outputId": "3287e2b9-e556-49e1-e913-02e01f71ef82"
      },
      "outputs": [
        {
          "output_type": "stream",
          "name": "stdout",
          "text": [
            "Dimensão do dataset (48, 65215)\n"
          ]
        }
      ],
      "source": [
        "df_T = df.T\n",
        "print(\"Dimensão do dataset\", df_T.shape)"
      ]
    },
    {
      "cell_type": "markdown",
      "source": [
        "Utilizando o método .describe() do pandas, pode-se visualizar alguns dados estatísticos do dataset e ter uma visão geral de como os dados estão descritos. "
      ],
      "metadata": {
        "id": "GKcSXcABS0fH"
      }
    },
    {
      "cell_type": "code",
      "source": [
        "df_T.describe()"
      ],
      "metadata": {
        "colab": {
          "base_uri": "https://localhost:8080/",
          "height": 394
        },
        "id": "xGGXw615G-7a",
        "outputId": "83851248-1335-4a2e-fde8-4f09fa9f67df"
      },
      "execution_count": null,
      "outputs": [
        {
          "output_type": "execute_result",
          "data": {
            "text/plain": [
              "       ENSG00000000003  ENSG00000000005  ENSG00000000419  ENSG00000000457  \\\n",
              "count        48.000000        48.000000        48.000000        48.000000   \n",
              "mean          0.250000         0.041667       709.125000       136.395833   \n",
              "std           0.525924         0.201941       224.728453        62.975760   \n",
              "min           0.000000         0.000000       318.000000        56.000000   \n",
              "25%           0.000000         0.000000       540.750000        90.000000   \n",
              "50%           0.000000         0.000000       686.000000       114.500000   \n",
              "75%           0.000000         0.000000       884.000000       157.000000   \n",
              "max           2.000000         1.000000      1228.000000       289.000000   \n",
              "\n",
              "       ENSG00000000460  ENSG00000000938  ENSG00000000971  ENSG00000001036  \\\n",
              "count        48.000000        48.000000        48.000000        48.000000   \n",
              "mean         44.916667     16644.916667         4.812500       485.333333   \n",
              "std          35.518550     10818.838971         4.979346       392.373049   \n",
              "min           7.000000      3319.000000         0.000000        73.000000   \n",
              "25%          21.000000      8773.750000         1.000000       135.750000   \n",
              "50%          31.500000     11843.000000         3.000000       343.500000   \n",
              "75%          54.000000     27380.500000         8.000000       745.000000   \n",
              "max         157.000000     41846.000000        19.000000      1585.000000   \n",
              "\n",
              "       ENSG00000001084  ENSG00000001167  ...  ENSG00000281913  \\\n",
              "count        48.000000        48.000000  ...             48.0   \n",
              "mean       4616.083333       932.729167  ...              0.0   \n",
              "std        8357.175334       340.895862  ...              0.0   \n",
              "min          51.000000       438.000000  ...              0.0   \n",
              "25%         525.250000       672.750000  ...              0.0   \n",
              "50%        1062.500000       828.500000  ...              0.0   \n",
              "75%        4060.500000      1187.500000  ...              0.0   \n",
              "max       40184.000000      1734.000000  ...              0.0   \n",
              "\n",
              "       ENSG00000281914  ENSG00000281915  ENSG00000281916  ENSG00000281917  \\\n",
              "count             48.0             48.0             48.0             48.0   \n",
              "mean               0.0              0.0              0.0              0.0   \n",
              "std                0.0              0.0              0.0              0.0   \n",
              "min                0.0              0.0              0.0              0.0   \n",
              "25%                0.0              0.0              0.0              0.0   \n",
              "50%                0.0              0.0              0.0              0.0   \n",
              "75%                0.0              0.0              0.0              0.0   \n",
              "max                0.0              0.0              0.0              0.0   \n",
              "\n",
              "       ENSG00000281918  ENSG00000281919  ENSG00000281920  ENSG00000281921  \\\n",
              "count        48.000000             48.0        48.000000             48.0   \n",
              "mean          0.041667              0.0         0.020833              0.0   \n",
              "std           0.201941              0.0         0.144338              0.0   \n",
              "min           0.000000              0.0         0.000000              0.0   \n",
              "25%           0.000000              0.0         0.000000              0.0   \n",
              "50%           0.000000              0.0         0.000000              0.0   \n",
              "75%           0.000000              0.0         0.000000              0.0   \n",
              "max           1.000000              0.0         1.000000              0.0   \n",
              "\n",
              "       ENSG00000281922  \n",
              "count             48.0  \n",
              "mean               0.0  \n",
              "std                0.0  \n",
              "min                0.0  \n",
              "25%                0.0  \n",
              "50%                0.0  \n",
              "75%                0.0  \n",
              "max                0.0  \n",
              "\n",
              "[8 rows x 65215 columns]"
            ],
            "text/html": [
              "\n",
              "  <div id=\"df-20d34ec9-8b0c-40d4-b69e-f0e078f9632e\">\n",
              "    <div class=\"colab-df-container\">\n",
              "      <div>\n",
              "<style scoped>\n",
              "    .dataframe tbody tr th:only-of-type {\n",
              "        vertical-align: middle;\n",
              "    }\n",
              "\n",
              "    .dataframe tbody tr th {\n",
              "        vertical-align: top;\n",
              "    }\n",
              "\n",
              "    .dataframe thead th {\n",
              "        text-align: right;\n",
              "    }\n",
              "</style>\n",
              "<table border=\"1\" class=\"dataframe\">\n",
              "  <thead>\n",
              "    <tr style=\"text-align: right;\">\n",
              "      <th></th>\n",
              "      <th>ENSG00000000003</th>\n",
              "      <th>ENSG00000000005</th>\n",
              "      <th>ENSG00000000419</th>\n",
              "      <th>ENSG00000000457</th>\n",
              "      <th>ENSG00000000460</th>\n",
              "      <th>ENSG00000000938</th>\n",
              "      <th>ENSG00000000971</th>\n",
              "      <th>ENSG00000001036</th>\n",
              "      <th>ENSG00000001084</th>\n",
              "      <th>ENSG00000001167</th>\n",
              "      <th>...</th>\n",
              "      <th>ENSG00000281913</th>\n",
              "      <th>ENSG00000281914</th>\n",
              "      <th>ENSG00000281915</th>\n",
              "      <th>ENSG00000281916</th>\n",
              "      <th>ENSG00000281917</th>\n",
              "      <th>ENSG00000281918</th>\n",
              "      <th>ENSG00000281919</th>\n",
              "      <th>ENSG00000281920</th>\n",
              "      <th>ENSG00000281921</th>\n",
              "      <th>ENSG00000281922</th>\n",
              "    </tr>\n",
              "  </thead>\n",
              "  <tbody>\n",
              "    <tr>\n",
              "      <th>count</th>\n",
              "      <td>48.000000</td>\n",
              "      <td>48.000000</td>\n",
              "      <td>48.000000</td>\n",
              "      <td>48.000000</td>\n",
              "      <td>48.000000</td>\n",
              "      <td>48.000000</td>\n",
              "      <td>48.000000</td>\n",
              "      <td>48.000000</td>\n",
              "      <td>48.000000</td>\n",
              "      <td>48.000000</td>\n",
              "      <td>...</td>\n",
              "      <td>48.0</td>\n",
              "      <td>48.0</td>\n",
              "      <td>48.0</td>\n",
              "      <td>48.0</td>\n",
              "      <td>48.0</td>\n",
              "      <td>48.000000</td>\n",
              "      <td>48.0</td>\n",
              "      <td>48.000000</td>\n",
              "      <td>48.0</td>\n",
              "      <td>48.0</td>\n",
              "    </tr>\n",
              "    <tr>\n",
              "      <th>mean</th>\n",
              "      <td>0.250000</td>\n",
              "      <td>0.041667</td>\n",
              "      <td>709.125000</td>\n",
              "      <td>136.395833</td>\n",
              "      <td>44.916667</td>\n",
              "      <td>16644.916667</td>\n",
              "      <td>4.812500</td>\n",
              "      <td>485.333333</td>\n",
              "      <td>4616.083333</td>\n",
              "      <td>932.729167</td>\n",
              "      <td>...</td>\n",
              "      <td>0.0</td>\n",
              "      <td>0.0</td>\n",
              "      <td>0.0</td>\n",
              "      <td>0.0</td>\n",
              "      <td>0.0</td>\n",
              "      <td>0.041667</td>\n",
              "      <td>0.0</td>\n",
              "      <td>0.020833</td>\n",
              "      <td>0.0</td>\n",
              "      <td>0.0</td>\n",
              "    </tr>\n",
              "    <tr>\n",
              "      <th>std</th>\n",
              "      <td>0.525924</td>\n",
              "      <td>0.201941</td>\n",
              "      <td>224.728453</td>\n",
              "      <td>62.975760</td>\n",
              "      <td>35.518550</td>\n",
              "      <td>10818.838971</td>\n",
              "      <td>4.979346</td>\n",
              "      <td>392.373049</td>\n",
              "      <td>8357.175334</td>\n",
              "      <td>340.895862</td>\n",
              "      <td>...</td>\n",
              "      <td>0.0</td>\n",
              "      <td>0.0</td>\n",
              "      <td>0.0</td>\n",
              "      <td>0.0</td>\n",
              "      <td>0.0</td>\n",
              "      <td>0.201941</td>\n",
              "      <td>0.0</td>\n",
              "      <td>0.144338</td>\n",
              "      <td>0.0</td>\n",
              "      <td>0.0</td>\n",
              "    </tr>\n",
              "    <tr>\n",
              "      <th>min</th>\n",
              "      <td>0.000000</td>\n",
              "      <td>0.000000</td>\n",
              "      <td>318.000000</td>\n",
              "      <td>56.000000</td>\n",
              "      <td>7.000000</td>\n",
              "      <td>3319.000000</td>\n",
              "      <td>0.000000</td>\n",
              "      <td>73.000000</td>\n",
              "      <td>51.000000</td>\n",
              "      <td>438.000000</td>\n",
              "      <td>...</td>\n",
              "      <td>0.0</td>\n",
              "      <td>0.0</td>\n",
              "      <td>0.0</td>\n",
              "      <td>0.0</td>\n",
              "      <td>0.0</td>\n",
              "      <td>0.000000</td>\n",
              "      <td>0.0</td>\n",
              "      <td>0.000000</td>\n",
              "      <td>0.0</td>\n",
              "      <td>0.0</td>\n",
              "    </tr>\n",
              "    <tr>\n",
              "      <th>25%</th>\n",
              "      <td>0.000000</td>\n",
              "      <td>0.000000</td>\n",
              "      <td>540.750000</td>\n",
              "      <td>90.000000</td>\n",
              "      <td>21.000000</td>\n",
              "      <td>8773.750000</td>\n",
              "      <td>1.000000</td>\n",
              "      <td>135.750000</td>\n",
              "      <td>525.250000</td>\n",
              "      <td>672.750000</td>\n",
              "      <td>...</td>\n",
              "      <td>0.0</td>\n",
              "      <td>0.0</td>\n",
              "      <td>0.0</td>\n",
              "      <td>0.0</td>\n",
              "      <td>0.0</td>\n",
              "      <td>0.000000</td>\n",
              "      <td>0.0</td>\n",
              "      <td>0.000000</td>\n",
              "      <td>0.0</td>\n",
              "      <td>0.0</td>\n",
              "    </tr>\n",
              "    <tr>\n",
              "      <th>50%</th>\n",
              "      <td>0.000000</td>\n",
              "      <td>0.000000</td>\n",
              "      <td>686.000000</td>\n",
              "      <td>114.500000</td>\n",
              "      <td>31.500000</td>\n",
              "      <td>11843.000000</td>\n",
              "      <td>3.000000</td>\n",
              "      <td>343.500000</td>\n",
              "      <td>1062.500000</td>\n",
              "      <td>828.500000</td>\n",
              "      <td>...</td>\n",
              "      <td>0.0</td>\n",
              "      <td>0.0</td>\n",
              "      <td>0.0</td>\n",
              "      <td>0.0</td>\n",
              "      <td>0.0</td>\n",
              "      <td>0.000000</td>\n",
              "      <td>0.0</td>\n",
              "      <td>0.000000</td>\n",
              "      <td>0.0</td>\n",
              "      <td>0.0</td>\n",
              "    </tr>\n",
              "    <tr>\n",
              "      <th>75%</th>\n",
              "      <td>0.000000</td>\n",
              "      <td>0.000000</td>\n",
              "      <td>884.000000</td>\n",
              "      <td>157.000000</td>\n",
              "      <td>54.000000</td>\n",
              "      <td>27380.500000</td>\n",
              "      <td>8.000000</td>\n",
              "      <td>745.000000</td>\n",
              "      <td>4060.500000</td>\n",
              "      <td>1187.500000</td>\n",
              "      <td>...</td>\n",
              "      <td>0.0</td>\n",
              "      <td>0.0</td>\n",
              "      <td>0.0</td>\n",
              "      <td>0.0</td>\n",
              "      <td>0.0</td>\n",
              "      <td>0.000000</td>\n",
              "      <td>0.0</td>\n",
              "      <td>0.000000</td>\n",
              "      <td>0.0</td>\n",
              "      <td>0.0</td>\n",
              "    </tr>\n",
              "    <tr>\n",
              "      <th>max</th>\n",
              "      <td>2.000000</td>\n",
              "      <td>1.000000</td>\n",
              "      <td>1228.000000</td>\n",
              "      <td>289.000000</td>\n",
              "      <td>157.000000</td>\n",
              "      <td>41846.000000</td>\n",
              "      <td>19.000000</td>\n",
              "      <td>1585.000000</td>\n",
              "      <td>40184.000000</td>\n",
              "      <td>1734.000000</td>\n",
              "      <td>...</td>\n",
              "      <td>0.0</td>\n",
              "      <td>0.0</td>\n",
              "      <td>0.0</td>\n",
              "      <td>0.0</td>\n",
              "      <td>0.0</td>\n",
              "      <td>1.000000</td>\n",
              "      <td>0.0</td>\n",
              "      <td>1.000000</td>\n",
              "      <td>0.0</td>\n",
              "      <td>0.0</td>\n",
              "    </tr>\n",
              "  </tbody>\n",
              "</table>\n",
              "<p>8 rows × 65215 columns</p>\n",
              "</div>\n",
              "      <button class=\"colab-df-convert\" onclick=\"convertToInteractive('df-20d34ec9-8b0c-40d4-b69e-f0e078f9632e')\"\n",
              "              title=\"Convert this dataframe to an interactive table.\"\n",
              "              style=\"display:none;\">\n",
              "        \n",
              "  <svg xmlns=\"http://www.w3.org/2000/svg\" height=\"24px\"viewBox=\"0 0 24 24\"\n",
              "       width=\"24px\">\n",
              "    <path d=\"M0 0h24v24H0V0z\" fill=\"none\"/>\n",
              "    <path d=\"M18.56 5.44l.94 2.06.94-2.06 2.06-.94-2.06-.94-.94-2.06-.94 2.06-2.06.94zm-11 1L8.5 8.5l.94-2.06 2.06-.94-2.06-.94L8.5 2.5l-.94 2.06-2.06.94zm10 10l.94 2.06.94-2.06 2.06-.94-2.06-.94-.94-2.06-.94 2.06-2.06.94z\"/><path d=\"M17.41 7.96l-1.37-1.37c-.4-.4-.92-.59-1.43-.59-.52 0-1.04.2-1.43.59L10.3 9.45l-7.72 7.72c-.78.78-.78 2.05 0 2.83L4 21.41c.39.39.9.59 1.41.59.51 0 1.02-.2 1.41-.59l7.78-7.78 2.81-2.81c.8-.78.8-2.07 0-2.86zM5.41 20L4 18.59l7.72-7.72 1.47 1.35L5.41 20z\"/>\n",
              "  </svg>\n",
              "      </button>\n",
              "      \n",
              "  <style>\n",
              "    .colab-df-container {\n",
              "      display:flex;\n",
              "      flex-wrap:wrap;\n",
              "      gap: 12px;\n",
              "    }\n",
              "\n",
              "    .colab-df-convert {\n",
              "      background-color: #E8F0FE;\n",
              "      border: none;\n",
              "      border-radius: 50%;\n",
              "      cursor: pointer;\n",
              "      display: none;\n",
              "      fill: #1967D2;\n",
              "      height: 32px;\n",
              "      padding: 0 0 0 0;\n",
              "      width: 32px;\n",
              "    }\n",
              "\n",
              "    .colab-df-convert:hover {\n",
              "      background-color: #E2EBFA;\n",
              "      box-shadow: 0px 1px 2px rgba(60, 64, 67, 0.3), 0px 1px 3px 1px rgba(60, 64, 67, 0.15);\n",
              "      fill: #174EA6;\n",
              "    }\n",
              "\n",
              "    [theme=dark] .colab-df-convert {\n",
              "      background-color: #3B4455;\n",
              "      fill: #D2E3FC;\n",
              "    }\n",
              "\n",
              "    [theme=dark] .colab-df-convert:hover {\n",
              "      background-color: #434B5C;\n",
              "      box-shadow: 0px 1px 3px 1px rgba(0, 0, 0, 0.15);\n",
              "      filter: drop-shadow(0px 1px 2px rgba(0, 0, 0, 0.3));\n",
              "      fill: #FFFFFF;\n",
              "    }\n",
              "  </style>\n",
              "\n",
              "      <script>\n",
              "        const buttonEl =\n",
              "          document.querySelector('#df-20d34ec9-8b0c-40d4-b69e-f0e078f9632e button.colab-df-convert');\n",
              "        buttonEl.style.display =\n",
              "          google.colab.kernel.accessAllowed ? 'block' : 'none';\n",
              "\n",
              "        async function convertToInteractive(key) {\n",
              "          const element = document.querySelector('#df-20d34ec9-8b0c-40d4-b69e-f0e078f9632e');\n",
              "          const dataTable =\n",
              "            await google.colab.kernel.invokeFunction('convertToInteractive',\n",
              "                                                     [key], {});\n",
              "          if (!dataTable) return;\n",
              "\n",
              "          const docLinkHtml = 'Like what you see? Visit the ' +\n",
              "            '<a target=\"_blank\" href=https://colab.research.google.com/notebooks/data_table.ipynb>data table notebook</a>'\n",
              "            + ' to learn more about interactive tables.';\n",
              "          element.innerHTML = '';\n",
              "          dataTable['output_type'] = 'display_data';\n",
              "          await google.colab.output.renderOutput(dataTable, element);\n",
              "          const docLink = document.createElement('div');\n",
              "          docLink.innerHTML = docLinkHtml;\n",
              "          element.appendChild(docLink);\n",
              "        }\n",
              "      </script>\n",
              "    </div>\n",
              "  </div>\n",
              "  "
            ]
          },
          "metadata": {},
          "execution_count": 10
        }
      ]
    },
    {
      "cell_type": "markdown",
      "source": [
        "Nota-se em algums colunas que o dataset possui uma variância muito baixa nos dados, o que significa que podemos ter uma quantidade grande de colunas com a maior parte das células contendo zeros.\n",
        "\n",
        "Vamos verificar se existem valores ausentes em nosso dataset."
      ],
      "metadata": {
        "id": "zXnSHPgfTcBH"
      }
    },
    {
      "cell_type": "code",
      "source": [
        "missing_values = df_T.isnull().mean()*100\n",
        "print(missing_values)"
      ],
      "metadata": {
        "id": "u_N_kR6sgdgI",
        "colab": {
          "base_uri": "https://localhost:8080/"
        },
        "outputId": "e953966a-7e63-4a65-c078-8ad754c65758"
      },
      "execution_count": 5,
      "outputs": [
        {
          "output_type": "stream",
          "name": "stdout",
          "text": [
            "ENSG00000000003    0.0\n",
            "ENSG00000000005    0.0\n",
            "ENSG00000000419    0.0\n",
            "ENSG00000000457    0.0\n",
            "ENSG00000000460    0.0\n",
            "                  ... \n",
            "ENSG00000281918    0.0\n",
            "ENSG00000281919    0.0\n",
            "ENSG00000281920    0.0\n",
            "ENSG00000281921    0.0\n",
            "ENSG00000281922    0.0\n",
            "Length: 65215, dtype: float64\n"
          ]
        }
      ]
    },
    {
      "cell_type": "markdown",
      "source": [
        "Verificando quantidade de zero nas colunas."
      ],
      "metadata": {
        "id": "6uoQFFFEVzh8"
      }
    },
    {
      "cell_type": "code",
      "source": [
        "zero_values = df_T.isin([0]).mean()*100\n",
        "print(zero_values)"
      ],
      "metadata": {
        "id": "-6-oM07LgsZq",
        "colab": {
          "base_uri": "https://localhost:8080/"
        },
        "outputId": "631b9598-782a-47a5-b48d-c9317cf0ab8d"
      },
      "execution_count": null,
      "outputs": [
        {
          "output_type": "stream",
          "name": "stdout",
          "text": [
            "ENSG00000000003     79.166667\n",
            "ENSG00000000005     95.833333\n",
            "ENSG00000000419      0.000000\n",
            "ENSG00000000457      0.000000\n",
            "ENSG00000000460      0.000000\n",
            "                      ...    \n",
            "ENSG00000281918     95.833333\n",
            "ENSG00000281919    100.000000\n",
            "ENSG00000281920     97.916667\n",
            "ENSG00000281921    100.000000\n",
            "ENSG00000281922    100.000000\n",
            "Length: 65215, dtype: float64\n"
          ]
        }
      ]
    },
    {
      "cell_type": "markdown",
      "source": [
        "Existem algumas colunas com todos os dados iguais a zero e outras com mais de 70% dos dados iguais a zero. Pergunta, devemos excluir essas colunas?"
      ],
      "metadata": {
        "id": "Z5uLomQQWFK9"
      }
    },
    {
      "cell_type": "markdown",
      "source": [
        "Eliminando as colunas com 100% dos dados iguais a zero"
      ],
      "metadata": {
        "id": "CgFwDqisWO0Z"
      }
    },
    {
      "cell_type": "code",
      "source": [
        "df_T1 = df_T.loc[:, (df_T != 0).any(axis=0)]\n",
        "zero_values_1 = df_T1.isin([0]).mean()*100\n",
        "print(zero_values_1)"
      ],
      "metadata": {
        "id": "hsXPDpSCdw6i",
        "colab": {
          "base_uri": "https://localhost:8080/"
        },
        "outputId": "32ef93f2-89a4-4a54-f419-06cc6b190697"
      },
      "execution_count": 6,
      "outputs": [
        {
          "output_type": "stream",
          "name": "stdout",
          "text": [
            "ENSG00000000003    79.166667\n",
            "ENSG00000000005    95.833333\n",
            "ENSG00000000419     0.000000\n",
            "ENSG00000000457     0.000000\n",
            "ENSG00000000460     0.000000\n",
            "                     ...    \n",
            "ENSG00000281904    97.916667\n",
            "ENSG00000281909    93.750000\n",
            "ENSG00000281912    45.833333\n",
            "ENSG00000281918    95.833333\n",
            "ENSG00000281920    97.916667\n",
            "Length: 44678, dtype: float64\n"
          ]
        }
      ]
    },
    {
      "cell_type": "code",
      "source": [
        "print(\"A dimensão do dataset agora é\", df_T1.shape)"
      ],
      "metadata": {
        "id": "UEyS3HQBoVcz",
        "colab": {
          "base_uri": "https://localhost:8080/"
        },
        "outputId": "223b95e8-9288-4e87-8e14-6b59b9cce7bf"
      },
      "execution_count": null,
      "outputs": [
        {
          "output_type": "stream",
          "name": "stdout",
          "text": [
            "A dimensão do dataset agora é (48, 44678)\n"
          ]
        }
      ]
    },
    {
      "cell_type": "markdown",
      "source": [
        "Após a eliminação, ficaram um total de 44678 colunas. Foram eliminadas 20537 colunas."
      ],
      "metadata": {
        "id": "n4a2xnIgWy3a"
      }
    },
    {
      "cell_type": "markdown",
      "source": [
        "Como o dataset possui escalas muito diferentes (varia desde 1 até 6 digítos, por exemplo), deve-se padronizar os dados. O método utilizado para padronização será o StandardScaler(). "
      ],
      "metadata": {
        "id": "LObG9TWzW9Ct"
      }
    },
    {
      "cell_type": "code",
      "source": [
        "from sklearn.preprocessing import StandardScaler\n",
        "\n",
        "scaler = StandardScaler()\n",
        "df_T1_scaled = scaler.fit_transform(df_T1)\n",
        "df_T1_scaled"
      ],
      "metadata": {
        "id": "aZ8O8BdLsgge",
        "colab": {
          "base_uri": "https://localhost:8080/"
        },
        "outputId": "5046669a-5ef4-4997-eca8-7aa73b81ea6f"
      },
      "execution_count": 7,
      "outputs": [
        {
          "output_type": "execute_result",
          "data": {
            "text/plain": [
              "array([[-0.48038446, -0.20851441,  2.27936827, ..., -0.01763638,\n",
              "        -0.20851441, -0.14586499],\n",
              "       [-0.48038446, -0.20851441,  2.33333112, ..., -0.01763638,\n",
              "        -0.20851441, -0.14586499],\n",
              "       [-0.48038446, -0.20851441,  1.40696887, ..., -0.86418275,\n",
              "        -0.20851441, -0.14586499],\n",
              "       ...,\n",
              "       [-0.48038446, -0.20851441, -0.35581754, ..., -0.86418275,\n",
              "        -0.20851441, -0.14586499],\n",
              "       [ 1.44115338, -0.20851441, -0.77402962, ..., -0.86418275,\n",
              "        -0.20851441, -0.14586499],\n",
              "       [-0.48038446, -0.20851441, -0.57166894, ..., -0.86418275,\n",
              "        -0.20851441, -0.14586499]])"
            ]
          },
          "metadata": {},
          "execution_count": 7
        }
      ]
    },
    {
      "cell_type": "markdown",
      "source": [
        "## 5. Modelagem dos dados"
      ],
      "metadata": {
        "id": "W51_y0pVXkOj"
      }
    },
    {
      "cell_type": "markdown",
      "source": [
        "**Aplicando o método de redução de dimensionalidade - Método PCA**\n",
        "\n",
        "A Análise de Componentes Principais (PCA) é uma técnica popular de aprendizado de máquina não supervisionada que é usada para reduzir o número de variáveis de entrada no conjunto de dados de treinamento. Esta técnica vem sob a técnica de redução de dimensionalidade. Na analise dos componentes principais, a relação entre os dados é explicada por encontrar a lista principal de eixos nos dados e utilizar esses eixos para descrever o dataset. Utilizando o estimador PCA a partir da biblioteca Scikit-learn, computa-se os dados como segue:"
      ],
      "metadata": {
        "id": "tL42x2CLXscn"
      }
    },
    {
      "cell_type": "code",
      "source": [
        "from sklearn.decomposition import PCA\n",
        "# pca = PCA(n_components=2)\n",
        "# pca = PCA(n_components=10)\n",
        "pca = PCA()\n",
        "pca_scores = pca.fit_transform(df_T1_scaled) # Aplica a redução de dimensionalidade ao modelo"
      ],
      "metadata": {
        "id": "zsjopBGo8wsF"
      },
      "execution_count": 8,
      "outputs": []
    },
    {
      "cell_type": "code",
      "source": [
        "pca_scores"
      ],
      "metadata": {
        "id": "-8MQR0-zHmMk",
        "colab": {
          "base_uri": "https://localhost:8080/"
        },
        "outputId": "e30e5ae5-f6f4-44e8-eae3-4eb99f149eff"
      },
      "execution_count": 9,
      "outputs": [
        {
          "output_type": "execute_result",
          "data": {
            "text/plain": [
              "array([[ 6.81930825e+01,  8.67534056e+01, -7.06698556e+01, ...,\n",
              "        -1.40409482e+00, -1.39943817e+00,  5.85763800e-13],\n",
              "       [ 4.33570528e+01,  1.06817386e+02, -4.31702281e+01, ...,\n",
              "         4.21805179e+00,  2.95358460e+00,  5.85763800e-13],\n",
              "       [ 2.71769022e+01,  8.28370824e+01, -9.12959542e+00, ...,\n",
              "        -2.19150276e+00,  2.76475707e-01,  5.85763800e-13],\n",
              "       ...,\n",
              "       [-1.04474664e+02, -1.33383580e+01,  1.68541042e+01, ...,\n",
              "        -2.48245084e+00,  1.03440349e+02,  5.85763800e-13],\n",
              "       [-8.93188139e+01, -1.70583344e+01,  1.88228435e+00, ...,\n",
              "        -9.56937899e+00, -3.77901774e+01,  5.85763800e-13],\n",
              "       [ 4.58220121e+01, -3.45140511e+01,  6.73189533e+01, ...,\n",
              "        -6.07804832e+00,  3.82585428e-01,  5.85763800e-13]])"
            ]
          },
          "metadata": {},
          "execution_count": 9
        }
      ]
    },
    {
      "cell_type": "markdown",
      "source": [
        "O ajuste aprende algumas quantidades dos dados, principalmente os \"componentes\" e a \"variância explicada\". # O objeto pca.components_ contém os pesos (também chamados de 'carregamentos') de cada Componente Principal. É usando esses pesos que os componentes principais finais são formados."
      ],
      "metadata": {
        "id": "ABctlc51ZX4J"
      }
    },
    {
      "cell_type": "code",
      "source": [
        "print(pca.components_)"
      ],
      "metadata": {
        "id": "82yZhmoE4NQ1",
        "colab": {
          "base_uri": "https://localhost:8080/"
        },
        "outputId": "77484a17-8ea6-43af-fc19-28760bd4d773"
      },
      "execution_count": 10,
      "outputs": [
        {
          "output_type": "stream",
          "name": "stdout",
          "text": [
            "[[ 3.00978537e-03 -8.34833977e-05  6.09120142e-03 ... -6.13016807e-04\n",
            "   4.05675689e-05  3.29590556e-04]\n",
            " [-4.13805893e-03  4.45359071e-03  9.73150786e-03 ... -1.89529657e-03\n",
            "  -1.85413812e-03  5.11456209e-03]\n",
            " [-2.90761141e-03 -2.30132122e-03 -5.88982775e-03 ... -2.75681950e-03\n",
            "   8.21095176e-04  1.33067022e-03]\n",
            " ...\n",
            " [-4.44137251e-03  1.34336269e-03 -1.56336634e-03 ... -2.97218470e-04\n",
            "  -1.65418709e-03 -4.92960264e-04]\n",
            " [-9.28337435e-03  1.54584355e-03  2.89531859e-03 ... -5.53403403e-03\n",
            "  -5.17553228e-03 -3.78585748e-04]\n",
            " [-6.22598045e-01  8.50586064e-02 -2.81596977e-01 ...  1.88410694e-05\n",
            "   1.01943406e-04  1.24402491e-04]]\n"
          ]
        }
      ]
    },
    {
      "cell_type": "code",
      "source": [
        "df_pca_loadings = pd.DataFrame(pca.components_)\n",
        "df_pca_loadings.head()"
      ],
      "metadata": {
        "colab": {
          "base_uri": "https://localhost:8080/",
          "height": 299
        },
        "id": "93BP7KeeAUDC",
        "outputId": "c1c7130b-4410-473f-c722-f557d58ccbe9"
      },
      "execution_count": 11,
      "outputs": [
        {
          "output_type": "execute_result",
          "data": {
            "text/plain": [
              "      0         1         2         3         4         5         6      \\\n",
              "0  0.003010 -0.000083  0.006091  0.007108  0.008599  0.005194 -0.003145   \n",
              "1 -0.004138  0.004454  0.009732 -0.007210 -0.004793  0.009476 -0.004062   \n",
              "2 -0.002908 -0.002301 -0.005890 -0.011701 -0.006123 -0.004661 -0.010322   \n",
              "3  0.002551 -0.006686  0.008719 -0.000006  0.001452  0.004434 -0.010929   \n",
              "4  0.006288  0.001106 -0.002732 -0.001716  0.003250  0.001720 -0.000964   \n",
              "\n",
              "      7         8         9      ...     44668     44669     44670     44671  \\\n",
              "0  0.009525  0.001557  0.003306  ...  0.002684  0.000754  0.006246 -0.001477   \n",
              "1  0.000648  0.013674  0.012792  ... -0.001241  0.000759  0.000836 -0.001745   \n",
              "2  0.002812 -0.001120 -0.009859  ... -0.001513 -0.003572 -0.010878 -0.003272   \n",
              "3 -0.000943 -0.003481  0.003126  ...  0.001684  0.001976 -0.003389 -0.001193   \n",
              "4 -0.008587 -0.000667 -0.001368  ... -0.009487 -0.004856  0.003416 -0.002654   \n",
              "\n",
              "      44672     44673     44674     44675     44676     44677  \n",
              "0  0.002854 -0.001669  0.002184 -0.000613  0.000041  0.000330  \n",
              "1 -0.003559 -0.000604  0.000552 -0.001895 -0.001854  0.005115  \n",
              "2 -0.009514  0.001305 -0.002237 -0.002757  0.000821  0.001331  \n",
              "3  0.010807 -0.000497 -0.000324 -0.004313  0.003910 -0.003622  \n",
              "4  0.003508  0.001995 -0.009859 -0.002326  0.000142  0.003731  \n",
              "\n",
              "[5 rows x 44678 columns]"
            ],
            "text/html": [
              "\n",
              "  <div id=\"df-ff9ca3a8-9b99-4352-b75e-25732b3065d4\">\n",
              "    <div class=\"colab-df-container\">\n",
              "      <div>\n",
              "<style scoped>\n",
              "    .dataframe tbody tr th:only-of-type {\n",
              "        vertical-align: middle;\n",
              "    }\n",
              "\n",
              "    .dataframe tbody tr th {\n",
              "        vertical-align: top;\n",
              "    }\n",
              "\n",
              "    .dataframe thead th {\n",
              "        text-align: right;\n",
              "    }\n",
              "</style>\n",
              "<table border=\"1\" class=\"dataframe\">\n",
              "  <thead>\n",
              "    <tr style=\"text-align: right;\">\n",
              "      <th></th>\n",
              "      <th>0</th>\n",
              "      <th>1</th>\n",
              "      <th>2</th>\n",
              "      <th>3</th>\n",
              "      <th>4</th>\n",
              "      <th>5</th>\n",
              "      <th>6</th>\n",
              "      <th>7</th>\n",
              "      <th>8</th>\n",
              "      <th>9</th>\n",
              "      <th>...</th>\n",
              "      <th>44668</th>\n",
              "      <th>44669</th>\n",
              "      <th>44670</th>\n",
              "      <th>44671</th>\n",
              "      <th>44672</th>\n",
              "      <th>44673</th>\n",
              "      <th>44674</th>\n",
              "      <th>44675</th>\n",
              "      <th>44676</th>\n",
              "      <th>44677</th>\n",
              "    </tr>\n",
              "  </thead>\n",
              "  <tbody>\n",
              "    <tr>\n",
              "      <th>0</th>\n",
              "      <td>0.003010</td>\n",
              "      <td>-0.000083</td>\n",
              "      <td>0.006091</td>\n",
              "      <td>0.007108</td>\n",
              "      <td>0.008599</td>\n",
              "      <td>0.005194</td>\n",
              "      <td>-0.003145</td>\n",
              "      <td>0.009525</td>\n",
              "      <td>0.001557</td>\n",
              "      <td>0.003306</td>\n",
              "      <td>...</td>\n",
              "      <td>0.002684</td>\n",
              "      <td>0.000754</td>\n",
              "      <td>0.006246</td>\n",
              "      <td>-0.001477</td>\n",
              "      <td>0.002854</td>\n",
              "      <td>-0.001669</td>\n",
              "      <td>0.002184</td>\n",
              "      <td>-0.000613</td>\n",
              "      <td>0.000041</td>\n",
              "      <td>0.000330</td>\n",
              "    </tr>\n",
              "    <tr>\n",
              "      <th>1</th>\n",
              "      <td>-0.004138</td>\n",
              "      <td>0.004454</td>\n",
              "      <td>0.009732</td>\n",
              "      <td>-0.007210</td>\n",
              "      <td>-0.004793</td>\n",
              "      <td>0.009476</td>\n",
              "      <td>-0.004062</td>\n",
              "      <td>0.000648</td>\n",
              "      <td>0.013674</td>\n",
              "      <td>0.012792</td>\n",
              "      <td>...</td>\n",
              "      <td>-0.001241</td>\n",
              "      <td>0.000759</td>\n",
              "      <td>0.000836</td>\n",
              "      <td>-0.001745</td>\n",
              "      <td>-0.003559</td>\n",
              "      <td>-0.000604</td>\n",
              "      <td>0.000552</td>\n",
              "      <td>-0.001895</td>\n",
              "      <td>-0.001854</td>\n",
              "      <td>0.005115</td>\n",
              "    </tr>\n",
              "    <tr>\n",
              "      <th>2</th>\n",
              "      <td>-0.002908</td>\n",
              "      <td>-0.002301</td>\n",
              "      <td>-0.005890</td>\n",
              "      <td>-0.011701</td>\n",
              "      <td>-0.006123</td>\n",
              "      <td>-0.004661</td>\n",
              "      <td>-0.010322</td>\n",
              "      <td>0.002812</td>\n",
              "      <td>-0.001120</td>\n",
              "      <td>-0.009859</td>\n",
              "      <td>...</td>\n",
              "      <td>-0.001513</td>\n",
              "      <td>-0.003572</td>\n",
              "      <td>-0.010878</td>\n",
              "      <td>-0.003272</td>\n",
              "      <td>-0.009514</td>\n",
              "      <td>0.001305</td>\n",
              "      <td>-0.002237</td>\n",
              "      <td>-0.002757</td>\n",
              "      <td>0.000821</td>\n",
              "      <td>0.001331</td>\n",
              "    </tr>\n",
              "    <tr>\n",
              "      <th>3</th>\n",
              "      <td>0.002551</td>\n",
              "      <td>-0.006686</td>\n",
              "      <td>0.008719</td>\n",
              "      <td>-0.000006</td>\n",
              "      <td>0.001452</td>\n",
              "      <td>0.004434</td>\n",
              "      <td>-0.010929</td>\n",
              "      <td>-0.000943</td>\n",
              "      <td>-0.003481</td>\n",
              "      <td>0.003126</td>\n",
              "      <td>...</td>\n",
              "      <td>0.001684</td>\n",
              "      <td>0.001976</td>\n",
              "      <td>-0.003389</td>\n",
              "      <td>-0.001193</td>\n",
              "      <td>0.010807</td>\n",
              "      <td>-0.000497</td>\n",
              "      <td>-0.000324</td>\n",
              "      <td>-0.004313</td>\n",
              "      <td>0.003910</td>\n",
              "      <td>-0.003622</td>\n",
              "    </tr>\n",
              "    <tr>\n",
              "      <th>4</th>\n",
              "      <td>0.006288</td>\n",
              "      <td>0.001106</td>\n",
              "      <td>-0.002732</td>\n",
              "      <td>-0.001716</td>\n",
              "      <td>0.003250</td>\n",
              "      <td>0.001720</td>\n",
              "      <td>-0.000964</td>\n",
              "      <td>-0.008587</td>\n",
              "      <td>-0.000667</td>\n",
              "      <td>-0.001368</td>\n",
              "      <td>...</td>\n",
              "      <td>-0.009487</td>\n",
              "      <td>-0.004856</td>\n",
              "      <td>0.003416</td>\n",
              "      <td>-0.002654</td>\n",
              "      <td>0.003508</td>\n",
              "      <td>0.001995</td>\n",
              "      <td>-0.009859</td>\n",
              "      <td>-0.002326</td>\n",
              "      <td>0.000142</td>\n",
              "      <td>0.003731</td>\n",
              "    </tr>\n",
              "  </tbody>\n",
              "</table>\n",
              "<p>5 rows × 44678 columns</p>\n",
              "</div>\n",
              "      <button class=\"colab-df-convert\" onclick=\"convertToInteractive('df-ff9ca3a8-9b99-4352-b75e-25732b3065d4')\"\n",
              "              title=\"Convert this dataframe to an interactive table.\"\n",
              "              style=\"display:none;\">\n",
              "        \n",
              "  <svg xmlns=\"http://www.w3.org/2000/svg\" height=\"24px\"viewBox=\"0 0 24 24\"\n",
              "       width=\"24px\">\n",
              "    <path d=\"M0 0h24v24H0V0z\" fill=\"none\"/>\n",
              "    <path d=\"M18.56 5.44l.94 2.06.94-2.06 2.06-.94-2.06-.94-.94-2.06-.94 2.06-2.06.94zm-11 1L8.5 8.5l.94-2.06 2.06-.94-2.06-.94L8.5 2.5l-.94 2.06-2.06.94zm10 10l.94 2.06.94-2.06 2.06-.94-2.06-.94-.94-2.06-.94 2.06-2.06.94z\"/><path d=\"M17.41 7.96l-1.37-1.37c-.4-.4-.92-.59-1.43-.59-.52 0-1.04.2-1.43.59L10.3 9.45l-7.72 7.72c-.78.78-.78 2.05 0 2.83L4 21.41c.39.39.9.59 1.41.59.51 0 1.02-.2 1.41-.59l7.78-7.78 2.81-2.81c.8-.78.8-2.07 0-2.86zM5.41 20L4 18.59l7.72-7.72 1.47 1.35L5.41 20z\"/>\n",
              "  </svg>\n",
              "      </button>\n",
              "      \n",
              "  <style>\n",
              "    .colab-df-container {\n",
              "      display:flex;\n",
              "      flex-wrap:wrap;\n",
              "      gap: 12px;\n",
              "    }\n",
              "\n",
              "    .colab-df-convert {\n",
              "      background-color: #E8F0FE;\n",
              "      border: none;\n",
              "      border-radius: 50%;\n",
              "      cursor: pointer;\n",
              "      display: none;\n",
              "      fill: #1967D2;\n",
              "      height: 32px;\n",
              "      padding: 0 0 0 0;\n",
              "      width: 32px;\n",
              "    }\n",
              "\n",
              "    .colab-df-convert:hover {\n",
              "      background-color: #E2EBFA;\n",
              "      box-shadow: 0px 1px 2px rgba(60, 64, 67, 0.3), 0px 1px 3px 1px rgba(60, 64, 67, 0.15);\n",
              "      fill: #174EA6;\n",
              "    }\n",
              "\n",
              "    [theme=dark] .colab-df-convert {\n",
              "      background-color: #3B4455;\n",
              "      fill: #D2E3FC;\n",
              "    }\n",
              "\n",
              "    [theme=dark] .colab-df-convert:hover {\n",
              "      background-color: #434B5C;\n",
              "      box-shadow: 0px 1px 3px 1px rgba(0, 0, 0, 0.15);\n",
              "      filter: drop-shadow(0px 1px 2px rgba(0, 0, 0, 0.3));\n",
              "      fill: #FFFFFF;\n",
              "    }\n",
              "  </style>\n",
              "\n",
              "      <script>\n",
              "        const buttonEl =\n",
              "          document.querySelector('#df-ff9ca3a8-9b99-4352-b75e-25732b3065d4 button.colab-df-convert');\n",
              "        buttonEl.style.display =\n",
              "          google.colab.kernel.accessAllowed ? 'block' : 'none';\n",
              "\n",
              "        async function convertToInteractive(key) {\n",
              "          const element = document.querySelector('#df-ff9ca3a8-9b99-4352-b75e-25732b3065d4');\n",
              "          const dataTable =\n",
              "            await google.colab.kernel.invokeFunction('convertToInteractive',\n",
              "                                                     [key], {});\n",
              "          if (!dataTable) return;\n",
              "\n",
              "          const docLinkHtml = 'Like what you see? Visit the ' +\n",
              "            '<a target=\"_blank\" href=https://colab.research.google.com/notebooks/data_table.ipynb>data table notebook</a>'\n",
              "            + ' to learn more about interactive tables.';\n",
              "          element.innerHTML = '';\n",
              "          dataTable['output_type'] = 'display_data';\n",
              "          await google.colab.output.renderOutput(dataTable, element);\n",
              "          const docLink = document.createElement('div');\n",
              "          docLink.innerHTML = docLinkHtml;\n",
              "          element.appendChild(docLink);\n",
              "        }\n",
              "      </script>\n",
              "    </div>\n",
              "  </div>\n",
              "  "
            ]
          },
          "metadata": {},
          "execution_count": 11
        }
      ]
    },
    {
      "cell_type": "code",
      "source": [
        "pca_model = pd.DataFrame(pca_scores)\n",
        "pca_model.head()"
      ],
      "metadata": {
        "id": "iZoYNuv0GpLD",
        "colab": {
          "base_uri": "https://localhost:8080/",
          "height": 299
        },
        "outputId": "4743061d-0b05-40dd-c6d7-9a95715c3225"
      },
      "execution_count": 12,
      "outputs": [
        {
          "output_type": "execute_result",
          "data": {
            "text/plain": [
              "           0           1          2          3          4          5   \\\n",
              "0   68.193082   86.753406 -70.669856  69.373702 -55.070116 -36.266734   \n",
              "1   43.357053  106.817386 -43.170228  19.600271 -47.520295   3.615453   \n",
              "2   27.176902   82.837082  -9.129595  20.249410 -57.531049 -19.863871   \n",
              "3  141.706001  -64.260632 -85.335159  41.164432 -39.636796 -66.885916   \n",
              "4  -92.460610  -38.535926 -42.263255 -13.776359 -27.224741 -30.772157   \n",
              "\n",
              "          6          7          8          9   ...        38         39  \\\n",
              "0   4.866648 -16.988903  13.487153  54.812483  ... -8.747617  -1.799222   \n",
              "1  48.410918   9.543313  24.645099  -5.514049  ... -4.254861  -2.129427   \n",
              "2  24.046264  -2.248469 -17.551409  -3.588874  ... -0.884687  18.903916   \n",
              "3   3.273396   7.013902  10.585621 -42.745769  ... -0.036759   0.030848   \n",
              "4  -6.794444  -6.355477  -5.063904  23.772153  ... -2.695061   9.857750   \n",
              "\n",
              "          40        41         42        43        44         45        46  \\\n",
              "0   5.229788 -5.172726   0.380058  2.998716  0.918726  -1.404095 -1.399438   \n",
              "1  -0.312452  0.593789  -0.112341  2.602045  0.984997   4.218052  2.953585   \n",
              "2   5.852489 -1.297559   5.366005  2.184874 -2.518193  -2.191503  0.276476   \n",
              "3   1.754598 -2.036684  -0.815090  0.208592 -0.093051  -0.322920  1.656120   \n",
              "4 -48.013525 -7.661552 -10.590831  1.417621 -3.918726 -11.730719  2.308919   \n",
              "\n",
              "             47  \n",
              "0  5.857638e-13  \n",
              "1  5.857638e-13  \n",
              "2  5.857638e-13  \n",
              "3  5.857638e-13  \n",
              "4  5.857638e-13  \n",
              "\n",
              "[5 rows x 48 columns]"
            ],
            "text/html": [
              "\n",
              "  <div id=\"df-8f7a3912-355f-4833-919a-4b0ac41e7e55\">\n",
              "    <div class=\"colab-df-container\">\n",
              "      <div>\n",
              "<style scoped>\n",
              "    .dataframe tbody tr th:only-of-type {\n",
              "        vertical-align: middle;\n",
              "    }\n",
              "\n",
              "    .dataframe tbody tr th {\n",
              "        vertical-align: top;\n",
              "    }\n",
              "\n",
              "    .dataframe thead th {\n",
              "        text-align: right;\n",
              "    }\n",
              "</style>\n",
              "<table border=\"1\" class=\"dataframe\">\n",
              "  <thead>\n",
              "    <tr style=\"text-align: right;\">\n",
              "      <th></th>\n",
              "      <th>0</th>\n",
              "      <th>1</th>\n",
              "      <th>2</th>\n",
              "      <th>3</th>\n",
              "      <th>4</th>\n",
              "      <th>5</th>\n",
              "      <th>6</th>\n",
              "      <th>7</th>\n",
              "      <th>8</th>\n",
              "      <th>9</th>\n",
              "      <th>...</th>\n",
              "      <th>38</th>\n",
              "      <th>39</th>\n",
              "      <th>40</th>\n",
              "      <th>41</th>\n",
              "      <th>42</th>\n",
              "      <th>43</th>\n",
              "      <th>44</th>\n",
              "      <th>45</th>\n",
              "      <th>46</th>\n",
              "      <th>47</th>\n",
              "    </tr>\n",
              "  </thead>\n",
              "  <tbody>\n",
              "    <tr>\n",
              "      <th>0</th>\n",
              "      <td>68.193082</td>\n",
              "      <td>86.753406</td>\n",
              "      <td>-70.669856</td>\n",
              "      <td>69.373702</td>\n",
              "      <td>-55.070116</td>\n",
              "      <td>-36.266734</td>\n",
              "      <td>4.866648</td>\n",
              "      <td>-16.988903</td>\n",
              "      <td>13.487153</td>\n",
              "      <td>54.812483</td>\n",
              "      <td>...</td>\n",
              "      <td>-8.747617</td>\n",
              "      <td>-1.799222</td>\n",
              "      <td>5.229788</td>\n",
              "      <td>-5.172726</td>\n",
              "      <td>0.380058</td>\n",
              "      <td>2.998716</td>\n",
              "      <td>0.918726</td>\n",
              "      <td>-1.404095</td>\n",
              "      <td>-1.399438</td>\n",
              "      <td>5.857638e-13</td>\n",
              "    </tr>\n",
              "    <tr>\n",
              "      <th>1</th>\n",
              "      <td>43.357053</td>\n",
              "      <td>106.817386</td>\n",
              "      <td>-43.170228</td>\n",
              "      <td>19.600271</td>\n",
              "      <td>-47.520295</td>\n",
              "      <td>3.615453</td>\n",
              "      <td>48.410918</td>\n",
              "      <td>9.543313</td>\n",
              "      <td>24.645099</td>\n",
              "      <td>-5.514049</td>\n",
              "      <td>...</td>\n",
              "      <td>-4.254861</td>\n",
              "      <td>-2.129427</td>\n",
              "      <td>-0.312452</td>\n",
              "      <td>0.593789</td>\n",
              "      <td>-0.112341</td>\n",
              "      <td>2.602045</td>\n",
              "      <td>0.984997</td>\n",
              "      <td>4.218052</td>\n",
              "      <td>2.953585</td>\n",
              "      <td>5.857638e-13</td>\n",
              "    </tr>\n",
              "    <tr>\n",
              "      <th>2</th>\n",
              "      <td>27.176902</td>\n",
              "      <td>82.837082</td>\n",
              "      <td>-9.129595</td>\n",
              "      <td>20.249410</td>\n",
              "      <td>-57.531049</td>\n",
              "      <td>-19.863871</td>\n",
              "      <td>24.046264</td>\n",
              "      <td>-2.248469</td>\n",
              "      <td>-17.551409</td>\n",
              "      <td>-3.588874</td>\n",
              "      <td>...</td>\n",
              "      <td>-0.884687</td>\n",
              "      <td>18.903916</td>\n",
              "      <td>5.852489</td>\n",
              "      <td>-1.297559</td>\n",
              "      <td>5.366005</td>\n",
              "      <td>2.184874</td>\n",
              "      <td>-2.518193</td>\n",
              "      <td>-2.191503</td>\n",
              "      <td>0.276476</td>\n",
              "      <td>5.857638e-13</td>\n",
              "    </tr>\n",
              "    <tr>\n",
              "      <th>3</th>\n",
              "      <td>141.706001</td>\n",
              "      <td>-64.260632</td>\n",
              "      <td>-85.335159</td>\n",
              "      <td>41.164432</td>\n",
              "      <td>-39.636796</td>\n",
              "      <td>-66.885916</td>\n",
              "      <td>3.273396</td>\n",
              "      <td>7.013902</td>\n",
              "      <td>10.585621</td>\n",
              "      <td>-42.745769</td>\n",
              "      <td>...</td>\n",
              "      <td>-0.036759</td>\n",
              "      <td>0.030848</td>\n",
              "      <td>1.754598</td>\n",
              "      <td>-2.036684</td>\n",
              "      <td>-0.815090</td>\n",
              "      <td>0.208592</td>\n",
              "      <td>-0.093051</td>\n",
              "      <td>-0.322920</td>\n",
              "      <td>1.656120</td>\n",
              "      <td>5.857638e-13</td>\n",
              "    </tr>\n",
              "    <tr>\n",
              "      <th>4</th>\n",
              "      <td>-92.460610</td>\n",
              "      <td>-38.535926</td>\n",
              "      <td>-42.263255</td>\n",
              "      <td>-13.776359</td>\n",
              "      <td>-27.224741</td>\n",
              "      <td>-30.772157</td>\n",
              "      <td>-6.794444</td>\n",
              "      <td>-6.355477</td>\n",
              "      <td>-5.063904</td>\n",
              "      <td>23.772153</td>\n",
              "      <td>...</td>\n",
              "      <td>-2.695061</td>\n",
              "      <td>9.857750</td>\n",
              "      <td>-48.013525</td>\n",
              "      <td>-7.661552</td>\n",
              "      <td>-10.590831</td>\n",
              "      <td>1.417621</td>\n",
              "      <td>-3.918726</td>\n",
              "      <td>-11.730719</td>\n",
              "      <td>2.308919</td>\n",
              "      <td>5.857638e-13</td>\n",
              "    </tr>\n",
              "  </tbody>\n",
              "</table>\n",
              "<p>5 rows × 48 columns</p>\n",
              "</div>\n",
              "      <button class=\"colab-df-convert\" onclick=\"convertToInteractive('df-8f7a3912-355f-4833-919a-4b0ac41e7e55')\"\n",
              "              title=\"Convert this dataframe to an interactive table.\"\n",
              "              style=\"display:none;\">\n",
              "        \n",
              "  <svg xmlns=\"http://www.w3.org/2000/svg\" height=\"24px\"viewBox=\"0 0 24 24\"\n",
              "       width=\"24px\">\n",
              "    <path d=\"M0 0h24v24H0V0z\" fill=\"none\"/>\n",
              "    <path d=\"M18.56 5.44l.94 2.06.94-2.06 2.06-.94-2.06-.94-.94-2.06-.94 2.06-2.06.94zm-11 1L8.5 8.5l.94-2.06 2.06-.94-2.06-.94L8.5 2.5l-.94 2.06-2.06.94zm10 10l.94 2.06.94-2.06 2.06-.94-2.06-.94-.94-2.06-.94 2.06-2.06.94z\"/><path d=\"M17.41 7.96l-1.37-1.37c-.4-.4-.92-.59-1.43-.59-.52 0-1.04.2-1.43.59L10.3 9.45l-7.72 7.72c-.78.78-.78 2.05 0 2.83L4 21.41c.39.39.9.59 1.41.59.51 0 1.02-.2 1.41-.59l7.78-7.78 2.81-2.81c.8-.78.8-2.07 0-2.86zM5.41 20L4 18.59l7.72-7.72 1.47 1.35L5.41 20z\"/>\n",
              "  </svg>\n",
              "      </button>\n",
              "      \n",
              "  <style>\n",
              "    .colab-df-container {\n",
              "      display:flex;\n",
              "      flex-wrap:wrap;\n",
              "      gap: 12px;\n",
              "    }\n",
              "\n",
              "    .colab-df-convert {\n",
              "      background-color: #E8F0FE;\n",
              "      border: none;\n",
              "      border-radius: 50%;\n",
              "      cursor: pointer;\n",
              "      display: none;\n",
              "      fill: #1967D2;\n",
              "      height: 32px;\n",
              "      padding: 0 0 0 0;\n",
              "      width: 32px;\n",
              "    }\n",
              "\n",
              "    .colab-df-convert:hover {\n",
              "      background-color: #E2EBFA;\n",
              "      box-shadow: 0px 1px 2px rgba(60, 64, 67, 0.3), 0px 1px 3px 1px rgba(60, 64, 67, 0.15);\n",
              "      fill: #174EA6;\n",
              "    }\n",
              "\n",
              "    [theme=dark] .colab-df-convert {\n",
              "      background-color: #3B4455;\n",
              "      fill: #D2E3FC;\n",
              "    }\n",
              "\n",
              "    [theme=dark] .colab-df-convert:hover {\n",
              "      background-color: #434B5C;\n",
              "      box-shadow: 0px 1px 3px 1px rgba(0, 0, 0, 0.15);\n",
              "      filter: drop-shadow(0px 1px 2px rgba(0, 0, 0, 0.3));\n",
              "      fill: #FFFFFF;\n",
              "    }\n",
              "  </style>\n",
              "\n",
              "      <script>\n",
              "        const buttonEl =\n",
              "          document.querySelector('#df-8f7a3912-355f-4833-919a-4b0ac41e7e55 button.colab-df-convert');\n",
              "        buttonEl.style.display =\n",
              "          google.colab.kernel.accessAllowed ? 'block' : 'none';\n",
              "\n",
              "        async function convertToInteractive(key) {\n",
              "          const element = document.querySelector('#df-8f7a3912-355f-4833-919a-4b0ac41e7e55');\n",
              "          const dataTable =\n",
              "            await google.colab.kernel.invokeFunction('convertToInteractive',\n",
              "                                                     [key], {});\n",
              "          if (!dataTable) return;\n",
              "\n",
              "          const docLinkHtml = 'Like what you see? Visit the ' +\n",
              "            '<a target=\"_blank\" href=https://colab.research.google.com/notebooks/data_table.ipynb>data table notebook</a>'\n",
              "            + ' to learn more about interactive tables.';\n",
              "          element.innerHTML = '';\n",
              "          dataTable['output_type'] = 'display_data';\n",
              "          await google.colab.output.renderOutput(dataTable, element);\n",
              "          const docLink = document.createElement('div');\n",
              "          docLink.innerHTML = docLinkHtml;\n",
              "          element.appendChild(docLink);\n",
              "        }\n",
              "      </script>\n",
              "    </div>\n",
              "  </div>\n",
              "  "
            ]
          },
          "metadata": {},
          "execution_count": 12
        }
      ]
    },
    {
      "cell_type": "markdown",
      "source": [
        "Taxa de variancia dos dados do modelo, do mais significativo para o menos significativo."
      ],
      "metadata": {
        "id": "xTVU5gN8aGGZ"
      }
    },
    {
      "cell_type": "code",
      "source": [
        "print(pca.explained_variance_ratio_*100)"
      ],
      "metadata": {
        "colab": {
          "base_uri": "https://localhost:8080/"
        },
        "id": "lYlOya6S5-md",
        "outputId": "2c527ea5-72eb-4425-e3f9-328d68ee7b2b"
      },
      "execution_count": 13,
      "outputs": [
        {
          "output_type": "stream",
          "name": "stdout",
          "text": [
            "[2.04336658e+01 7.21035579e+00 4.21696612e+00 3.76990652e+00\n",
            " 3.34952006e+00 3.18658867e+00 2.93345715e+00 2.52555408e+00\n",
            " 2.42287702e+00 2.05979256e+00 1.95700251e+00 1.89530974e+00\n",
            " 1.84407134e+00 1.78015063e+00 1.66906535e+00 1.62346291e+00\n",
            " 1.60113807e+00 1.55019370e+00 1.52702386e+00 1.49642725e+00\n",
            " 1.41877033e+00 1.40185927e+00 1.37114681e+00 1.36366210e+00\n",
            " 1.34841960e+00 1.32329872e+00 1.29069774e+00 1.27628827e+00\n",
            " 1.25142393e+00 1.22961314e+00 1.22414571e+00 1.20433616e+00\n",
            " 1.18213713e+00 1.14877872e+00 1.13496838e+00 1.10732900e+00\n",
            " 1.09410607e+00 1.05485647e+00 1.03084549e+00 1.01457645e+00\n",
            " 9.94380354e-01 9.67629496e-01 9.36837482e-01 9.23094442e-01\n",
            " 9.05799515e-01 8.91577371e-01 8.56892769e-01 7.67982519e-28]\n"
          ]
        }
      ]
    },
    {
      "cell_type": "code",
      "source": [
        "ggplot_styles = {\n",
        "    'axes.edgecolor': 'black',\n",
        "    'axes.facecolor': 'white', #EBEBEB\n",
        "    'axes.grid': True,\n",
        "    'axes.grid.which': 'both',\n",
        "    'axes.spines.left': True,\n",
        "    'axes.spines.right': False,\n",
        "    'axes.spines.top': False,\n",
        "    'axes.spines.bottom': True,\n",
        "    'grid.color': 'EBEBEB',\n",
        "    'grid.linewidth': '1.0',\n",
        "    'xtick.color': 'black', #555555\n",
        "    'xtick.major.bottom': True,\n",
        "    'xtick.minor.bottom': False,\n",
        "    'ytick.color': 'black', #555555\n",
        "    'ytick.major.left': True,\n",
        "    'ytick.minor.left': False,\n",
        "}\n",
        "\n",
        "plt.rcParams.update(ggplot_styles)"
      ],
      "metadata": {
        "id": "f08yVplojacp"
      },
      "execution_count": 14,
      "outputs": []
    },
    {
      "cell_type": "markdown",
      "source": [
        "Plotando a variância explicada para todos os componentes (features) em relação aos dados."
      ],
      "metadata": {
        "id": "fRK_eeOKcWy1"
      }
    },
    {
      "cell_type": "code",
      "source": [
        "# Plot the explained variances\n",
        "plt.rcParams[\"figure.figsize\"] = [15, 5]\n",
        "plt.rcParams[\"figure.autolayout\"] = True\n",
        "features = range(pca.n_components_)\n",
        "plt.bar(features, pca.explained_variance_ratio_*100, color='black')\n",
        "plt.xlabel('PCA features')\n",
        "plt.ylabel('variance %')\n",
        "plt.xticks(features)\n",
        "# Save components to a DataFrame\n",
        "PCA_components = pd.DataFrame(pca_scores)"
      ],
      "metadata": {
        "colab": {
          "base_uri": "https://localhost:8080/",
          "height": 369
        },
        "id": "Yc54bgSpwUQe",
        "outputId": "0614a4c1-1f0b-43e2-9b4b-7dec23b20b67"
      },
      "execution_count": 15,
      "outputs": [
        {
          "output_type": "display_data",
          "data": {
            "text/plain": [
              "<Figure size 1080x360 with 1 Axes>"
            ],
            "image/png": "[encoded data removed]"
          },
          "metadata": {
            "needs_background": "light"
          }
        }
      ]
    },
    {
      "cell_type": "markdown",
      "source": [
        "Uma parte vital do uso do PCA na prática é a capacidade de estimar quantos componentes são necessários para descrever os dados. Isso pode ser determinado observando a razão de variância explicada cumulativa em função do número de componentes:"
      ],
      "metadata": {
        "id": "iICzT1GGeb8l"
      }
    },
    {
      "cell_type": "code",
      "source": [
        "plt.rcParams[\"figure.figsize\"] = [8, 5]\n",
        "plt.rcParams[\"figure.autolayout\"] = True\n",
        "\n",
        "plt.plot(range(pca.n_components_), pca.explained_variance_ratio_.cumsum(), marker = 'o', linestyle = '--')\n",
        "plt.title('Variância explicada pelos componentes')\n",
        "plt.xlabel('Número de componentes')\n",
        "plt.ylabel('Variância explicada acumulada')"
      ],
      "metadata": {
        "colab": {
          "base_uri": "https://localhost:8080/",
          "height": 388
        },
        "id": "YjPKgLGUMab3",
        "outputId": "86f280df-a4fc-4a9c-b3fe-a41329ddea06"
      },
      "execution_count": 16,
      "outputs": [
        {
          "output_type": "execute_result",
          "data": {
            "text/plain": [
              "Text(0, 0.5, 'Variância explicada acumulada')"
            ]
          },
          "metadata": {},
          "execution_count": 16
        },
        {
          "output_type": "display_data",
          "data": {
            "text/plain": [
              "<Figure size 576x360 with 1 Axes>"
            ],
            "image/png": "[encoded data removed]"
          },
          "metadata": {
            "needs_background": "light"
          }
        }
      ]
    },
    {
      "cell_type": "markdown",
      "source": [
        "## 6. Clusterização K-Means a partir dos resultados do PCA"
      ],
      "metadata": {
        "id": "GFkp7eQkfkkE"
      }
    },
    {
      "cell_type": "markdown",
      "source": [
        "Nesse momento, iremos combinar PCA e K-means para segmentar nossos dados, onde utilizamos os escores obtidos pelo PCA para o ajuste. Sabemos que o K-means não determina o número de clusters em sua solução.\n",
        "\n",
        "Logo, precisamos determinar o número de clusters em um algoritmo K-means.\n",
        "Para isso, executamos o algoritmo com um número diferente de clusters. Em seguida, determinamos o Within Cluster Sum of Squares ou WCSS para cada solução. Com base nos valores do WCSS e em uma abordagem conhecida como método Elbow, tomamos uma decisão sobre quantos clusters gostaríamos de manter."
      ],
      "metadata": {
        "id": "7_L-L8l4gJLt"
      }
    },
    {
      "cell_type": "markdown",
      "source": [
        "Fontes: \n",
        "* https://365datascience.com/tutorials/python-tutorials/pca-k-means/\n",
        "* https://stackabuse.com/hierarchical-clustering-with-python-and-scikit-learn/\n",
        "* https://jakevdp.github.io/PythonDataScienceHandbook/05.11-k-means.html\n",
        "* https://jakevdp.github.io/PythonDataScienceHandbook/05.09-principal-component-analysis.html"
      ],
      "metadata": {
        "id": "-oz_rUGmIBL_"
      }
    },
    {
      "cell_type": "code",
      "source": [
        "from sklearn.cluster import KMeans\n",
        "\n",
        "wcss = []\n",
        "for i in range(1,10):\n",
        "  kmeans_pca = KMeans(n_clusters = i, init = 'k-means++', random_state = 42)\n",
        "  kmeans_pca.fit(pca_scores)\n",
        "  wcss.append(kmeans_pca.inertia_)"
      ],
      "metadata": {
        "id": "-UGEWpvZLs1_"
      },
      "execution_count": 17,
      "outputs": []
    },
    {
      "cell_type": "code",
      "source": [
        "plt.rcParams[\"figure.figsize\"] = [8, 5]\n",
        "plt.rcParams[\"figure.autolayout\"] = True\n",
        "\n",
        "plt.plot(range(1,10), wcss, marker = 'o', linestyle = '--', color = 'purple')\n",
        "plt.xlabel('Número de clusters')\n",
        "plt.ylabel('WCSS')\n",
        "plt.title('Clusterização k-Means com PCA')\n",
        "plt.show()"
      ],
      "metadata": {
        "colab": {
          "base_uri": "https://localhost:8080/",
          "height": 369
        },
        "id": "M_DMeiLQM7--",
        "outputId": "6a4e97f3-e0d6-4ef4-872f-bc59a8c74ea7"
      },
      "execution_count": 18,
      "outputs": [
        {
          "output_type": "display_data",
          "data": {
            "text/plain": [
              "<Figure size 576x360 with 1 Axes>"
            ],
            "image/png": "[encoded data removed]"
          },
          "metadata": {
            "needs_background": "light"
          }
        }
      ]
    },
    {
      "cell_type": "code",
      "source": [
        "from kneed import KneeLocator\n",
        "\n",
        "locator_cluster = KneeLocator( range(1, 10), wcss, curve=\"convex\", direction=\"decreasing\")\n",
        "\n",
        "print('O numero de clusters com os dados padronizados é:', locator_cluster.elbow)"
      ],
      "metadata": {
        "colab": {
          "base_uri": "https://localhost:8080/"
        },
        "id": "7EognXaXOqYs",
        "outputId": "89ac4679-ac8c-4cb1-dd96-d3f282757b4d"
      },
      "execution_count": 19,
      "outputs": [
        {
          "output_type": "stream",
          "name": "stdout",
          "text": [
            "O numero de clusters com os dados padronizados é: 3\n"
          ]
        }
      ]
    },
    {
      "cell_type": "code",
      "source": [
        "kmeans_pca = KMeans(n_clusters = 3, init = 'k-means++', random_state = 42)\n",
        "kmeans_pca.fit(pca_scores)"
      ],
      "metadata": {
        "colab": {
          "base_uri": "https://localhost:8080/"
        },
        "id": "aEjVLHl5Q6Ei",
        "outputId": "e0fd59f7-bc75-484a-c040-030b92a56aa9"
      },
      "execution_count": 20,
      "outputs": [
        {
          "output_type": "execute_result",
          "data": {
            "text/plain": [
              "KMeans(n_clusters=3, random_state=42)"
            ]
          },
          "metadata": {},
          "execution_count": 20
        }
      ]
    },
    {
      "cell_type": "markdown",
      "source": [
        "Vamos visualizar os clusters em um plano 2D, logo, precisamos escolher dois componentes e usá-los como eixos. O objetivo do PCA era determinar os componentes mais importantes. Dessa forma, podemos ter certeza absoluta de que os dois primeiros componentes explicam mais variância do que o terceiro."
      ],
      "metadata": {
        "id": "BaKj7rqRu-iN"
      }
    },
    {
      "cell_type": "code",
      "source": [
        "df_pca_2comp = PCA(n_components=2)\n",
        "df_pca_2comp_fit = df_pca_2comp.fit_transform(df_T1_scaled)"
      ],
      "metadata": {
        "id": "POfM2trklB9C"
      },
      "execution_count": 21,
      "outputs": []
    },
    {
      "cell_type": "code",
      "source": [
        "df_pca_kmeans = pd.concat([df_T1.reset_index(drop = True), pd.DataFrame(df_pca_2comp_fit)], axis = 1)\n",
        "\n",
        "df_pca_kmeans.columns.values[-2:] = ['pca1', 'pca2']\n",
        "df_pca_kmeans['segment kmeans pca'] = kmeans_pca.labels_"
      ],
      "metadata": {
        "id": "xqOZLw4vVgvQ"
      },
      "execution_count": 22,
      "outputs": []
    },
    {
      "cell_type": "code",
      "source": [
        "df_pca_kmeans['segment'] = df_pca_kmeans['segment kmeans pca'].map({0: '1', 1: '2', 2:'3'})"
      ],
      "metadata": {
        "id": "rqcLFroUYXhE"
      },
      "execution_count": 23,
      "outputs": []
    },
    {
      "cell_type": "code",
      "source": [
        "df_pca_kmeans.head()"
      ],
      "metadata": {
        "id": "1N535aQIWlox",
        "colab": {
          "base_uri": "https://localhost:8080/",
          "height": 334
        },
        "outputId": "8b375ddc-f501-414d-a729-671eb604ce44"
      },
      "execution_count": 24,
      "outputs": [
        {
          "output_type": "execute_result",
          "data": {
            "text/plain": [
              "   ENSG00000000003  ENSG00000000005  ENSG00000000419  ENSG00000000457  \\\n",
              "0                0                0             1216              189   \n",
              "1                0                0             1228              114   \n",
              "2                0                0             1022              110   \n",
              "3                1                0              912              289   \n",
              "4                0                0              491              186   \n",
              "\n",
              "   ENSG00000000460  ENSG00000000938  ENSG00000000971  ENSG00000001036  \\\n",
              "0               74            31895                2              763   \n",
              "1               38            23361                3              712   \n",
              "2               55            27944                0              956   \n",
              "3              127            41846                6             1104   \n",
              "4               30            11929               14              136   \n",
              "\n",
              "   ENSG00000001084  ENSG00000001167  ...  ENSG00000281903  ENSG00000281904  \\\n",
              "0             8963             1589  ...               18                0   \n",
              "1            26794             1734  ...                0                0   \n",
              "2             8027             1341  ...               10                0   \n",
              "3              716             1053  ...               36                0   \n",
              "4              745              730  ...               17                0   \n",
              "\n",
              "   ENSG00000281909  ENSG00000281912  ENSG00000281918  ENSG00000281920  \\\n",
              "0                0                1                0                0   \n",
              "1                0                1                0                0   \n",
              "2                0                0                0                0   \n",
              "3                0                2                0                0   \n",
              "4                0                0                0                0   \n",
              "\n",
              "         pca1        pca2  segment kmeans pca  segment  \n",
              "0   68.193082   86.751609                   0        1  \n",
              "1   43.357053  106.819621                   0        1  \n",
              "2   27.176902   82.837012                   0        1  \n",
              "3  141.706001  -64.261071                   1        2  \n",
              "4  -92.460610  -38.537078                   2        3  \n",
              "\n",
              "[5 rows x 44682 columns]"
            ],
            "text/html": [
              "\n",
              "  <div id=\"df-b81fd528-ce8b-485d-81ed-d0ad427a815e\">\n",
              "    <div class=\"colab-df-container\">\n",
              "      <div>\n",
              "<style scoped>\n",
              "    .dataframe tbody tr th:only-of-type {\n",
              "        vertical-align: middle;\n",
              "    }\n",
              "\n",
              "    .dataframe tbody tr th {\n",
              "        vertical-align: top;\n",
              "    }\n",
              "\n",
              "    .dataframe thead th {\n",
              "        text-align: right;\n",
              "    }\n",
              "</style>\n",
              "<table border=\"1\" class=\"dataframe\">\n",
              "  <thead>\n",
              "    <tr style=\"text-align: right;\">\n",
              "      <th></th>\n",
              "      <th>ENSG00000000003</th>\n",
              "      <th>ENSG00000000005</th>\n",
              "      <th>ENSG00000000419</th>\n",
              "      <th>ENSG00000000457</th>\n",
              "      <th>ENSG00000000460</th>\n",
              "      <th>ENSG00000000938</th>\n",
              "      <th>ENSG00000000971</th>\n",
              "      <th>ENSG00000001036</th>\n",
              "      <th>ENSG00000001084</th>\n",
              "      <th>ENSG00000001167</th>\n",
              "      <th>...</th>\n",
              "      <th>ENSG00000281903</th>\n",
              "      <th>ENSG00000281904</th>\n",
              "      <th>ENSG00000281909</th>\n",
              "      <th>ENSG00000281912</th>\n",
              "      <th>ENSG00000281918</th>\n",
              "      <th>ENSG00000281920</th>\n",
              "      <th>pca1</th>\n",
              "      <th>pca2</th>\n",
              "      <th>segment kmeans pca</th>\n",
              "      <th>segment</th>\n",
              "    </tr>\n",
              "  </thead>\n",
              "  <tbody>\n",
              "    <tr>\n",
              "      <th>0</th>\n",
              "      <td>0</td>\n",
              "      <td>0</td>\n",
              "      <td>1216</td>\n",
              "      <td>189</td>\n",
              "      <td>74</td>\n",
              "      <td>31895</td>\n",
              "      <td>2</td>\n",
              "      <td>763</td>\n",
              "      <td>8963</td>\n",
              "      <td>1589</td>\n",
              "      <td>...</td>\n",
              "      <td>18</td>\n",
              "      <td>0</td>\n",
              "      <td>0</td>\n",
              "      <td>1</td>\n",
              "      <td>0</td>\n",
              "      <td>0</td>\n",
              "      <td>68.193082</td>\n",
              "      <td>86.751609</td>\n",
              "      <td>0</td>\n",
              "      <td>1</td>\n",
              "    </tr>\n",
              "    <tr>\n",
              "      <th>1</th>\n",
              "      <td>0</td>\n",
              "      <td>0</td>\n",
              "      <td>1228</td>\n",
              "      <td>114</td>\n",
              "      <td>38</td>\n",
              "      <td>23361</td>\n",
              "      <td>3</td>\n",
              "      <td>712</td>\n",
              "      <td>26794</td>\n",
              "      <td>1734</td>\n",
              "      <td>...</td>\n",
              "      <td>0</td>\n",
              "      <td>0</td>\n",
              "      <td>0</td>\n",
              "      <td>1</td>\n",
              "      <td>0</td>\n",
              "      <td>0</td>\n",
              "      <td>43.357053</td>\n",
              "      <td>106.819621</td>\n",
              "      <td>0</td>\n",
              "      <td>1</td>\n",
              "    </tr>\n",
              "    <tr>\n",
              "      <th>2</th>\n",
              "      <td>0</td>\n",
              "      <td>0</td>\n",
              "      <td>1022</td>\n",
              "      <td>110</td>\n",
              "      <td>55</td>\n",
              "      <td>27944</td>\n",
              "      <td>0</td>\n",
              "      <td>956</td>\n",
              "      <td>8027</td>\n",
              "      <td>1341</td>\n",
              "      <td>...</td>\n",
              "      <td>10</td>\n",
              "      <td>0</td>\n",
              "      <td>0</td>\n",
              "      <td>0</td>\n",
              "      <td>0</td>\n",
              "      <td>0</td>\n",
              "      <td>27.176902</td>\n",
              "      <td>82.837012</td>\n",
              "      <td>0</td>\n",
              "      <td>1</td>\n",
              "    </tr>\n",
              "    <tr>\n",
              "      <th>3</th>\n",
              "      <td>1</td>\n",
              "      <td>0</td>\n",
              "      <td>912</td>\n",
              "      <td>289</td>\n",
              "      <td>127</td>\n",
              "      <td>41846</td>\n",
              "      <td>6</td>\n",
              "      <td>1104</td>\n",
              "      <td>716</td>\n",
              "      <td>1053</td>\n",
              "      <td>...</td>\n",
              "      <td>36</td>\n",
              "      <td>0</td>\n",
              "      <td>0</td>\n",
              "      <td>2</td>\n",
              "      <td>0</td>\n",
              "      <td>0</td>\n",
              "      <td>141.706001</td>\n",
              "      <td>-64.261071</td>\n",
              "      <td>1</td>\n",
              "      <td>2</td>\n",
              "    </tr>\n",
              "    <tr>\n",
              "      <th>4</th>\n",
              "      <td>0</td>\n",
              "      <td>0</td>\n",
              "      <td>491</td>\n",
              "      <td>186</td>\n",
              "      <td>30</td>\n",
              "      <td>11929</td>\n",
              "      <td>14</td>\n",
              "      <td>136</td>\n",
              "      <td>745</td>\n",
              "      <td>730</td>\n",
              "      <td>...</td>\n",
              "      <td>17</td>\n",
              "      <td>0</td>\n",
              "      <td>0</td>\n",
              "      <td>0</td>\n",
              "      <td>0</td>\n",
              "      <td>0</td>\n",
              "      <td>-92.460610</td>\n",
              "      <td>-38.537078</td>\n",
              "      <td>2</td>\n",
              "      <td>3</td>\n",
              "    </tr>\n",
              "  </tbody>\n",
              "</table>\n",
              "<p>5 rows × 44682 columns</p>\n",
              "</div>\n",
              "      <button class=\"colab-df-convert\" onclick=\"convertToInteractive('df-b81fd528-ce8b-485d-81ed-d0ad427a815e')\"\n",
              "              title=\"Convert this dataframe to an interactive table.\"\n",
              "              style=\"display:none;\">\n",
              "        \n",
              "  <svg xmlns=\"http://www.w3.org/2000/svg\" height=\"24px\"viewBox=\"0 0 24 24\"\n",
              "       width=\"24px\">\n",
              "    <path d=\"M0 0h24v24H0V0z\" fill=\"none\"/>\n",
              "    <path d=\"M18.56 5.44l.94 2.06.94-2.06 2.06-.94-2.06-.94-.94-2.06-.94 2.06-2.06.94zm-11 1L8.5 8.5l.94-2.06 2.06-.94-2.06-.94L8.5 2.5l-.94 2.06-2.06.94zm10 10l.94 2.06.94-2.06 2.06-.94-2.06-.94-.94-2.06-.94 2.06-2.06.94z\"/><path d=\"M17.41 7.96l-1.37-1.37c-.4-.4-.92-.59-1.43-.59-.52 0-1.04.2-1.43.59L10.3 9.45l-7.72 7.72c-.78.78-.78 2.05 0 2.83L4 21.41c.39.39.9.59 1.41.59.51 0 1.02-.2 1.41-.59l7.78-7.78 2.81-2.81c.8-.78.8-2.07 0-2.86zM5.41 20L4 18.59l7.72-7.72 1.47 1.35L5.41 20z\"/>\n",
              "  </svg>\n",
              "      </button>\n",
              "      \n",
              "  <style>\n",
              "    .colab-df-container {\n",
              "      display:flex;\n",
              "      flex-wrap:wrap;\n",
              "      gap: 12px;\n",
              "    }\n",
              "\n",
              "    .colab-df-convert {\n",
              "      background-color: #E8F0FE;\n",
              "      border: none;\n",
              "      border-radius: 50%;\n",
              "      cursor: pointer;\n",
              "      display: none;\n",
              "      fill: #1967D2;\n",
              "      height: 32px;\n",
              "      padding: 0 0 0 0;\n",
              "      width: 32px;\n",
              "    }\n",
              "\n",
              "    .colab-df-convert:hover {\n",
              "      background-color: #E2EBFA;\n",
              "      box-shadow: 0px 1px 2px rgba(60, 64, 67, 0.3), 0px 1px 3px 1px rgba(60, 64, 67, 0.15);\n",
              "      fill: #174EA6;\n",
              "    }\n",
              "\n",
              "    [theme=dark] .colab-df-convert {\n",
              "      background-color: #3B4455;\n",
              "      fill: #D2E3FC;\n",
              "    }\n",
              "\n",
              "    [theme=dark] .colab-df-convert:hover {\n",
              "      background-color: #434B5C;\n",
              "      box-shadow: 0px 1px 3px 1px rgba(0, 0, 0, 0.15);\n",
              "      filter: drop-shadow(0px 1px 2px rgba(0, 0, 0, 0.3));\n",
              "      fill: #FFFFFF;\n",
              "    }\n",
              "  </style>\n",
              "\n",
              "      <script>\n",
              "        const buttonEl =\n",
              "          document.querySelector('#df-b81fd528-ce8b-485d-81ed-d0ad427a815e button.colab-df-convert');\n",
              "        buttonEl.style.display =\n",
              "          google.colab.kernel.accessAllowed ? 'block' : 'none';\n",
              "\n",
              "        async function convertToInteractive(key) {\n",
              "          const element = document.querySelector('#df-b81fd528-ce8b-485d-81ed-d0ad427a815e');\n",
              "          const dataTable =\n",
              "            await google.colab.kernel.invokeFunction('convertToInteractive',\n",
              "                                                     [key], {});\n",
              "          if (!dataTable) return;\n",
              "\n",
              "          const docLinkHtml = 'Like what you see? Visit the ' +\n",
              "            '<a target=\"_blank\" href=https://colab.research.google.com/notebooks/data_table.ipynb>data table notebook</a>'\n",
              "            + ' to learn more about interactive tables.';\n",
              "          element.innerHTML = '';\n",
              "          dataTable['output_type'] = 'display_data';\n",
              "          await google.colab.output.renderOutput(dataTable, element);\n",
              "          const docLink = document.createElement('div');\n",
              "          docLink.innerHTML = docLinkHtml;\n",
              "          element.appendChild(docLink);\n",
              "        }\n",
              "      </script>\n",
              "    </div>\n",
              "  </div>\n",
              "  "
            ]
          },
          "metadata": {},
          "execution_count": 24
        }
      ]
    },
    {
      "cell_type": "code",
      "source": [
        "df_pca_2comp = PCA(n_components=2)\n",
        "df_pca_2comp_fit = df_pca_2comp.fit_transform(df_T1_scaled)"
      ],
      "metadata": {
        "id": "Pq0vhSd4U1yX"
      },
      "execution_count": null,
      "outputs": []
    },
    {
      "cell_type": "code",
      "source": [
        "plt.rcParams[\"figure.figsize\"] = [8, 5]\n",
        "plt.rcParams[\"figure.autolayout\"] = True\n",
        "\n",
        "x_axis = df_pca_kmeans['pca1']\n",
        "y_axis = df_pca_kmeans['pca2']\n",
        "\n",
        "sns.scatterplot(x_axis, y_axis, hue = df_pca_kmeans['segment'], palette = ['g', 'r', 'b'])\n",
        "plt.title('Clusters x Componentes PCA')\n",
        "plt.show()"
      ],
      "metadata": {
        "colab": {
          "base_uri": "https://localhost:8080/",
          "height": 426
        },
        "id": "HB9TtNHoY68k",
        "outputId": "1d45f2b1-08df-4cae-9a14-15c15432599a"
      },
      "execution_count": 25,
      "outputs": [
        {
          "output_type": "stream",
          "name": "stderr",
          "text": [
            "/usr/local/lib/python3.7/dist-packages/seaborn/_decorators.py:43: FutureWarning: Pass the following variables as keyword args: x, y. From version 0.12, the only valid positional argument will be `data`, and passing other arguments without an explicit keyword will result in an error or misinterpretation.\n",
            "  FutureWarning\n"
          ]
        },
        {
          "output_type": "display_data",
          "data": {
            "text/plain": [
              "<Figure size 576x360 with 1 Axes>"
            ],
            "image/png": "[encoded data removed]"
          },
          "metadata": {
            "needs_background": "light"
          }
        }
      ]
    },
    {
      "cell_type": "markdown",
      "source": [
        "**Visualizando as famílias utilizando o dendograma**"
      ],
      "metadata": {
        "id": "qkEo80R_wF2G"
      }
    },
    {
      "cell_type": "markdown",
      "source": [
        "No entanto, no mundo real, podemos ter milhares de pontos de dados em muito mais de 2 dimensões. Nesse caso, não seria possível detectar aglomerados a olho nu. Em nosso dataset, temos um conjunto de dados (pessoas) pertencentes a um mesmo grupo familiar. Para visualizarmos esse agrupamento, iremos recorrer a biblioteca scipy.  "
      ],
      "metadata": {
        "id": "Jh2j3BPBwu6U"
      }
    },
    {
      "cell_type": "code",
      "source": [
        "df_T1.index"
      ],
      "metadata": {
        "id": "xFBdsh33qI4a"
      },
      "execution_count": null,
      "outputs": []
    },
    {
      "cell_type": "code",
      "source": [
        "from scipy.cluster.hierarchy import dendrogram, linkage\n",
        "from matplotlib import pyplot as plt\n",
        "\n",
        "linked = linkage(df_pca_2comp_fit, 'single')\n",
        "\n",
        "# labelList = range(pca.n_components_)\n",
        "labelList = df_T1.index \n",
        "\n",
        "plt.figure(figsize=(10, 7))\n",
        "dendrogram(linked,\n",
        "            orientation='top',\n",
        "            labels=labelList,\n",
        "            distance_sort='descending',\n",
        "            show_leaf_counts=True)\n",
        "plt.show()"
      ],
      "metadata": {
        "colab": {
          "base_uri": "https://localhost:8080/",
          "height": 513
        },
        "id": "7WNYj37y-cTr",
        "outputId": "bb8e7212-e799-4152-ae50-0d4718b21dea"
      },
      "execution_count": 28,
      "outputs": [
        {
          "output_type": "display_data",
          "data": {
            "text/plain": [
              "<Figure size 720x504 with 1 Axes>"
            ],
            "image/png": "[encoded data removed]"
          },
          "metadata": {
            "needs_background": "light"
          }
        }
      ]
    },
    {
      "cell_type": "code",
      "source": [
        "from sklearn.cluster import AgglomerativeClustering\n",
        "\n",
        "cluster = AgglomerativeClustering(n_clusters=3, affinity='euclidean', linkage='ward')\n",
        "cluster.fit_predict(df_pca_2comp_fit)"
      ],
      "metadata": {
        "colab": {
          "base_uri": "https://localhost:8080/"
        },
        "id": "LELCFLCS1XrT",
        "outputId": "305261ea-0b69-40dc-e764-03e3e42eb9b7"
      },
      "execution_count": 29,
      "outputs": [
        {
          "output_type": "execute_result",
          "data": {
            "text/plain": [
              "array([2, 2, 2, 0, 1, 1, 1, 0, 1, 1, 1, 0, 2, 2, 2, 0, 1, 1, 1, 0, 1, 1,\n",
              "       1, 0, 2, 2, 2, 0, 1, 1, 1, 0, 1, 1, 1, 0, 2, 2, 2, 0, 1, 1, 1, 0,\n",
              "       1, 1, 1, 0])"
            ]
          },
          "metadata": {},
          "execution_count": 29
        }
      ]
    },
    {
      "cell_type": "code",
      "source": [
        "df_T1.index"
      ],
      "metadata": {
        "colab": {
          "base_uri": "https://localhost:8080/"
        },
        "id": "Q2MYRMLgHRfc",
        "outputId": "fadf1556-8da6-48ce-d62a-e7d02f1d1cbb"
      },
      "execution_count": 30,
      "outputs": [
        {
          "output_type": "execute_result",
          "data": {
            "text/plain": [
              "Index(['H223', 'H224', 'H225', 'H226', 'H227', 'H228', 'H229', 'H230', 'H231',\n",
              "       'H232', 'H233', 'H234', 'H235', 'H236', 'H237', 'H238', 'H239', 'H240',\n",
              "       'H241', 'H242', 'H243', 'H244', 'H245', 'H246', 'H247', 'H248', 'H249',\n",
              "       'H250', 'H251', 'H252', 'H253', 'H254', 'H255', 'H256', 'H257', 'H258',\n",
              "       'H259', 'H260', 'H261', 'H262', 'H263', 'H264', 'H265', 'H266', 'H267',\n",
              "       'H268', 'H269', 'H270'],\n",
              "      dtype='object')"
            ]
          },
          "metadata": {},
          "execution_count": 30
        }
      ]
    },
    {
      "cell_type": "code",
      "source": [
        "list2 = [2, 2, 2, 0, 1, 1, 1, 0, 1, 1, 1, 0, 2, 2, 2, 0, 1, 1, 1, 0, 1, 1,\n",
        "       1, 0, 2, 2, 2, 0, 1, 1, 1, 0, 1, 1, 1, 0, 2, 2, 2, 0, 1, 1, 1, 0,\n",
        "       1, 1, 1, 0]\n",
        "list1 = ['H223', 'H224', 'H225', 'H226', 'H227', 'H228', 'H229', 'H230', 'H231', 'H232', 'H233', 'H234', 'H235', 'H236', 'H237', 'H238', 'H239', 'H240', 'H241', 'H242', 'H243', 'H244', 'H245', 'H246', 'H247', 'H248', 'H249', 'H250', 'H251', 'H252', 'H253', 'H254', 'H255', 'H256', 'H257', 'H258', 'H259', 'H260', 'H261', 'H262', 'H263', 'H264', 'H265', 'H266', 'H267', 'H268', 'H269', 'H270']"
      ],
      "metadata": {
        "id": "q8HjhgCA6dyN"
      },
      "execution_count": 31,
      "outputs": []
    },
    {
      "cell_type": "code",
      "source": [
        "zipped = list(zip(list2, list1))\n",
        "df_familias= pd.DataFrame(zipped, columns=['Familia','Pessoas'])"
      ],
      "metadata": {
        "id": "XjktQVzY9rog"
      },
      "execution_count": 32,
      "outputs": []
    },
    {
      "cell_type": "code",
      "source": [
        "df_familias.head()"
      ],
      "metadata": {
        "colab": {
          "base_uri": "https://localhost:8080/",
          "height": 206
        },
        "id": "R4oiSpAz-0LL",
        "outputId": "17ae7ced-4cda-4853-8195-a35ef5caab46"
      },
      "execution_count": 33,
      "outputs": [
        {
          "output_type": "execute_result",
          "data": {
            "text/plain": [
              "   Familia Pessoas\n",
              "0        2    H223\n",
              "1        2    H224\n",
              "2        2    H225\n",
              "3        0    H226\n",
              "4        1    H227"
            ],
            "text/html": [
              "\n",
              "  <div id=\"df-378ba8b8-af6b-47d1-9a0b-10f4b045d3d2\">\n",
              "    <div class=\"colab-df-container\">\n",
              "      <div>\n",
              "<style scoped>\n",
              "    .dataframe tbody tr th:only-of-type {\n",
              "        vertical-align: middle;\n",
              "    }\n",
              "\n",
              "    .dataframe tbody tr th {\n",
              "        vertical-align: top;\n",
              "    }\n",
              "\n",
              "    .dataframe thead th {\n",
              "        text-align: right;\n",
              "    }\n",
              "</style>\n",
              "<table border=\"1\" class=\"dataframe\">\n",
              "  <thead>\n",
              "    <tr style=\"text-align: right;\">\n",
              "      <th></th>\n",
              "      <th>Familia</th>\n",
              "      <th>Pessoas</th>\n",
              "    </tr>\n",
              "  </thead>\n",
              "  <tbody>\n",
              "    <tr>\n",
              "      <th>0</th>\n",
              "      <td>2</td>\n",
              "      <td>H223</td>\n",
              "    </tr>\n",
              "    <tr>\n",
              "      <th>1</th>\n",
              "      <td>2</td>\n",
              "      <td>H224</td>\n",
              "    </tr>\n",
              "    <tr>\n",
              "      <th>2</th>\n",
              "      <td>2</td>\n",
              "      <td>H225</td>\n",
              "    </tr>\n",
              "    <tr>\n",
              "      <th>3</th>\n",
              "      <td>0</td>\n",
              "      <td>H226</td>\n",
              "    </tr>\n",
              "    <tr>\n",
              "      <th>4</th>\n",
              "      <td>1</td>\n",
              "      <td>H227</td>\n",
              "    </tr>\n",
              "  </tbody>\n",
              "</table>\n",
              "</div>\n",
              "      <button class=\"colab-df-convert\" onclick=\"convertToInteractive('df-378ba8b8-af6b-47d1-9a0b-10f4b045d3d2')\"\n",
              "              title=\"Convert this dataframe to an interactive table.\"\n",
              "              style=\"display:none;\">\n",
              "        \n",
              "  <svg xmlns=\"http://www.w3.org/2000/svg\" height=\"24px\"viewBox=\"0 0 24 24\"\n",
              "       width=\"24px\">\n",
              "    <path d=\"M0 0h24v24H0V0z\" fill=\"none\"/>\n",
              "    <path d=\"M18.56 5.44l.94 2.06.94-2.06 2.06-.94-2.06-.94-.94-2.06-.94 2.06-2.06.94zm-11 1L8.5 8.5l.94-2.06 2.06-.94-2.06-.94L8.5 2.5l-.94 2.06-2.06.94zm10 10l.94 2.06.94-2.06 2.06-.94-2.06-.94-.94-2.06-.94 2.06-2.06.94z\"/><path d=\"M17.41 7.96l-1.37-1.37c-.4-.4-.92-.59-1.43-.59-.52 0-1.04.2-1.43.59L10.3 9.45l-7.72 7.72c-.78.78-.78 2.05 0 2.83L4 21.41c.39.39.9.59 1.41.59.51 0 1.02-.2 1.41-.59l7.78-7.78 2.81-2.81c.8-.78.8-2.07 0-2.86zM5.41 20L4 18.59l7.72-7.72 1.47 1.35L5.41 20z\"/>\n",
              "  </svg>\n",
              "      </button>\n",
              "      \n",
              "  <style>\n",
              "    .colab-df-container {\n",
              "      display:flex;\n",
              "      flex-wrap:wrap;\n",
              "      gap: 12px;\n",
              "    }\n",
              "\n",
              "    .colab-df-convert {\n",
              "      background-color: #E8F0FE;\n",
              "      border: none;\n",
              "      border-radius: 50%;\n",
              "      cursor: pointer;\n",
              "      display: none;\n",
              "      fill: #1967D2;\n",
              "      height: 32px;\n",
              "      padding: 0 0 0 0;\n",
              "      width: 32px;\n",
              "    }\n",
              "\n",
              "    .colab-df-convert:hover {\n",
              "      background-color: #E2EBFA;\n",
              "      box-shadow: 0px 1px 2px rgba(60, 64, 67, 0.3), 0px 1px 3px 1px rgba(60, 64, 67, 0.15);\n",
              "      fill: #174EA6;\n",
              "    }\n",
              "\n",
              "    [theme=dark] .colab-df-convert {\n",
              "      background-color: #3B4455;\n",
              "      fill: #D2E3FC;\n",
              "    }\n",
              "\n",
              "    [theme=dark] .colab-df-convert:hover {\n",
              "      background-color: #434B5C;\n",
              "      box-shadow: 0px 1px 3px 1px rgba(0, 0, 0, 0.15);\n",
              "      filter: drop-shadow(0px 1px 2px rgba(0, 0, 0, 0.3));\n",
              "      fill: #FFFFFF;\n",
              "    }\n",
              "  </style>\n",
              "\n",
              "      <script>\n",
              "        const buttonEl =\n",
              "          document.querySelector('#df-378ba8b8-af6b-47d1-9a0b-10f4b045d3d2 button.colab-df-convert');\n",
              "        buttonEl.style.display =\n",
              "          google.colab.kernel.accessAllowed ? 'block' : 'none';\n",
              "\n",
              "        async function convertToInteractive(key) {\n",
              "          const element = document.querySelector('#df-378ba8b8-af6b-47d1-9a0b-10f4b045d3d2');\n",
              "          const dataTable =\n",
              "            await google.colab.kernel.invokeFunction('convertToInteractive',\n",
              "                                                     [key], {});\n",
              "          if (!dataTable) return;\n",
              "\n",
              "          const docLinkHtml = 'Like what you see? Visit the ' +\n",
              "            '<a target=\"_blank\" href=https://colab.research.google.com/notebooks/data_table.ipynb>data table notebook</a>'\n",
              "            + ' to learn more about interactive tables.';\n",
              "          element.innerHTML = '';\n",
              "          dataTable['output_type'] = 'display_data';\n",
              "          await google.colab.output.renderOutput(dataTable, element);\n",
              "          const docLink = document.createElement('div');\n",
              "          docLink.innerHTML = docLinkHtml;\n",
              "          element.appendChild(docLink);\n",
              "        }\n",
              "      </script>\n",
              "    </div>\n",
              "  </div>\n",
              "  "
            ]
          },
          "metadata": {},
          "execution_count": 33
        }
      ]
    },
    {
      "cell_type": "markdown",
      "source": [
        "De acordo com o resultado do dendograma, e do número de clusters considerados para agrupamento dos parentes, temos no sentido da esquerda para direita no eixo horizontal:\n",
        "* 1ª família: 12 parentes \n",
        "* 2ª família: 24 parentes\n",
        "* 3ª família: 12 parentes"
      ],
      "metadata": {
        "id": "_N-3xG7BzaBi"
      }
    },
    {
      "cell_type": "markdown",
      "source": [
        "Parentes da 1ª família:"
      ],
      "metadata": {
        "id": "qw60xDDQHA61"
      }
    },
    {
      "cell_type": "code",
      "source": [
        "df1 = df_familias.loc[df_familias['Familia']==0].T\n",
        "df1"
      ],
      "metadata": {
        "colab": {
          "base_uri": "https://localhost:8080/",
          "height": 112
        },
        "id": "wIUeLhSo-_5b",
        "outputId": "4f7a1190-57f0-4dc0-e5a0-a9357531c845"
      },
      "execution_count": 34,
      "outputs": [
        {
          "output_type": "execute_result",
          "data": {
            "text/plain": [
              "           3     7     11    15    19    23    27    31    35    39    43  \\\n",
              "Familia     0     0     0     0     0     0     0     0     0     0     0   \n",
              "Pessoas  H226  H230  H234  H238  H242  H246  H250  H254  H258  H262  H266   \n",
              "\n",
              "           47  \n",
              "Familia     0  \n",
              "Pessoas  H270  "
            ],
            "text/html": [
              "\n",
              "  <div id=\"df-d8073268-9c8c-444f-b4fb-2d61dc049fc9\">\n",
              "    <div class=\"colab-df-container\">\n",
              "      <div>\n",
              "<style scoped>\n",
              "    .dataframe tbody tr th:only-of-type {\n",
              "        vertical-align: middle;\n",
              "    }\n",
              "\n",
              "    .dataframe tbody tr th {\n",
              "        vertical-align: top;\n",
              "    }\n",
              "\n",
              "    .dataframe thead th {\n",
              "        text-align: right;\n",
              "    }\n",
              "</style>\n",
              "<table border=\"1\" class=\"dataframe\">\n",
              "  <thead>\n",
              "    <tr style=\"text-align: right;\">\n",
              "      <th></th>\n",
              "      <th>3</th>\n",
              "      <th>7</th>\n",
              "      <th>11</th>\n",
              "      <th>15</th>\n",
              "      <th>19</th>\n",
              "      <th>23</th>\n",
              "      <th>27</th>\n",
              "      <th>31</th>\n",
              "      <th>35</th>\n",
              "      <th>39</th>\n",
              "      <th>43</th>\n",
              "      <th>47</th>\n",
              "    </tr>\n",
              "  </thead>\n",
              "  <tbody>\n",
              "    <tr>\n",
              "      <th>Familia</th>\n",
              "      <td>0</td>\n",
              "      <td>0</td>\n",
              "      <td>0</td>\n",
              "      <td>0</td>\n",
              "      <td>0</td>\n",
              "      <td>0</td>\n",
              "      <td>0</td>\n",
              "      <td>0</td>\n",
              "      <td>0</td>\n",
              "      <td>0</td>\n",
              "      <td>0</td>\n",
              "      <td>0</td>\n",
              "    </tr>\n",
              "    <tr>\n",
              "      <th>Pessoas</th>\n",
              "      <td>H226</td>\n",
              "      <td>H230</td>\n",
              "      <td>H234</td>\n",
              "      <td>H238</td>\n",
              "      <td>H242</td>\n",
              "      <td>H246</td>\n",
              "      <td>H250</td>\n",
              "      <td>H254</td>\n",
              "      <td>H258</td>\n",
              "      <td>H262</td>\n",
              "      <td>H266</td>\n",
              "      <td>H270</td>\n",
              "    </tr>\n",
              "  </tbody>\n",
              "</table>\n",
              "</div>\n",
              "      <button class=\"colab-df-convert\" onclick=\"convertToInteractive('df-d8073268-9c8c-444f-b4fb-2d61dc049fc9')\"\n",
              "              title=\"Convert this dataframe to an interactive table.\"\n",
              "              style=\"display:none;\">\n",
              "        \n",
              "  <svg xmlns=\"http://www.w3.org/2000/svg\" height=\"24px\"viewBox=\"0 0 24 24\"\n",
              "       width=\"24px\">\n",
              "    <path d=\"M0 0h24v24H0V0z\" fill=\"none\"/>\n",
              "    <path d=\"M18.56 5.44l.94 2.06.94-2.06 2.06-.94-2.06-.94-.94-2.06-.94 2.06-2.06.94zm-11 1L8.5 8.5l.94-2.06 2.06-.94-2.06-.94L8.5 2.5l-.94 2.06-2.06.94zm10 10l.94 2.06.94-2.06 2.06-.94-2.06-.94-.94-2.06-.94 2.06-2.06.94z\"/><path d=\"M17.41 7.96l-1.37-1.37c-.4-.4-.92-.59-1.43-.59-.52 0-1.04.2-1.43.59L10.3 9.45l-7.72 7.72c-.78.78-.78 2.05 0 2.83L4 21.41c.39.39.9.59 1.41.59.51 0 1.02-.2 1.41-.59l7.78-7.78 2.81-2.81c.8-.78.8-2.07 0-2.86zM5.41 20L4 18.59l7.72-7.72 1.47 1.35L5.41 20z\"/>\n",
              "  </svg>\n",
              "      </button>\n",
              "      \n",
              "  <style>\n",
              "    .colab-df-container {\n",
              "      display:flex;\n",
              "      flex-wrap:wrap;\n",
              "      gap: 12px;\n",
              "    }\n",
              "\n",
              "    .colab-df-convert {\n",
              "      background-color: #E8F0FE;\n",
              "      border: none;\n",
              "      border-radius: 50%;\n",
              "      cursor: pointer;\n",
              "      display: none;\n",
              "      fill: #1967D2;\n",
              "      height: 32px;\n",
              "      padding: 0 0 0 0;\n",
              "      width: 32px;\n",
              "    }\n",
              "\n",
              "    .colab-df-convert:hover {\n",
              "      background-color: #E2EBFA;\n",
              "      box-shadow: 0px 1px 2px rgba(60, 64, 67, 0.3), 0px 1px 3px 1px rgba(60, 64, 67, 0.15);\n",
              "      fill: #174EA6;\n",
              "    }\n",
              "\n",
              "    [theme=dark] .colab-df-convert {\n",
              "      background-color: #3B4455;\n",
              "      fill: #D2E3FC;\n",
              "    }\n",
              "\n",
              "    [theme=dark] .colab-df-convert:hover {\n",
              "      background-color: #434B5C;\n",
              "      box-shadow: 0px 1px 3px 1px rgba(0, 0, 0, 0.15);\n",
              "      filter: drop-shadow(0px 1px 2px rgba(0, 0, 0, 0.3));\n",
              "      fill: #FFFFFF;\n",
              "    }\n",
              "  </style>\n",
              "\n",
              "      <script>\n",
              "        const buttonEl =\n",
              "          document.querySelector('#df-d8073268-9c8c-444f-b4fb-2d61dc049fc9 button.colab-df-convert');\n",
              "        buttonEl.style.display =\n",
              "          google.colab.kernel.accessAllowed ? 'block' : 'none';\n",
              "\n",
              "        async function convertToInteractive(key) {\n",
              "          const element = document.querySelector('#df-d8073268-9c8c-444f-b4fb-2d61dc049fc9');\n",
              "          const dataTable =\n",
              "            await google.colab.kernel.invokeFunction('convertToInteractive',\n",
              "                                                     [key], {});\n",
              "          if (!dataTable) return;\n",
              "\n",
              "          const docLinkHtml = 'Like what you see? Visit the ' +\n",
              "            '<a target=\"_blank\" href=https://colab.research.google.com/notebooks/data_table.ipynb>data table notebook</a>'\n",
              "            + ' to learn more about interactive tables.';\n",
              "          element.innerHTML = '';\n",
              "          dataTable['output_type'] = 'display_data';\n",
              "          await google.colab.output.renderOutput(dataTable, element);\n",
              "          const docLink = document.createElement('div');\n",
              "          docLink.innerHTML = docLinkHtml;\n",
              "          element.appendChild(docLink);\n",
              "        }\n",
              "      </script>\n",
              "    </div>\n",
              "  </div>\n",
              "  "
            ]
          },
          "metadata": {},
          "execution_count": 34
        }
      ]
    },
    {
      "cell_type": "markdown",
      "source": [
        "Parentes da 2ª família:"
      ],
      "metadata": {
        "id": "4djuKoGCHHzm"
      }
    },
    {
      "cell_type": "code",
      "source": [
        "df2 = df_familias.loc[df_familias['Familia']==1].T\n",
        "df2"
      ],
      "metadata": {
        "colab": {
          "base_uri": "https://localhost:8080/",
          "height": 141
        },
        "id": "Poocwl-nGUr9",
        "outputId": "eb71f407-d373-445e-aae4-3558582c1ebb"
      },
      "execution_count": 35,
      "outputs": [
        {
          "output_type": "execute_result",
          "data": {
            "text/plain": [
              "           4     5     6     8     9     10    16    17    18    20  ...  \\\n",
              "Familia     1     1     1     1     1     1     1     1     1     1  ...   \n",
              "Pessoas  H227  H228  H229  H231  H232  H233  H239  H240  H241  H243  ...   \n",
              "\n",
              "           30    32    33    34    40    41    42    44    45    46  \n",
              "Familia     1     1     1     1     1     1     1     1     1     1  \n",
              "Pessoas  H253  H255  H256  H257  H263  H264  H265  H267  H268  H269  \n",
              "\n",
              "[2 rows x 24 columns]"
            ],
            "text/html": [
              "\n",
              "  <div id=\"df-a5d13e5b-0a27-45f1-a0d1-e2674335a42b\">\n",
              "    <div class=\"colab-df-container\">\n",
              "      <div>\n",
              "<style scoped>\n",
              "    .dataframe tbody tr th:only-of-type {\n",
              "        vertical-align: middle;\n",
              "    }\n",
              "\n",
              "    .dataframe tbody tr th {\n",
              "        vertical-align: top;\n",
              "    }\n",
              "\n",
              "    .dataframe thead th {\n",
              "        text-align: right;\n",
              "    }\n",
              "</style>\n",
              "<table border=\"1\" class=\"dataframe\">\n",
              "  <thead>\n",
              "    <tr style=\"text-align: right;\">\n",
              "      <th></th>\n",
              "      <th>4</th>\n",
              "      <th>5</th>\n",
              "      <th>6</th>\n",
              "      <th>8</th>\n",
              "      <th>9</th>\n",
              "      <th>10</th>\n",
              "      <th>16</th>\n",
              "      <th>17</th>\n",
              "      <th>18</th>\n",
              "      <th>20</th>\n",
              "      <th>...</th>\n",
              "      <th>30</th>\n",
              "      <th>32</th>\n",
              "      <th>33</th>\n",
              "      <th>34</th>\n",
              "      <th>40</th>\n",
              "      <th>41</th>\n",
              "      <th>42</th>\n",
              "      <th>44</th>\n",
              "      <th>45</th>\n",
              "      <th>46</th>\n",
              "    </tr>\n",
              "  </thead>\n",
              "  <tbody>\n",
              "    <tr>\n",
              "      <th>Familia</th>\n",
              "      <td>1</td>\n",
              "      <td>1</td>\n",
              "      <td>1</td>\n",
              "      <td>1</td>\n",
              "      <td>1</td>\n",
              "      <td>1</td>\n",
              "      <td>1</td>\n",
              "      <td>1</td>\n",
              "      <td>1</td>\n",
              "      <td>1</td>\n",
              "      <td>...</td>\n",
              "      <td>1</td>\n",
              "      <td>1</td>\n",
              "      <td>1</td>\n",
              "      <td>1</td>\n",
              "      <td>1</td>\n",
              "      <td>1</td>\n",
              "      <td>1</td>\n",
              "      <td>1</td>\n",
              "      <td>1</td>\n",
              "      <td>1</td>\n",
              "    </tr>\n",
              "    <tr>\n",
              "      <th>Pessoas</th>\n",
              "      <td>H227</td>\n",
              "      <td>H228</td>\n",
              "      <td>H229</td>\n",
              "      <td>H231</td>\n",
              "      <td>H232</td>\n",
              "      <td>H233</td>\n",
              "      <td>H239</td>\n",
              "      <td>H240</td>\n",
              "      <td>H241</td>\n",
              "      <td>H243</td>\n",
              "      <td>...</td>\n",
              "      <td>H253</td>\n",
              "      <td>H255</td>\n",
              "      <td>H256</td>\n",
              "      <td>H257</td>\n",
              "      <td>H263</td>\n",
              "      <td>H264</td>\n",
              "      <td>H265</td>\n",
              "      <td>H267</td>\n",
              "      <td>H268</td>\n",
              "      <td>H269</td>\n",
              "    </tr>\n",
              "  </tbody>\n",
              "</table>\n",
              "<p>2 rows × 24 columns</p>\n",
              "</div>\n",
              "      <button class=\"colab-df-convert\" onclick=\"convertToInteractive('df-a5d13e5b-0a27-45f1-a0d1-e2674335a42b')\"\n",
              "              title=\"Convert this dataframe to an interactive table.\"\n",
              "              style=\"display:none;\">\n",
              "        \n",
              "  <svg xmlns=\"http://www.w3.org/2000/svg\" height=\"24px\"viewBox=\"0 0 24 24\"\n",
              "       width=\"24px\">\n",
              "    <path d=\"M0 0h24v24H0V0z\" fill=\"none\"/>\n",
              "    <path d=\"M18.56 5.44l.94 2.06.94-2.06 2.06-.94-2.06-.94-.94-2.06-.94 2.06-2.06.94zm-11 1L8.5 8.5l.94-2.06 2.06-.94-2.06-.94L8.5 2.5l-.94 2.06-2.06.94zm10 10l.94 2.06.94-2.06 2.06-.94-2.06-.94-.94-2.06-.94 2.06-2.06.94z\"/><path d=\"M17.41 7.96l-1.37-1.37c-.4-.4-.92-.59-1.43-.59-.52 0-1.04.2-1.43.59L10.3 9.45l-7.72 7.72c-.78.78-.78 2.05 0 2.83L4 21.41c.39.39.9.59 1.41.59.51 0 1.02-.2 1.41-.59l7.78-7.78 2.81-2.81c.8-.78.8-2.07 0-2.86zM5.41 20L4 18.59l7.72-7.72 1.47 1.35L5.41 20z\"/>\n",
              "  </svg>\n",
              "      </button>\n",
              "      \n",
              "  <style>\n",
              "    .colab-df-container {\n",
              "      display:flex;\n",
              "      flex-wrap:wrap;\n",
              "      gap: 12px;\n",
              "    }\n",
              "\n",
              "    .colab-df-convert {\n",
              "      background-color: #E8F0FE;\n",
              "      border: none;\n",
              "      border-radius: 50%;\n",
              "      cursor: pointer;\n",
              "      display: none;\n",
              "      fill: #1967D2;\n",
              "      height: 32px;\n",
              "      padding: 0 0 0 0;\n",
              "      width: 32px;\n",
              "    }\n",
              "\n",
              "    .colab-df-convert:hover {\n",
              "      background-color: #E2EBFA;\n",
              "      box-shadow: 0px 1px 2px rgba(60, 64, 67, 0.3), 0px 1px 3px 1px rgba(60, 64, 67, 0.15);\n",
              "      fill: #174EA6;\n",
              "    }\n",
              "\n",
              "    [theme=dark] .colab-df-convert {\n",
              "      background-color: #3B4455;\n",
              "      fill: #D2E3FC;\n",
              "    }\n",
              "\n",
              "    [theme=dark] .colab-df-convert:hover {\n",
              "      background-color: #434B5C;\n",
              "      box-shadow: 0px 1px 3px 1px rgba(0, 0, 0, 0.15);\n",
              "      filter: drop-shadow(0px 1px 2px rgba(0, 0, 0, 0.3));\n",
              "      fill: #FFFFFF;\n",
              "    }\n",
              "  </style>\n",
              "\n",
              "      <script>\n",
              "        const buttonEl =\n",
              "          document.querySelector('#df-a5d13e5b-0a27-45f1-a0d1-e2674335a42b button.colab-df-convert');\n",
              "        buttonEl.style.display =\n",
              "          google.colab.kernel.accessAllowed ? 'block' : 'none';\n",
              "\n",
              "        async function convertToInteractive(key) {\n",
              "          const element = document.querySelector('#df-a5d13e5b-0a27-45f1-a0d1-e2674335a42b');\n",
              "          const dataTable =\n",
              "            await google.colab.kernel.invokeFunction('convertToInteractive',\n",
              "                                                     [key], {});\n",
              "          if (!dataTable) return;\n",
              "\n",
              "          const docLinkHtml = 'Like what you see? Visit the ' +\n",
              "            '<a target=\"_blank\" href=https://colab.research.google.com/notebooks/data_table.ipynb>data table notebook</a>'\n",
              "            + ' to learn more about interactive tables.';\n",
              "          element.innerHTML = '';\n",
              "          dataTable['output_type'] = 'display_data';\n",
              "          await google.colab.output.renderOutput(dataTable, element);\n",
              "          const docLink = document.createElement('div');\n",
              "          docLink.innerHTML = docLinkHtml;\n",
              "          element.appendChild(docLink);\n",
              "        }\n",
              "      </script>\n",
              "    </div>\n",
              "  </div>\n",
              "  "
            ]
          },
          "metadata": {},
          "execution_count": 35
        }
      ]
    },
    {
      "cell_type": "markdown",
      "source": [
        "Parentes da 3ª família:"
      ],
      "metadata": {
        "id": "5hTQ8BjjHKOs"
      }
    },
    {
      "cell_type": "code",
      "source": [
        "df3 = df_familias.loc[df_familias['Familia']==2].T\n",
        "df3"
      ],
      "metadata": {
        "colab": {
          "base_uri": "https://localhost:8080/",
          "height": 112
        },
        "id": "V5zSMU1tGc7d",
        "outputId": "c6697214-ee7b-444d-9920-bac4ee6e1375"
      },
      "execution_count": 36,
      "outputs": [
        {
          "output_type": "execute_result",
          "data": {
            "text/plain": [
              "           0     1     2     12    13    14    24    25    26    36    37  \\\n",
              "Familia     2     2     2     2     2     2     2     2     2     2     2   \n",
              "Pessoas  H223  H224  H225  H235  H236  H237  H247  H248  H249  H259  H260   \n",
              "\n",
              "           38  \n",
              "Familia     2  \n",
              "Pessoas  H261  "
            ],
            "text/html": [
              "\n",
              "  <div id=\"df-21a84edc-c5d4-470e-a276-30739006d2d5\">\n",
              "    <div class=\"colab-df-container\">\n",
              "      <div>\n",
              "<style scoped>\n",
              "    .dataframe tbody tr th:only-of-type {\n",
              "        vertical-align: middle;\n",
              "    }\n",
              "\n",
              "    .dataframe tbody tr th {\n",
              "        vertical-align: top;\n",
              "    }\n",
              "\n",
              "    .dataframe thead th {\n",
              "        text-align: right;\n",
              "    }\n",
              "</style>\n",
              "<table border=\"1\" class=\"dataframe\">\n",
              "  <thead>\n",
              "    <tr style=\"text-align: right;\">\n",
              "      <th></th>\n",
              "      <th>0</th>\n",
              "      <th>1</th>\n",
              "      <th>2</th>\n",
              "      <th>12</th>\n",
              "      <th>13</th>\n",
              "      <th>14</th>\n",
              "      <th>24</th>\n",
              "      <th>25</th>\n",
              "      <th>26</th>\n",
              "      <th>36</th>\n",
              "      <th>37</th>\n",
              "      <th>38</th>\n",
              "    </tr>\n",
              "  </thead>\n",
              "  <tbody>\n",
              "    <tr>\n",
              "      <th>Familia</th>\n",
              "      <td>2</td>\n",
              "      <td>2</td>\n",
              "      <td>2</td>\n",
              "      <td>2</td>\n",
              "      <td>2</td>\n",
              "      <td>2</td>\n",
              "      <td>2</td>\n",
              "      <td>2</td>\n",
              "      <td>2</td>\n",
              "      <td>2</td>\n",
              "      <td>2</td>\n",
              "      <td>2</td>\n",
              "    </tr>\n",
              "    <tr>\n",
              "      <th>Pessoas</th>\n",
              "      <td>H223</td>\n",
              "      <td>H224</td>\n",
              "      <td>H225</td>\n",
              "      <td>H235</td>\n",
              "      <td>H236</td>\n",
              "      <td>H237</td>\n",
              "      <td>H247</td>\n",
              "      <td>H248</td>\n",
              "      <td>H249</td>\n",
              "      <td>H259</td>\n",
              "      <td>H260</td>\n",
              "      <td>H261</td>\n",
              "    </tr>\n",
              "  </tbody>\n",
              "</table>\n",
              "</div>\n",
              "      <button class=\"colab-df-convert\" onclick=\"convertToInteractive('df-21a84edc-c5d4-470e-a276-30739006d2d5')\"\n",
              "              title=\"Convert this dataframe to an interactive table.\"\n",
              "              style=\"display:none;\">\n",
              "        \n",
              "  <svg xmlns=\"http://www.w3.org/2000/svg\" height=\"24px\"viewBox=\"0 0 24 24\"\n",
              "       width=\"24px\">\n",
              "    <path d=\"M0 0h24v24H0V0z\" fill=\"none\"/>\n",
              "    <path d=\"M18.56 5.44l.94 2.06.94-2.06 2.06-.94-2.06-.94-.94-2.06-.94 2.06-2.06.94zm-11 1L8.5 8.5l.94-2.06 2.06-.94-2.06-.94L8.5 2.5l-.94 2.06-2.06.94zm10 10l.94 2.06.94-2.06 2.06-.94-2.06-.94-.94-2.06-.94 2.06-2.06.94z\"/><path d=\"M17.41 7.96l-1.37-1.37c-.4-.4-.92-.59-1.43-.59-.52 0-1.04.2-1.43.59L10.3 9.45l-7.72 7.72c-.78.78-.78 2.05 0 2.83L4 21.41c.39.39.9.59 1.41.59.51 0 1.02-.2 1.41-.59l7.78-7.78 2.81-2.81c.8-.78.8-2.07 0-2.86zM5.41 20L4 18.59l7.72-7.72 1.47 1.35L5.41 20z\"/>\n",
              "  </svg>\n",
              "      </button>\n",
              "      \n",
              "  <style>\n",
              "    .colab-df-container {\n",
              "      display:flex;\n",
              "      flex-wrap:wrap;\n",
              "      gap: 12px;\n",
              "    }\n",
              "\n",
              "    .colab-df-convert {\n",
              "      background-color: #E8F0FE;\n",
              "      border: none;\n",
              "      border-radius: 50%;\n",
              "      cursor: pointer;\n",
              "      display: none;\n",
              "      fill: #1967D2;\n",
              "      height: 32px;\n",
              "      padding: 0 0 0 0;\n",
              "      width: 32px;\n",
              "    }\n",
              "\n",
              "    .colab-df-convert:hover {\n",
              "      background-color: #E2EBFA;\n",
              "      box-shadow: 0px 1px 2px rgba(60, 64, 67, 0.3), 0px 1px 3px 1px rgba(60, 64, 67, 0.15);\n",
              "      fill: #174EA6;\n",
              "    }\n",
              "\n",
              "    [theme=dark] .colab-df-convert {\n",
              "      background-color: #3B4455;\n",
              "      fill: #D2E3FC;\n",
              "    }\n",
              "\n",
              "    [theme=dark] .colab-df-convert:hover {\n",
              "      background-color: #434B5C;\n",
              "      box-shadow: 0px 1px 3px 1px rgba(0, 0, 0, 0.15);\n",
              "      filter: drop-shadow(0px 1px 2px rgba(0, 0, 0, 0.3));\n",
              "      fill: #FFFFFF;\n",
              "    }\n",
              "  </style>\n",
              "\n",
              "      <script>\n",
              "        const buttonEl =\n",
              "          document.querySelector('#df-21a84edc-c5d4-470e-a276-30739006d2d5 button.colab-df-convert');\n",
              "        buttonEl.style.display =\n",
              "          google.colab.kernel.accessAllowed ? 'block' : 'none';\n",
              "\n",
              "        async function convertToInteractive(key) {\n",
              "          const element = document.querySelector('#df-21a84edc-c5d4-470e-a276-30739006d2d5');\n",
              "          const dataTable =\n",
              "            await google.colab.kernel.invokeFunction('convertToInteractive',\n",
              "                                                     [key], {});\n",
              "          if (!dataTable) return;\n",
              "\n",
              "          const docLinkHtml = 'Like what you see? Visit the ' +\n",
              "            '<a target=\"_blank\" href=https://colab.research.google.com/notebooks/data_table.ipynb>data table notebook</a>'\n",
              "            + ' to learn more about interactive tables.';\n",
              "          element.innerHTML = '';\n",
              "          dataTable['output_type'] = 'display_data';\n",
              "          await google.colab.output.renderOutput(dataTable, element);\n",
              "          const docLink = document.createElement('div');\n",
              "          docLink.innerHTML = docLinkHtml;\n",
              "          element.appendChild(docLink);\n",
              "        }\n",
              "      </script>\n",
              "    </div>\n",
              "  </div>\n",
              "  "
            ]
          },
          "metadata": {},
          "execution_count": 36
        }
      ]
    }
  ],
  "metadata": {
    "colab": {
      "name": "Clusterização IDs genéticos.ipynb",
      "provenance": [],
      "include_colab_link": true
    },
    "kernelspec": {
      "display_name": "Python 3",
      "name": "python3"
    },
    "language_info": {
      "name": "python"
    }
  },
  "nbformat": 4,
  "nbformat_minor": 0
}